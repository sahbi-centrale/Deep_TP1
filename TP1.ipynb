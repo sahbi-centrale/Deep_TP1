{
 "cells": [
  {
   "attachments": {},
   "cell_type": "markdown",
   "metadata": {},
   "source": [
    "## Multi-classification problem\n"
   ]
  },
  {
   "cell_type": "code",
   "execution_count": 6,
   "metadata": {},
   "outputs": [
    {
     "name": "stdout",
     "output_type": "stream",
     "text": [
      "Requirement already satisfied: torch in /Library/Frameworks/Python.framework/Versions/3.8/lib/python3.8/site-packages (2.2.0)\n",
      "Requirement already satisfied: torchvision in /Library/Frameworks/Python.framework/Versions/3.8/lib/python3.8/site-packages (0.17.0)\n",
      "Requirement already satisfied: matplotlib in /Library/Frameworks/Python.framework/Versions/3.8/lib/python3.8/site-packages (3.7.4)\n",
      "Requirement already satisfied: pandas in /Library/Frameworks/Python.framework/Versions/3.8/lib/python3.8/site-packages (1.5.3)\n",
      "Requirement already satisfied: seaborn in /Library/Frameworks/Python.framework/Versions/3.8/lib/python3.8/site-packages (0.13.1)\n",
      "Requirement already satisfied: requests in /Library/Frameworks/Python.framework/Versions/3.8/lib/python3.8/site-packages (2.31.0)\n",
      "Requirement already satisfied: filelock in /Library/Frameworks/Python.framework/Versions/3.8/lib/python3.8/site-packages (from torch) (3.13.1)\n",
      "Requirement already satisfied: typing-extensions>=4.8.0 in /Library/Frameworks/Python.framework/Versions/3.8/lib/python3.8/site-packages (from torch) (4.9.0)\n",
      "Requirement already satisfied: sympy in /Library/Frameworks/Python.framework/Versions/3.8/lib/python3.8/site-packages (from torch) (1.12)\n",
      "Requirement already satisfied: networkx in /Library/Frameworks/Python.framework/Versions/3.8/lib/python3.8/site-packages (from torch) (3.1)\n",
      "Requirement already satisfied: jinja2 in /Library/Frameworks/Python.framework/Versions/3.8/lib/python3.8/site-packages (from torch) (3.1.2)\n",
      "Requirement already satisfied: fsspec in /Library/Frameworks/Python.framework/Versions/3.8/lib/python3.8/site-packages (from torch) (2023.12.2)\n",
      "Requirement already satisfied: numpy in /Library/Frameworks/Python.framework/Versions/3.8/lib/python3.8/site-packages (from torchvision) (1.24.4)\n",
      "Requirement already satisfied: pillow!=8.3.*,>=5.3.0 in /Library/Frameworks/Python.framework/Versions/3.8/lib/python3.8/site-packages (from torchvision) (10.1.0)\n",
      "Requirement already satisfied: contourpy>=1.0.1 in /Library/Frameworks/Python.framework/Versions/3.8/lib/python3.8/site-packages (from matplotlib) (1.1.1)\n",
      "Requirement already satisfied: cycler>=0.10 in /Library/Frameworks/Python.framework/Versions/3.8/lib/python3.8/site-packages (from matplotlib) (0.12.1)\n",
      "Requirement already satisfied: fonttools>=4.22.0 in /Library/Frameworks/Python.framework/Versions/3.8/lib/python3.8/site-packages (from matplotlib) (4.47.0)\n",
      "Requirement already satisfied: kiwisolver>=1.0.1 in /Library/Frameworks/Python.framework/Versions/3.8/lib/python3.8/site-packages (from matplotlib) (1.4.5)\n",
      "Requirement already satisfied: packaging>=20.0 in /Users/hanafisahbi/Library/Python/3.8/lib/python/site-packages (from matplotlib) (23.2)\n",
      "Requirement already satisfied: pyparsing>=2.3.1 in /Library/Frameworks/Python.framework/Versions/3.8/lib/python3.8/site-packages (from matplotlib) (3.1.1)\n",
      "Requirement already satisfied: python-dateutil>=2.7 in /Users/hanafisahbi/Library/Python/3.8/lib/python/site-packages (from matplotlib) (2.8.2)\n",
      "Requirement already satisfied: importlib-resources>=3.2.0 in /Library/Frameworks/Python.framework/Versions/3.8/lib/python3.8/site-packages (from matplotlib) (6.1.1)\n",
      "Requirement already satisfied: pytz>=2020.1 in /Library/Frameworks/Python.framework/Versions/3.8/lib/python3.8/site-packages (from pandas) (2023.3.post1)\n",
      "Requirement already satisfied: charset-normalizer<4,>=2 in /Library/Frameworks/Python.framework/Versions/3.8/lib/python3.8/site-packages (from requests) (3.3.2)\n",
      "Requirement already satisfied: idna<4,>=2.5 in /Library/Frameworks/Python.framework/Versions/3.8/lib/python3.8/site-packages (from requests) (3.6)\n",
      "Requirement already satisfied: urllib3<3,>=1.21.1 in /Library/Frameworks/Python.framework/Versions/3.8/lib/python3.8/site-packages (from requests) (2.1.0)\n",
      "Requirement already satisfied: certifi>=2017.4.17 in /Library/Frameworks/Python.framework/Versions/3.8/lib/python3.8/site-packages (from requests) (2023.11.17)\n",
      "Requirement already satisfied: zipp>=3.1.0 in /Users/hanafisahbi/Library/Python/3.8/lib/python/site-packages (from importlib-resources>=3.2.0->matplotlib) (3.17.0)\n",
      "Requirement already satisfied: six>=1.5 in /Users/hanafisahbi/Library/Python/3.8/lib/python/site-packages (from python-dateutil>=2.7->matplotlib) (1.16.0)\n",
      "Requirement already satisfied: MarkupSafe>=2.0 in /Library/Frameworks/Python.framework/Versions/3.8/lib/python3.8/site-packages (from jinja2->torch) (2.1.3)\n",
      "Requirement already satisfied: mpmath>=0.19 in /Library/Frameworks/Python.framework/Versions/3.8/lib/python3.8/site-packages (from sympy->torch) (1.3.0)\n"
     ]
    }
   ],
   "source": [
    "# Uncomment the next line to install packages\n",
    "!pip install torch torchvision matplotlib pandas seaborn requests "
   ]
  },
  {
   "cell_type": "code",
   "execution_count": 7,
   "metadata": {},
   "outputs": [],
   "source": [
    "import torch\n",
    "import torch.nn as nn\n",
    "import torch.nn.functional as F\n",
    "import torchvision\n",
    "import torchvision.transforms as transforms\n",
    "from torch.utils.data import DataLoader, random_split\n",
    "import requests\n",
    "import os\n",
    "\n",
    "\n",
    "import matplotlib.pyplot as plt\n",
    "\n",
    "%matplotlib inline"
   ]
  },
  {
   "cell_type": "markdown",
   "metadata": {},
   "source": [
    "## Load Data\n",
    "\n",
    "PyTorch provides two powerful data primitives: `torch.utils.data.DataLoader` and `torch.utils.data.Dataset` that allow you to use pre-loaded datasets as well as prepare your own data. `Dataset` stores the samples and their corresponding labels, and `DataLoader` wraps an iterable around the Dataset to enable easy access to the samples.\n",
    "\n",
    "### USPS Dataset\n",
    "* Handwritten digits with 10 classes\n",
    "* 16x16 pixels for each image \n",
    "* 6 000 data examples in training set, 1 291 examples in validation set, 2 007 in test set"
   ]
  },
  {
   "cell_type": "code",
   "execution_count": 8,
   "metadata": {},
   "outputs": [
    {
     "data": {
      "text/plain": [
       "6579383"
      ]
     },
     "execution_count": 8,
     "metadata": {},
     "output_type": "execute_result"
    }
   ],
   "source": [
    "url = 'https://www.csie.ntu.edu.tw/~cjlin/libsvmtools/datasets/multiclass/usps.bz2'\n",
    "r = requests.get(url, allow_redirects=True)\n",
    "if not os.path.isdir('USPS/'):\n",
    "    os.mkdir('USPS/')\n",
    "open('USPS/usps.bz2', 'wb').write(r.content)"
   ]
  },
  {
   "cell_type": "code",
   "execution_count": 9,
   "metadata": {},
   "outputs": [],
   "source": [
    "# Loading USPS dataset from torchvision.dataset\n",
    "dataset = torchvision.datasets.USPS(root='USPS/',\n",
    "                                           train=True, \n",
    "                                           transform=transforms.ToTensor(),\n",
    "                                           download=False)"
   ]
  },
  {
   "cell_type": "code",
   "execution_count": 10,
   "metadata": {},
   "outputs": [
    {
     "data": {
      "text/plain": [
       "Dataset USPS\n",
       "    Number of datapoints: 7291\n",
       "    Root location: USPS/\n",
       "    StandardTransform\n",
       "Transform: ToTensor()"
      ]
     },
     "execution_count": 10,
     "metadata": {},
     "output_type": "execute_result"
    }
   ],
   "source": [
    "# Get info from dataset\n",
    "dataset"
   ]
  },
  {
   "cell_type": "code",
   "execution_count": 11,
   "metadata": {},
   "outputs": [],
   "source": [
    "# Obtain the inputs and targets:\n",
    "inputs = dataset.data\n",
    "targets = dataset.targets"
   ]
  },
  {
   "cell_type": "code",
   "execution_count": 12,
   "metadata": {},
   "outputs": [
    {
     "data": {
      "text/plain": [
       "7291"
      ]
     },
     "execution_count": 12,
     "metadata": {},
     "output_type": "execute_result"
    }
   ],
   "source": [
    "len(targets)"
   ]
  },
  {
   "cell_type": "code",
   "execution_count": 13,
   "metadata": {},
   "outputs": [
    {
     "name": "stdout",
     "output_type": "stream",
     "text": [
      "Sample type and shape :  <class 'numpy.ndarray'> (16, 16)\n",
      "Label type and value :  <class 'int'> 9\n"
     ]
    }
   ],
   "source": [
    "# Let's look at a data point\n",
    "sample_index = 88\n",
    "\n",
    "data_sample = dataset.data[sample_index]\n",
    "target_sample = dataset.targets[sample_index]\n",
    "print(\"Sample type and shape : \",type(data_sample),data_sample.shape)\n",
    "print(\"Label type and value : \" ,type(target_sample),target_sample)"
   ]
  },
  {
   "cell_type": "code",
   "execution_count": 14,
   "metadata": {},
   "outputs": [
    {
     "data": {
      "image/png": "[encoded data removed]",
      "text/plain": [
       "<Figure size 640x480 with 1 Axes>"
      ]
     },
     "metadata": {},
     "output_type": "display_data"
    }
   ],
   "source": [
    "sample_index = 88\n",
    "plt.imshow(dataset.data[sample_index], cmap=plt.cm.gray_r, interpolation='nearest')\n",
    "plt.title(\"image label: %d\" % dataset.targets[sample_index])\n",
    "plt.show()"
   ]
  },
  {
   "cell_type": "markdown",
   "metadata": {},
   "source": [
    "## Pytorch Tensor"
   ]
  },
  {
   "attachments": {},
   "cell_type": "markdown",
   "metadata": {},
   "source": [
    "Pytorch Documentation : https://pytorch.org/docs/stable/index.html"
   ]
  },
  {
   "cell_type": "code",
   "execution_count": 15,
   "metadata": {},
   "outputs": [
    {
     "name": "stdout",
     "output_type": "stream",
     "text": [
      "Tensor type : <class 'torch.Tensor'> , and shape :  torch.Size([16, 16])\n"
     ]
    }
   ],
   "source": [
    "tensor_data_point = torch.tensor(data_sample)\n",
    "print(\"Tensor type :\",type(tensor_data_point),\", and shape : \",tensor_data_point.shape)"
   ]
  },
  {
   "cell_type": "code",
   "execution_count": 16,
   "metadata": {},
   "outputs": [
    {
     "data": {
      "image/png": "[encoded data removed]",
      "text/plain": [
       "<Figure size 640x480 with 1 Axes>"
      ]
     },
     "metadata": {},
     "output_type": "display_data"
    }
   ],
   "source": [
    "# Pyplot can manage torch Tensors\n",
    "plt.imshow(tensor_data_point, cmap=plt.cm.gray_r)\n",
    "plt.title(\"Tensor display\")\n",
    "plt.show()"
   ]
  },
  {
   "cell_type": "code",
   "execution_count": 17,
   "metadata": {},
   "outputs": [],
   "source": [
    "# split the dataset to training and validation sets\n",
    "train_set, val_set = random_split(dataset, [6000, 1291])"
   ]
  },
  {
   "cell_type": "markdown",
   "metadata": {},
   "source": [
    "## Build your Neural Network\n",
    "The `torch.nn` namespace provides all the building blocks you need to create your own neural network such as fully connected layers or convolutional layers etc. We define our neural network by subclassing `nn.Module`, and the neural network layers are initialized in **\\__init\\__**. Every `nn.Module` subclass implements the operations on input data in the **forward** method."
   ]
  },
  {
   "cell_type": "markdown",
   "metadata": {},
   "source": [
    "Inheritance in Python (https://www.programiz.com/python-programming/inheritance)"
   ]
  },
  {
   "cell_type": "code",
   "execution_count": 18,
   "metadata": {},
   "outputs": [],
   "source": [
    "class Model(nn.Module):\n",
    "    \n",
    "    def __init__(self):\n",
    "        super(Model, self).__init__()\n",
    "        # We allocate space for the weights\n",
    "        self.l1 = nn.Linear(16*16, 80)\n",
    "        self.l2 = nn.Linear(80, 10)\n",
    "        # Input size is 16*16, output size should be the same with the number of classes\n",
    "        \n",
    "    def forward(self, inputs): # Called when we apply the network \n",
    "        h = F.relu(self.l1(inputs)) # You can put anything, as long as its Pytorch functions\n",
    "        outputs = F.softmax(self.l2(h), dim=1)# Use softmax as the activation function for the last layer\n",
    "        return outputs"
   ]
  },
  {
   "attachments": {},
   "cell_type": "markdown",
   "metadata": {},
   "source": [
    "Description of AutoGrad (https://pytorch.org/docs/stable/notes/autograd.html)"
   ]
  },
  {
   "cell_type": "markdown",
   "metadata": {},
   "source": [
    "### Instantiation and forward call"
   ]
  },
  {
   "cell_type": "code",
   "execution_count": 19,
   "metadata": {},
   "outputs": [
    {
     "name": "stdout",
     "output_type": "stream",
     "text": [
      " - What is the type of my_model ? <class '__main__.Model'>\n",
      "==================================================\n",
      " - Description of the internal of the Network : Model(\n",
      "  (l1): Linear(in_features=256, out_features=80, bias=True)\n",
      "  (l2): Linear(in_features=80, out_features=10, bias=True)\n",
      ")\n",
      "==================================================\n",
      " - Content of the first Layer : Parameter containing:\n",
      "tensor([[-0.0111,  0.0373,  0.0324,  ...,  0.0139, -0.0281, -0.0426],\n",
      "        [ 0.0461,  0.0313,  0.0328,  ...,  0.0017,  0.0435, -0.0400],\n",
      "        [-0.0289, -0.0247, -0.0014,  ...,  0.0395, -0.0340,  0.0383],\n",
      "        ...,\n",
      "        [-0.0228, -0.0015, -0.0519,  ...,  0.0207, -0.0563, -0.0531],\n",
      "        [-0.0041,  0.0051,  0.0531,  ...,  0.0245, -0.0365,  0.0161],\n",
      "        [ 0.0401,  0.0100, -0.0612,  ...,  0.0198, -0.0451,  0.0305]],\n",
      "       requires_grad=True)\n"
     ]
    }
   ],
   "source": [
    "# We initialize the Model class\n",
    "my_model = Model() # it calls the init method\n",
    "print(\" - What is the type of my_model ?\",type(my_model))\n",
    "print(\"=\"*50)\n",
    "print(\" - Description of the internal of the Network :\",my_model)\n",
    "print(\"=\"*50)\n",
    "print(\" - Content of the first Layer :\", my_model.l1.weight,)"
   ]
  },
  {
   "cell_type": "code",
   "execution_count": 20,
   "metadata": {},
   "outputs": [
    {
     "name": "stdout",
     "output_type": "stream",
     "text": [
      "A : torch.Size([80, 256])  b :  torch.Size([80])\n"
     ]
    }
   ],
   "source": [
    "# Shape of the Linear Layer \n",
    "print(\"A :\",my_model.l1.weight.shape,\" b : \",my_model.l1.bias.shape)"
   ]
  },
  {
   "cell_type": "code",
   "execution_count": 21,
   "metadata": {},
   "outputs": [
    {
     "name": "stdout",
     "output_type": "stream",
     "text": [
      "Original tensor shape torch.Size([5, 1, 16, 16])\n",
      "==================================================\n",
      "Impact of the view method torch.Size([5, 256])\n",
      "==================================================\n",
      "Shape of the output torch.Size([5, 10])\n",
      "==================================================\n",
      "Predictions for the first image : tensor([0.1054, 0.1024, 0.0881, 0.1009, 0.0978, 0.1032, 0.1085, 0.0988, 0.1014,\n",
      "        0.0935])\n",
      "==================================================\n",
      "Sum of all outputs :  tensor(1.0000, grad_fn=<SumBackward0>)\n"
     ]
    }
   ],
   "source": [
    "# Let's explore the forward pass\n",
    "example_batch_size = 5\n",
    "example_loader = DataLoader(dataset, batch_size=example_batch_size, shuffle=True)\n",
    "\n",
    "for images,labels in example_loader:\n",
    "    print(\"Original tensor shape\",images.shape)\n",
    "    print(\"=\"*50)\n",
    "    print(\"Impact of the view method\",images.view(example_batch_size,-1).shape)\n",
    "    print(\"=\"*50)\n",
    "    example_output = my_model(images.view(example_batch_size,-1))\n",
    "    print(\"Shape of the output\",example_output.shape)\n",
    "    print(\"=\"*50)\n",
    "    print(\"Predictions for the first image :\",example_output[0].detach())\n",
    "    print(\"=\"*50)\n",
    "    print(\"Sum of all outputs : \",torch.sum(example_output[0])) # You should use detach !\n",
    "    break"
   ]
  },
  {
   "cell_type": "code",
   "execution_count": 22,
   "metadata": {},
   "outputs": [
    {
     "name": "stdout",
     "output_type": "stream",
     "text": [
      "Original Labels :  tensor([0, 1, 2, 1, 0])\n",
      "==================================================\n",
      "One Hot encoding : tensor([[1., 0., 0., 0., 0., 0., 0., 0., 0., 0.],\n",
      "        [0., 1., 0., 0., 0., 0., 0., 0., 0., 0.],\n",
      "        [0., 0., 1., 0., 0., 0., 0., 0., 0., 0.],\n",
      "        [0., 1., 0., 0., 0., 0., 0., 0., 0., 0.],\n",
      "        [1., 0., 0., 0., 0., 0., 0., 0., 0., 0.]])\n"
     ]
    }
   ],
   "source": [
    "# Example of One Hot Encoding\n",
    "\n",
    "labels_one_hot = torch.FloatTensor(example_batch_size, 10)\n",
    "labels_one_hot.zero_()\n",
    "print(\"Original Labels : \",labels.detach())\n",
    "print(\"=\"*50)\n",
    "print(\"One Hot encoding :\",labels_one_hot.scatter_(1, labels.view(-1, 1), 1).detach())"
   ]
  },
  {
   "cell_type": "markdown",
   "metadata": {},
   "source": [
    "## Train your Model"
   ]
  },
  {
   "cell_type": "code",
   "execution_count": 23,
   "metadata": {},
   "outputs": [],
   "source": [
    "# Create the model: \n",
    "model = Model()\n",
    "\n",
    "# Choose the hyperparameters for training: \n",
    "num_epochs = 10\n",
    "batch_size = 10\n",
    "\n",
    "# Use mean squared loss function \n",
    "criterion = nn.MSELoss()\n",
    "\n",
    "# Use SGD optimizer with a learning rate of 0.01\n",
    "# It is initialized on our model\n",
    "optimizer = torch.optim.SGD(model.parameters(), lr=0.1)"
   ]
  },
  {
   "cell_type": "code",
   "execution_count": 24,
   "metadata": {},
   "outputs": [],
   "source": [
    "# define a function for training\n",
    "def train(num_epochs, batch_size, criterion, optimizer, model, dataset):\n",
    "    train_error = []\n",
    "    train_loader = DataLoader(dataset, batch_size, shuffle=True)\n",
    "    model.train() # Indicates to the network we are in training mode\n",
    "    for epoch in range(num_epochs):\n",
    "        epoch_average_loss = 0.0\n",
    "        for (images, labels) in train_loader:\n",
    "            y_pre = model(images.view(batch_size, -1)) \n",
    "            #reshape the inputs from [N, img_shape, img_shape] to [N, img_shape*img_shape] \n",
    "            \n",
    "            # One-hot encoding or labels so as to calculate MSE error:\n",
    "            labels_one_hot = torch.FloatTensor(batch_size, 10)\n",
    "            labels_one_hot.zero_()\n",
    "            labels_one_hot.scatter_(1, labels.view(-1, 1), 1)\n",
    "           \n",
    "            \n",
    "            loss = criterion(y_pre, labels_one_hot) #Real number\n",
    "            optimizer.zero_grad() # Set all the parameters gradient to 0\n",
    "            loss.backward() # Computes  dloss/da for every parameter a which has requires_grad=True\n",
    "            optimizer.step() # Updates the weights \n",
    "            epoch_average_loss += loss.item() * batch_size / len(dataset)\n",
    "        train_error.append(epoch_average_loss)\n",
    "        print('Epoch [{}/{}], Loss: {:.4f}'\n",
    "                      .format(epoch+1, num_epochs, epoch_average_loss))\n",
    "    return train_error"
   ]
  },
  {
   "cell_type": "code",
   "execution_count": 25,
   "metadata": {},
   "outputs": [
    {
     "name": "stdout",
     "output_type": "stream",
     "text": [
      "Epoch [1/10], Loss: 0.0871\n",
      "Epoch [2/10], Loss: 0.0764\n",
      "Epoch [3/10], Loss: 0.0637\n",
      "Epoch [4/10], Loss: 0.0509\n",
      "Epoch [5/10], Loss: 0.0390\n",
      "Epoch [6/10], Loss: 0.0296\n",
      "Epoch [7/10], Loss: 0.0230\n",
      "Epoch [8/10], Loss: 0.0189\n",
      "Epoch [9/10], Loss: 0.0164\n",
      "Epoch [10/10], Loss: 0.0147\n"
     ]
    }
   ],
   "source": [
    "train_error = train(num_epochs, batch_size, criterion, optimizer, model, train_set)"
   ]
  },
  {
   "cell_type": "code",
   "execution_count": 26,
   "metadata": {},
   "outputs": [
    {
     "data": {
      "text/plain": [
       "Text(0.5, 1.0, 'Visualization of convergence')"
      ]
     },
     "execution_count": 26,
     "metadata": {},
     "output_type": "execute_result"
    },
    {
     "data": {
      "image/png": "[encoded data removed]",
      "text/plain": [
       "<Figure size 640x480 with 1 Axes>"
      ]
     },
     "metadata": {},
     "output_type": "display_data"
    }
   ],
   "source": [
    "# plot the training error wrt. the number of epochs: \n",
    "plt.plot(range(1, num_epochs+1), train_error)\n",
    "plt.xlabel(\"num_epochs\")\n",
    "plt.ylabel(\"Train error\")\n",
    "plt.title(\"Visualization of convergence\")"
   ]
  },
  {
   "cell_type": "markdown",
   "metadata": {},
   "source": [
    "### Evaluate the Model on validation set"
   ]
  },
  {
   "cell_type": "code",
   "execution_count": 27,
   "metadata": {},
   "outputs": [],
   "source": [
    "# Calculate the accuracy to evaluate the model\n",
    "def accuracy(dataset, model):\n",
    "\n",
    "    with torch.no_grad():\n",
    "        correct = 0\n",
    "        total = 0\n",
    "        dataloader = DataLoader(dataset)\n",
    "        for images, labels in dataloader:\n",
    "            images = images.view(-1, 16*16)\n",
    "            outputs = model(images)\n",
    "        #   _, predicted = torch.max(outputs.data, 1)  \n",
    "            _, predicted = torch.max(outputs.detach(), 1)  \n",
    "            correct += (predicted == labels).sum()\n",
    "\n",
    "    print('Accuracy of the model : {:.2f} %'.format(100*correct.item()/ len(dataset)))"
   ]
  },
  {
   "cell_type": "code",
   "execution_count": 28,
   "metadata": {},
   "outputs": [
    {
     "name": "stdout",
     "output_type": "stream",
     "text": [
      "Accuracy of the model : 93.42 %\n"
     ]
    }
   ],
   "source": [
    "accuracy(val_set, model)"
   ]
  },
  {
   "cell_type": "code",
   "execution_count": 29,
   "metadata": {},
   "outputs": [
    {
     "data": {
      "text/plain": [
       "Text(0.5, 1.0, 'Prediction label: 5')"
      ]
     },
     "execution_count": 29,
     "metadata": {},
     "output_type": "execute_result"
    },
    {
     "data": {
      "image/png": "[encoded data removed]",
      "text/plain": [
       "<Figure size 640x480 with 1 Axes>"
      ]
     },
     "metadata": {},
     "output_type": "display_data"
    }
   ],
   "source": [
    "val_index = 66\n",
    "\n",
    "(image, label) = val_set[val_index]\n",
    "output = model(image.view(-1, 16*16))\n",
    "_, prediction = torch.max(output.data, 1)\n",
    "\n",
    "plt.imshow(image.view(16, 16), cmap=plt.cm.gray_r, interpolation='nearest')\n",
    "plt.title(\"Prediction label: %d\" % prediction)"
   ]
  },
  {
   "cell_type": "markdown",
   "metadata": {},
   "source": [
    "---"
   ]
  },
  {
   "cell_type": "markdown",
   "metadata": {},
   "source": [
    "---"
   ]
  },
  {
   "cell_type": "markdown",
   "metadata": {},
   "source": [
    "# Question 1"
   ]
  },
  {
   "cell_type": "markdown",
   "metadata": {},
   "source": [
    "### Exercise 1: Impact of the architecture of the model\n",
    "Define your own class `Model` to improve the predictions:\n",
    "\n",
    "* The convolutional layer can be a good choice to deal with images. Replace nn.Linear with [nn.Conv2d](https://pytorch.org/docs/stable/nn.html#conv2d).\n",
    "* Try to add more layers (1, 2, 3, more ?)\n",
    "* Change the number of neurons in hidden layers (5, 10, 20, more ?)\n",
    "* Try different activation functions such as [sigmoid](https://pytorch.org/docs/stable/nn.functional.html#torch.nn.functional.sigmoid), [tanh](https://pytorch.org/docs/stable/nn.functional.html#torch.nn.functional.tanh), [relu](https://pytorch.org/docs/stable/nn.functional.html#torch.nn.functional.relu), etc."
   ]
  },
  {
   "cell_type": "code",
   "execution_count": 30,
   "metadata": {},
   "outputs": [
    {
     "name": "stdout",
     "output_type": "stream",
     "text": [
      "torch.Size([5, 32, 16, 16])\n",
      "torch.Size([32, 1280])\n"
     ]
    }
   ],
   "source": [
    "m = nn.Conv2d(1, 32, 3 , padding = 1)\n",
    "\n",
    "\n",
    "\n",
    "input = torch.randn(5, 1, 16, 16)\n",
    "output = m(input)\n",
    "print(output.shape)\n",
    "print(output.view(output.size(1), -1).shape)\n"
   ]
  },
  {
   "cell_type": "code",
   "execution_count": 31,
   "metadata": {},
   "outputs": [],
   "source": [
    "class Convolution_1(nn.Module):\n",
    "    \n",
    "    def __init__(self,input_channel = 1 , output_channel = 32 , kernel_size = 3 , height = 16 , Width = 16):\n",
    "        super(Convolution_1, self).__init__()\n",
    "        self.l1 = nn.Conv2d(input_channel, output_channel, kernel_size , padding = 1)  # Assuming the kernel size is 16 and misunderstanding corrected\n",
    "        self.l2 = nn.Linear(output_channel * height * Width , 100)  # Assuming the output from convolution+flattening is 256 features\n",
    "        self.l3 = nn.Linear(100, 10)  # Correcting the second linear layer\n",
    "\n",
    "    def forward(self, inputs , height = 16 , Width = 16):\n",
    "        h1 = F.relu(self.l1(inputs))\n",
    "        h1_flattened = h1.view(h1.size(0), -1)  # Flatten the output for linear layer\n",
    "        h2 = F.relu(self.l2(h1_flattened))\n",
    "        outputs = F.softmax(self.l3(h2), dim=1)\n",
    "        return outputs\n"
   ]
  },
  {
   "cell_type": "code",
   "execution_count": 32,
   "metadata": {},
   "outputs": [
    {
     "name": "stdout",
     "output_type": "stream",
     "text": [
      "tensor([[0.1097, 0.0906, 0.0740, 0.1111, 0.0896, 0.1027, 0.1029, 0.1142, 0.1046,\n",
      "         0.1007],\n",
      "        [0.1117, 0.1005, 0.0829, 0.1035, 0.0885, 0.0861, 0.1090, 0.1075, 0.1170,\n",
      "         0.0932],\n",
      "        [0.1216, 0.0916, 0.0714, 0.1070, 0.0911, 0.0874, 0.1069, 0.1152, 0.0977,\n",
      "         0.1102],\n",
      "        [0.1081, 0.0937, 0.0810, 0.1084, 0.0890, 0.0929, 0.1012, 0.1154, 0.1083,\n",
      "         0.1020],\n",
      "        [0.1109, 0.1025, 0.0790, 0.1092, 0.0938, 0.0842, 0.0993, 0.1117, 0.1179,\n",
      "         0.0916],\n",
      "        [0.0989, 0.1020, 0.0753, 0.1203, 0.0987, 0.0747, 0.1004, 0.1083, 0.1150,\n",
      "         0.1063],\n",
      "        [0.1170, 0.0924, 0.0646, 0.1008, 0.0943, 0.0958, 0.1017, 0.1214, 0.1088,\n",
      "         0.1034],\n",
      "        [0.1167, 0.1006, 0.0790, 0.1028, 0.0920, 0.0863, 0.0999, 0.1048, 0.1095,\n",
      "         0.1081],\n",
      "        [0.1087, 0.0899, 0.0741, 0.1117, 0.0970, 0.0883, 0.1078, 0.1118, 0.1055,\n",
      "         0.1052],\n",
      "        [0.1038, 0.0894, 0.0814, 0.1108, 0.1005, 0.0814, 0.1045, 0.1135, 0.1051,\n",
      "         0.1096]], grad_fn=<SoftmaxBackward0>)\n",
      "tensor([7, 8, 0, 7, 8, 3, 7, 0, 7, 7])\n"
     ]
    }
   ],
   "source": [
    "sahbi = Convolution_1()\n",
    "sahbi = Convolution_1(input_channel=1, output_channel=32, kernel_size=3, height=16, Width=16)\n",
    "input_tensor = torch.randn(10, 1, 16, 16) \n",
    "output = sahbi(input_tensor)\n",
    "print(output)\n",
    "_, predicted_labels = torch.max(output, 1)\n",
    "print(predicted_labels)\n"
   ]
  },
  {
   "cell_type": "code",
   "execution_count": 33,
   "metadata": {},
   "outputs": [
    {
     "name": "stdout",
     "output_type": "stream",
     "text": [
      " - What is the type of my_model ? <class '__main__.Convolution_1'>\n",
      "==================================================\n",
      " - Description of the internal of the Network : Convolution_1(\n",
      "  (l1): Conv2d(1, 32, kernel_size=(3, 3), stride=(1, 1), padding=(1, 1))\n",
      "  (l2): Linear(in_features=8192, out_features=100, bias=True)\n",
      "  (l3): Linear(in_features=100, out_features=10, bias=True)\n",
      ")\n",
      "==================================================\n",
      " - Content of the first Layer : Parameter containing:\n",
      "tensor([[[[-2.1385e-01, -2.6579e-01, -2.9939e-01],\n",
      "          [-1.4206e-01,  2.9694e-01,  2.3161e-02],\n",
      "          [ 2.0382e-01, -6.2167e-02,  1.2217e-01]]],\n",
      "\n",
      "\n",
      "        [[[ 1.8760e-01, -1.1344e-01, -2.1296e-01],\n",
      "          [-3.0391e-01,  3.0468e-01, -9.8250e-02],\n",
      "          [-2.9876e-01,  5.0289e-02,  2.0129e-01]]],\n",
      "\n",
      "\n",
      "        [[[-1.1267e-01, -4.2521e-02, -1.5609e-01],\n",
      "          [ 9.2669e-02,  6.2690e-02, -4.4099e-02],\n",
      "          [-1.9229e-01, -3.0754e-01,  2.0188e-01]]],\n",
      "\n",
      "\n",
      "        [[[-2.4485e-01,  3.7801e-02, -1.1330e-02],\n",
      "          [-1.2075e-02,  2.5330e-01, -8.7871e-02],\n",
      "          [-3.0632e-01,  1.7154e-01, -1.8155e-02]]],\n",
      "\n",
      "\n",
      "        [[[-1.3289e-01, -1.5361e-01,  1.3820e-02],\n",
      "          [-1.5175e-01, -2.0910e-01, -1.7331e-01],\n",
      "          [-9.5626e-02,  8.9158e-02, -1.5420e-01]]],\n",
      "\n",
      "\n",
      "        [[[ 1.2960e-01,  1.7303e-01, -3.2231e-02],\n",
      "          [ 3.1671e-01,  8.0817e-02, -2.2976e-02],\n",
      "          [ 3.1535e-01, -2.7945e-02, -1.5531e-01]]],\n",
      "\n",
      "\n",
      "        [[[-5.9135e-02, -3.0732e-02,  7.4075e-02],\n",
      "          [ 1.6687e-01,  3.3073e-01, -9.8364e-02],\n",
      "          [ 1.8631e-01, -1.2174e-01, -2.0254e-01]]],\n",
      "\n",
      "\n",
      "        [[[-1.4370e-01, -3.0546e-01,  3.7109e-02],\n",
      "          [-2.7514e-01,  1.7011e-01,  2.2086e-01],\n",
      "          [-1.5054e-01,  8.0523e-02, -2.4383e-02]]],\n",
      "\n",
      "\n",
      "        [[[ 2.6831e-01,  2.1816e-01, -1.2993e-01],\n",
      "          [-1.3154e-01, -3.2822e-01, -3.1112e-01],\n",
      "          [-2.7856e-01, -7.1232e-02,  9.2097e-02]]],\n",
      "\n",
      "\n",
      "        [[[ 1.7463e-01, -6.8585e-02,  3.1620e-01],\n",
      "          [-3.0440e-01, -7.1874e-02, -1.2849e-02],\n",
      "          [-1.6692e-01, -2.6386e-01, -6.8582e-02]]],\n",
      "\n",
      "\n",
      "        [[[-6.7122e-02,  3.1473e-01, -4.9236e-02],\n",
      "          [ 2.2909e-01,  1.6822e-01, -7.2388e-02],\n",
      "          [-1.5092e-04,  4.6025e-03,  1.4821e-01]]],\n",
      "\n",
      "\n",
      "        [[[-3.1177e-01, -1.8592e-01, -4.3433e-02],\n",
      "          [ 8.6576e-02, -1.5766e-02, -1.6670e-01],\n",
      "          [ 1.7329e-01,  2.9129e-01,  3.1023e-01]]],\n",
      "\n",
      "\n",
      "        [[[-1.3064e-01,  7.8755e-02, -4.8168e-02],\n",
      "          [ 2.0729e-01,  2.7328e-01,  3.0512e-01],\n",
      "          [ 3.0153e-01, -1.2598e-01, -6.6362e-02]]],\n",
      "\n",
      "\n",
      "        [[[-1.7847e-01, -2.0193e-03,  2.0768e-01],\n",
      "          [ 5.6586e-02,  9.5497e-02,  3.2683e-01],\n",
      "          [ 4.5627e-02,  1.2959e-01,  1.8038e-01]]],\n",
      "\n",
      "\n",
      "        [[[-2.9186e-03,  3.2903e-01,  2.3465e-02],\n",
      "          [ 1.6061e-01,  2.3467e-01,  1.2790e-01],\n",
      "          [ 1.7601e-02,  2.7150e-01,  5.5884e-03]]],\n",
      "\n",
      "\n",
      "        [[[ 9.9053e-02,  1.1834e-01, -6.9972e-02],\n",
      "          [ 2.8620e-01,  1.6798e-01, -2.9147e-01],\n",
      "          [-7.2919e-02, -1.4825e-01,  2.7594e-01]]],\n",
      "\n",
      "\n",
      "        [[[ 2.6735e-01, -3.1738e-01, -2.5289e-02],\n",
      "          [ 2.4123e-01, -2.4563e-01,  3.7394e-02],\n",
      "          [-1.7828e-01, -2.0355e-01,  3.2362e-01]]],\n",
      "\n",
      "\n",
      "        [[[-1.9674e-01,  1.0990e-01,  8.3854e-02],\n",
      "          [ 2.4244e-01, -2.5686e-01,  6.0809e-02],\n",
      "          [-3.2819e-01, -9.5437e-02, -2.8548e-01]]],\n",
      "\n",
      "\n",
      "        [[[-1.5042e-03,  1.2441e-01,  6.0681e-02],\n",
      "          [ 7.7859e-02,  2.8317e-01,  3.0878e-01],\n",
      "          [-3.7551e-02, -6.0165e-02,  1.0042e-01]]],\n",
      "\n",
      "\n",
      "        [[[-2.4589e-01, -1.1140e-01,  8.5970e-02],\n",
      "          [-1.6080e-02, -1.4334e-01,  1.5119e-01],\n",
      "          [ 2.9691e-03, -3.0595e-01, -2.5169e-01]]],\n",
      "\n",
      "\n",
      "        [[[-2.1187e-01,  1.9721e-02, -1.1979e-01],\n",
      "          [ 2.0689e-01,  1.2602e-01,  2.3220e-01],\n",
      "          [ 3.3257e-01, -2.4345e-01, -2.3682e-01]]],\n",
      "\n",
      "\n",
      "        [[[-5.0006e-02,  2.3781e-01,  3.2649e-01],\n",
      "          [-1.5603e-01,  2.3069e-01,  1.5764e-01],\n",
      "          [ 3.2860e-01, -1.4534e-01, -1.0492e-01]]],\n",
      "\n",
      "\n",
      "        [[[ 1.9163e-01,  5.2064e-02, -1.6006e-01],\n",
      "          [ 6.0900e-02,  3.2902e-02, -1.8141e-01],\n",
      "          [-3.0362e-01,  2.9492e-02, -2.4538e-01]]],\n",
      "\n",
      "\n",
      "        [[[ 3.4000e-02, -2.2397e-01,  2.4490e-01],\n",
      "          [ 3.0749e-01, -4.0892e-02, -1.9095e-01],\n",
      "          [-9.7062e-02, -2.1763e-02,  2.7565e-01]]],\n",
      "\n",
      "\n",
      "        [[[ 7.0155e-02,  2.8452e-01,  7.4130e-02],\n",
      "          [ 2.6267e-01, -1.9429e-01, -2.0758e-01],\n",
      "          [ 1.6675e-01,  3.1648e-01, -2.9635e-01]]],\n",
      "\n",
      "\n",
      "        [[[-3.0876e-01,  7.2398e-03,  1.9921e-02],\n",
      "          [ 1.3907e-01, -1.8721e-02,  9.2392e-02],\n",
      "          [ 3.1950e-01,  1.0935e-01,  2.4177e-01]]],\n",
      "\n",
      "\n",
      "        [[[-2.5806e-01,  3.6068e-02,  2.7027e-01],\n",
      "          [ 1.3337e-01,  4.9256e-02, -3.0902e-01],\n",
      "          [ 2.9399e-01,  1.1200e-02, -1.7309e-01]]],\n",
      "\n",
      "\n",
      "        [[[ 2.2674e-01,  1.2153e-01, -1.9484e-01],\n",
      "          [ 5.0615e-02, -1.4405e-01, -2.1818e-01],\n",
      "          [ 1.8778e-01,  1.3149e-01,  9.4973e-02]]],\n",
      "\n",
      "\n",
      "        [[[-9.9103e-02, -8.6651e-02, -5.1588e-02],\n",
      "          [ 1.8260e-01, -2.1012e-01, -1.5498e-01],\n",
      "          [-2.2140e-01, -1.9723e-01,  2.4136e-01]]],\n",
      "\n",
      "\n",
      "        [[[ 1.1082e-01, -2.5126e-01, -1.3955e-01],\n",
      "          [ 1.5677e-01,  3.0462e-01, -2.2889e-01],\n",
      "          [ 3.3128e-01, -9.4503e-02,  2.1659e-01]]],\n",
      "\n",
      "\n",
      "        [[[ 2.3908e-02, -1.3854e-01,  1.2282e-04],\n",
      "          [-2.9680e-01, -3.2478e-01, -3.1210e-01],\n",
      "          [ 2.4175e-02,  4.6466e-02,  7.1055e-02]]],\n",
      "\n",
      "\n",
      "        [[[-2.6750e-02, -1.8818e-01, -2.7626e-01],\n",
      "          [ 9.0268e-02,  2.5145e-01, -1.6593e-01],\n",
      "          [ 7.7020e-02,  1.3737e-01,  2.8052e-01]]]], requires_grad=True)\n",
      "==================================================\n",
      " - Content of the second Layer : Parameter containing:\n",
      "tensor([[-4.6115e-03,  1.9650e-03, -5.1707e-03,  ...,  1.1260e-03,\n",
      "          6.6219e-03, -2.5115e-04],\n",
      "        [ 7.3899e-03,  1.0362e-02, -6.1266e-03,  ..., -1.0707e-02,\n",
      "          4.1243e-04, -5.6216e-03],\n",
      "        [ 7.2054e-03, -2.2873e-04,  5.2689e-03,  ...,  6.6960e-03,\n",
      "         -7.2246e-03, -2.2719e-03],\n",
      "        ...,\n",
      "        [-3.3235e-03,  7.5942e-03,  9.4744e-03,  ...,  6.2535e-03,\n",
      "         -1.9988e-03, -7.2210e-03],\n",
      "        [-3.0531e-03, -1.0869e-02, -4.9787e-03,  ...,  5.6236e-03,\n",
      "          4.7348e-03, -6.4609e-03],\n",
      "        [ 1.4094e-03, -8.4580e-03,  9.4288e-03,  ...,  8.9142e-05,\n",
      "          1.0829e-02, -3.1871e-03]], requires_grad=True)\n"
     ]
    }
   ],
   "source": [
    "\n",
    "sahbi = Convolution_1()\n",
    "sahbi = Convolution_1(input_channel=1, output_channel=32, kernel_size=3, height=16, Width=16)\n",
    "print(\" - What is the type of my_model ?\",type(sahbi))\n",
    "print(\"=\"*50)\n",
    "print(\" - Description of the internal of the Network :\",sahbi)\n",
    "print(\"=\"*50)\n",
    "print(\" - Content of the first Layer :\", sahbi.l1.weight,)\n",
    "print(\"=\"*50)\n",
    "print(\" - Content of the second Layer :\", sahbi.l2.weight,)"
   ]
  },
  {
   "cell_type": "code",
   "execution_count": 34,
   "metadata": {},
   "outputs": [
    {
     "name": "stdout",
     "output_type": "stream",
     "text": [
      "Original tensor shape torch.Size([100, 1, 16, 16])\n",
      "==================================================\n",
      "Shape of the output torch.Size([100, 10])\n",
      "==================================================\n",
      "Predictions for the first image : tensor([0.1061, 0.1103, 0.0981, 0.0957, 0.1009, 0.0921, 0.0990, 0.0973, 0.0955,\n",
      "        0.1050])\n",
      "==================================================\n",
      "Sum of all outputs :  tensor(1., grad_fn=<SumBackward0>)\n"
     ]
    }
   ],
   "source": [
    "# Let's explore the forward pass\n",
    "example_batch_size = 100\n",
    "example_loader = DataLoader(dataset, batch_size=example_batch_size, shuffle=True)\n",
    "\n",
    "for images,labels in example_loader:\n",
    "    print(\"Original tensor shape\",images.shape)\n",
    "    print(\"=\"*50)\n",
    "    example_output = sahbi(images )\n",
    "    print(\"Shape of the output\",example_output.shape)\n",
    "    print(\"=\"*50)\n",
    "    print(\"Predictions for the first image :\",example_output[0].detach())\n",
    "    print(\"=\"*50)\n",
    "    print(\"Sum of all outputs : \",torch.sum(example_output[0])) # You should use detach !\n",
    "    break"
   ]
  },
  {
   "cell_type": "code",
   "execution_count": 35,
   "metadata": {},
   "outputs": [
    {
     "name": "stdout",
     "output_type": "stream",
     "text": [
      "Original Labels :  tensor([1, 0, 0, 7, 3, 6, 2, 1, 1, 1, 3, 0, 9, 5, 4, 4, 0, 4, 1, 4, 3, 4, 2, 7,\n",
      "        6, 8, 2, 1, 0, 3, 3, 1, 0, 1, 1, 0, 7, 1, 0, 0, 7, 5, 3, 8, 2, 0, 9, 9,\n",
      "        2, 8, 6, 0, 6, 3, 0, 5, 8, 1, 4, 8, 8, 1, 6, 4, 1, 6, 7, 0, 7, 5, 7, 0,\n",
      "        9, 7, 8, 5, 9, 3, 8, 3, 5, 1, 7, 9, 2, 0, 6, 1, 4, 0, 4, 0, 0, 1, 8, 6,\n",
      "        0, 0, 2, 0])\n",
      "==================================================\n",
      "One Hot encoding : tensor([[0., 1., 0., 0., 0., 0., 0., 0., 0., 0.],\n",
      "        [1., 0., 0., 0., 0., 0., 0., 0., 0., 0.],\n",
      "        [1., 0., 0., 0., 0., 0., 0., 0., 0., 0.],\n",
      "        [0., 0., 0., 0., 0., 0., 0., 1., 0., 0.],\n",
      "        [0., 0., 0., 1., 0., 0., 0., 0., 0., 0.],\n",
      "        [0., 0., 0., 0., 0., 0., 1., 0., 0., 0.],\n",
      "        [0., 0., 1., 0., 0., 0., 0., 0., 0., 0.],\n",
      "        [0., 1., 0., 0., 0., 0., 0., 0., 0., 0.],\n",
      "        [0., 1., 0., 0., 0., 0., 0., 0., 0., 0.],\n",
      "        [0., 1., 0., 0., 0., 0., 0., 0., 0., 0.],\n",
      "        [0., 0., 0., 1., 0., 0., 0., 0., 0., 0.],\n",
      "        [1., 0., 0., 0., 0., 0., 0., 0., 0., 0.],\n",
      "        [0., 0., 0., 0., 0., 0., 0., 0., 0., 1.],\n",
      "        [0., 0., 0., 0., 0., 1., 0., 0., 0., 0.],\n",
      "        [0., 0., 0., 0., 1., 0., 0., 0., 0., 0.],\n",
      "        [0., 0., 0., 0., 1., 0., 0., 0., 0., 0.],\n",
      "        [1., 0., 0., 0., 0., 0., 0., 0., 0., 0.],\n",
      "        [0., 0., 0., 0., 1., 0., 0., 0., 0., 0.],\n",
      "        [0., 1., 0., 0., 0., 0., 0., 0., 0., 0.],\n",
      "        [0., 0., 0., 0., 1., 0., 0., 0., 0., 0.],\n",
      "        [0., 0., 0., 1., 0., 0., 0., 0., 0., 0.],\n",
      "        [0., 0., 0., 0., 1., 0., 0., 0., 0., 0.],\n",
      "        [0., 0., 1., 0., 0., 0., 0., 0., 0., 0.],\n",
      "        [0., 0., 0., 0., 0., 0., 0., 1., 0., 0.],\n",
      "        [0., 0., 0., 0., 0., 0., 1., 0., 0., 0.],\n",
      "        [0., 0., 0., 0., 0., 0., 0., 0., 1., 0.],\n",
      "        [0., 0., 1., 0., 0., 0., 0., 0., 0., 0.],\n",
      "        [0., 1., 0., 0., 0., 0., 0., 0., 0., 0.],\n",
      "        [1., 0., 0., 0., 0., 0., 0., 0., 0., 0.],\n",
      "        [0., 0., 0., 1., 0., 0., 0., 0., 0., 0.],\n",
      "        [0., 0., 0., 1., 0., 0., 0., 0., 0., 0.],\n",
      "        [0., 1., 0., 0., 0., 0., 0., 0., 0., 0.],\n",
      "        [1., 0., 0., 0., 0., 0., 0., 0., 0., 0.],\n",
      "        [0., 1., 0., 0., 0., 0., 0., 0., 0., 0.],\n",
      "        [0., 1., 0., 0., 0., 0., 0., 0., 0., 0.],\n",
      "        [1., 0., 0., 0., 0., 0., 0., 0., 0., 0.],\n",
      "        [0., 0., 0., 0., 0., 0., 0., 1., 0., 0.],\n",
      "        [0., 1., 0., 0., 0., 0., 0., 0., 0., 0.],\n",
      "        [1., 0., 0., 0., 0., 0., 0., 0., 0., 0.],\n",
      "        [1., 0., 0., 0., 0., 0., 0., 0., 0., 0.],\n",
      "        [0., 0., 0., 0., 0., 0., 0., 1., 0., 0.],\n",
      "        [0., 0., 0., 0., 0., 1., 0., 0., 0., 0.],\n",
      "        [0., 0., 0., 1., 0., 0., 0., 0., 0., 0.],\n",
      "        [0., 0., 0., 0., 0., 0., 0., 0., 1., 0.],\n",
      "        [0., 0., 1., 0., 0., 0., 0., 0., 0., 0.],\n",
      "        [1., 0., 0., 0., 0., 0., 0., 0., 0., 0.],\n",
      "        [0., 0., 0., 0., 0., 0., 0., 0., 0., 1.],\n",
      "        [0., 0., 0., 0., 0., 0., 0., 0., 0., 1.],\n",
      "        [0., 0., 1., 0., 0., 0., 0., 0., 0., 0.],\n",
      "        [0., 0., 0., 0., 0., 0., 0., 0., 1., 0.],\n",
      "        [0., 0., 0., 0., 0., 0., 1., 0., 0., 0.],\n",
      "        [1., 0., 0., 0., 0., 0., 0., 0., 0., 0.],\n",
      "        [0., 0., 0., 0., 0., 0., 1., 0., 0., 0.],\n",
      "        [0., 0., 0., 1., 0., 0., 0., 0., 0., 0.],\n",
      "        [1., 0., 0., 0., 0., 0., 0., 0., 0., 0.],\n",
      "        [0., 0., 0., 0., 0., 1., 0., 0., 0., 0.],\n",
      "        [0., 0., 0., 0., 0., 0., 0., 0., 1., 0.],\n",
      "        [0., 1., 0., 0., 0., 0., 0., 0., 0., 0.],\n",
      "        [0., 0., 0., 0., 1., 0., 0., 0., 0., 0.],\n",
      "        [0., 0., 0., 0., 0., 0., 0., 0., 1., 0.],\n",
      "        [0., 0., 0., 0., 0., 0., 0., 0., 1., 0.],\n",
      "        [0., 1., 0., 0., 0., 0., 0., 0., 0., 0.],\n",
      "        [0., 0., 0., 0., 0., 0., 1., 0., 0., 0.],\n",
      "        [0., 0., 0., 0., 1., 0., 0., 0., 0., 0.],\n",
      "        [0., 1., 0., 0., 0., 0., 0., 0., 0., 0.],\n",
      "        [0., 0., 0., 0., 0., 0., 1., 0., 0., 0.],\n",
      "        [0., 0., 0., 0., 0., 0., 0., 1., 0., 0.],\n",
      "        [1., 0., 0., 0., 0., 0., 0., 0., 0., 0.],\n",
      "        [0., 0., 0., 0., 0., 0., 0., 1., 0., 0.],\n",
      "        [0., 0., 0., 0., 0., 1., 0., 0., 0., 0.],\n",
      "        [0., 0., 0., 0., 0., 0., 0., 1., 0., 0.],\n",
      "        [1., 0., 0., 0., 0., 0., 0., 0., 0., 0.],\n",
      "        [0., 0., 0., 0., 0., 0., 0., 0., 0., 1.],\n",
      "        [0., 0., 0., 0., 0., 0., 0., 1., 0., 0.],\n",
      "        [0., 0., 0., 0., 0., 0., 0., 0., 1., 0.],\n",
      "        [0., 0., 0., 0., 0., 1., 0., 0., 0., 0.],\n",
      "        [0., 0., 0., 0., 0., 0., 0., 0., 0., 1.],\n",
      "        [0., 0., 0., 1., 0., 0., 0., 0., 0., 0.],\n",
      "        [0., 0., 0., 0., 0., 0., 0., 0., 1., 0.],\n",
      "        [0., 0., 0., 1., 0., 0., 0., 0., 0., 0.],\n",
      "        [0., 0., 0., 0., 0., 1., 0., 0., 0., 0.],\n",
      "        [0., 1., 0., 0., 0., 0., 0., 0., 0., 0.],\n",
      "        [0., 0., 0., 0., 0., 0., 0., 1., 0., 0.],\n",
      "        [0., 0., 0., 0., 0., 0., 0., 0., 0., 1.],\n",
      "        [0., 0., 1., 0., 0., 0., 0., 0., 0., 0.],\n",
      "        [1., 0., 0., 0., 0., 0., 0., 0., 0., 0.],\n",
      "        [0., 0., 0., 0., 0., 0., 1., 0., 0., 0.],\n",
      "        [0., 1., 0., 0., 0., 0., 0., 0., 0., 0.],\n",
      "        [0., 0., 0., 0., 1., 0., 0., 0., 0., 0.],\n",
      "        [1., 0., 0., 0., 0., 0., 0., 0., 0., 0.],\n",
      "        [0., 0., 0., 0., 1., 0., 0., 0., 0., 0.],\n",
      "        [1., 0., 0., 0., 0., 0., 0., 0., 0., 0.],\n",
      "        [1., 0., 0., 0., 0., 0., 0., 0., 0., 0.],\n",
      "        [0., 1., 0., 0., 0., 0., 0., 0., 0., 0.],\n",
      "        [0., 0., 0., 0., 0., 0., 0., 0., 1., 0.],\n",
      "        [0., 0., 0., 0., 0., 0., 1., 0., 0., 0.],\n",
      "        [1., 0., 0., 0., 0., 0., 0., 0., 0., 0.],\n",
      "        [1., 0., 0., 0., 0., 0., 0., 0., 0., 0.],\n",
      "        [0., 0., 1., 0., 0., 0., 0., 0., 0., 0.],\n",
      "        [1., 0., 0., 0., 0., 0., 0., 0., 0., 0.]])\n"
     ]
    }
   ],
   "source": [
    "labels_one_hot = torch.FloatTensor(example_batch_size, 10)\n",
    "labels_one_hot.zero_()\n",
    "print(\"Original Labels : \",labels.detach())\n",
    "print(\"=\"*50)\n",
    "print(\"One Hot encoding :\",labels_one_hot.scatter_(1, labels.view(-1, 1), 1).detach())"
   ]
  },
  {
   "cell_type": "markdown",
   "metadata": {},
   "source": [
    "# Train the model"
   ]
  },
  {
   "cell_type": "code",
   "execution_count": 36,
   "metadata": {},
   "outputs": [],
   "source": [
    "from torch.optim import Adam "
   ]
  },
  {
   "cell_type": "code",
   "execution_count": 37,
   "metadata": {},
   "outputs": [],
   "source": [
    "optimizer = Adam(sahbi.parameters(), lr=0.001)  # for example, using a learning rate of 0.001"
   ]
  },
  {
   "cell_type": "code",
   "execution_count": 38,
   "metadata": {},
   "outputs": [],
   "source": [
    "def train(num_epochs, batch_size , criterion, optimizer, model, dataset):\n",
    "    train_error = []\n",
    "    train_loader = DataLoader(dataset, batch_size, shuffle=True)\n",
    "    model.train() # Indicates to the network we are in training mode\n",
    "    for epoch in range(num_epochs):\n",
    "        epoch_average_loss = 0.0\n",
    "        for (images, labels) in train_loader:\n",
    "         \n",
    "            y_pre = model(images) \n",
    "       \n",
    "            \n",
    "            # One-hot encoding or labels so as to calculate MSE error:\n",
    "            labels_one_hot = torch.FloatTensor(batch_size, 10)\n",
    "            labels_one_hot.zero_()\n",
    "            labels_one_hot.scatter_(1, labels.view(-1, 1), 1)\n",
    "           \n",
    "            \n",
    "            loss = criterion(y_pre, labels_one_hot) #Real number\n",
    "            optimizer.zero_grad() # Set all the parameters gradient to 0\n",
    "            loss.backward() # Computes  dloss/da for every parameter a which has requires_grad=True\n",
    "            optimizer.step() # Updates the weights \n",
    "            epoch_average_loss += loss.item() * batch_size / len(dataset)\n",
    "        train_error.append(epoch_average_loss)\n",
    "        print('Epoch [{}/{}], Loss: {:.4f}'\n",
    "                      .format(epoch+1, num_epochs, epoch_average_loss))\n",
    "    return train_error\n"
   ]
  },
  {
   "cell_type": "code",
   "execution_count": 39,
   "metadata": {},
   "outputs": [],
   "source": [
    "# Choose the hyperparameters for training: \n",
    "num_epochs = 10\n",
    "batch_size = 5\n",
    "\n",
    "# Use mean squared loss function \n",
    "criterion = nn.MSELoss()\n",
    "\n",
    "# Use SGD optimizer with a learning rate of 0.01\n",
    "# It is initialized on our model\n",
    "optimizer = torch.optim.SGD(sahbi.parameters(), lr=0.001)"
   ]
  },
  {
   "cell_type": "code",
   "execution_count": 40,
   "metadata": {},
   "outputs": [
    {
     "name": "stdout",
     "output_type": "stream",
     "text": [
      "Epoch [1/10], Loss: 0.0895\n",
      "Epoch [2/10], Loss: 0.0890\n",
      "Epoch [3/10], Loss: 0.0885\n",
      "Epoch [4/10], Loss: 0.0880\n",
      "Epoch [5/10], Loss: 0.0875\n",
      "Epoch [6/10], Loss: 0.0869\n",
      "Epoch [7/10], Loss: 0.0862\n",
      "Epoch [8/10], Loss: 0.0854\n",
      "Epoch [9/10], Loss: 0.0845\n",
      "Epoch [10/10], Loss: 0.0835\n",
      "[0.089500979334116, 0.0889974174524347, 0.08850085819760957, 0.08799386980632924, 0.08745578519379084, 0.086855519488454, 0.08617048539221313, 0.08538474040105945, 0.08448030481114986, 0.08346254664783676]\n"
     ]
    }
   ],
   "source": [
    "train_error_sahbi_2 = train(10, 5 , criterion, optimizer, sahbi, train_set)\n",
    "print(train_error_sahbi_2)"
   ]
  },
  {
   "cell_type": "code",
   "execution_count": 41,
   "metadata": {},
   "outputs": [
    {
     "name": "stdout",
     "output_type": "stream",
     "text": [
      "Epoch [1/10], Loss: 0.0824\n",
      "Epoch [2/10], Loss: 0.0812\n",
      "Epoch [3/10], Loss: 0.0800\n",
      "Epoch [4/10], Loss: 0.0787\n",
      "Epoch [5/10], Loss: 0.0775\n",
      "Epoch [6/10], Loss: 0.0762\n",
      "Epoch [7/10], Loss: 0.0750\n",
      "Epoch [8/10], Loss: 0.0737\n",
      "Epoch [9/10], Loss: 0.0725\n",
      "Epoch [10/10], Loss: 0.0712\n",
      "[0.08235967309835061, 0.0811962041196723, 0.07998530096995343, 0.0787456572490433, 0.07748654618238415, 0.07622466204377513, 0.07496889502430956, 0.07371801198925844, 0.0724733421672136, 0.07123513629349575]\n"
     ]
    }
   ],
   "source": [
    "train_error_sahbi = train(num_epochs, batch_size , criterion, optimizer, sahbi, train_set)\n",
    "print(train_error_sahbi)"
   ]
  },
  {
   "cell_type": "code",
   "execution_count": 42,
   "metadata": {},
   "outputs": [
    {
     "data": {
      "text/plain": [
       "Text(0.5, 1.0, 'Visualization of convergence')"
      ]
     },
     "execution_count": 42,
     "metadata": {},
     "output_type": "execute_result"
    },
    {
     "data": {
      "image/png": "[encoded data removed]",
      "text/plain": [
       "<Figure size 640x480 with 1 Axes>"
      ]
     },
     "metadata": {},
     "output_type": "display_data"
    }
   ],
   "source": [
    "# plot the training error wrt. the number of epochs: \n",
    "plt.plot(range(1, num_epochs+1), train_error_sahbi)\n",
    "plt.xlabel(\"num_epochs\")\n",
    "plt.ylabel(\"Train error\")\n",
    "plt.title(\"Visualization of convergence\")"
   ]
  },
  {
   "cell_type": "code",
   "execution_count": 43,
   "metadata": {},
   "outputs": [],
   "source": [
    "# Calculate the accuracy to evaluate the model\n",
    "def accuracy(dataset, model):\n",
    "\n",
    "    with torch.no_grad():\n",
    "        correct = 0\n",
    "        total = 0\n",
    "        dataloader = DataLoader(dataset)\n",
    "        for images, labels in dataloader:\n",
    "            outputs = model(images)\n",
    "        #   _, predicted = torch.max(outputs.data, 1)  \n",
    "            _, predicted = torch.max(outputs.detach(), 1)  \n",
    "            correct += (predicted == labels).sum()\n",
    "\n",
    "    print('Accuracy of the model : {:.2f} %'.format(100*correct.item()/ len(dataset)))"
   ]
  },
  {
   "cell_type": "code",
   "execution_count": 44,
   "metadata": {},
   "outputs": [
    {
     "name": "stderr",
     "output_type": "stream",
     "text": [
      "[W NNPACK.cpp:64] Could not initialize NNPACK! Reason: Unsupported hardware.\n"
     ]
    },
    {
     "name": "stdout",
     "output_type": "stream",
     "text": [
      "Accuracy of the model : 41.29 %\n"
     ]
    }
   ],
   "source": [
    "accuracy(val_set, sahbi)"
   ]
  },
  {
   "cell_type": "code",
   "execution_count": 45,
   "metadata": {},
   "outputs": [
    {
     "name": "stdout",
     "output_type": "stream",
     "text": [
      "torch.Size([1, 1, 16, 16])\n",
      "tensor([[0.2681, 0.0603, 0.1057, 0.1137, 0.0618, 0.0758, 0.0950, 0.0969, 0.0477,\n",
      "         0.0750]], grad_fn=<SoftmaxBackward0>)\n"
     ]
    }
   ],
   "source": [
    "val_index = 66\n",
    "\n",
    "(image, label) = val_set[val_index]\n",
    "image = torch.unsqueeze(image, 0)\n",
    "print(image.shape)\n",
    "output = sahbi(image)\n",
    "print(output)"
   ]
  },
  {
   "cell_type": "code",
   "execution_count": 46,
   "metadata": {},
   "outputs": [
    {
     "data": {
      "text/plain": [
       "Text(0.5, 1.0, 'Prediction label: 0')"
      ]
     },
     "execution_count": 46,
     "metadata": {},
     "output_type": "execute_result"
    },
    {
     "data": {
      "image/png": "[encoded data removed]",
      "text/plain": [
       "<Figure size 640x480 with 1 Axes>"
      ]
     },
     "metadata": {},
     "output_type": "display_data"
    }
   ],
   "source": [
    "val_index = 66\n",
    "\n",
    "(image, label) = val_set[val_index]\n",
    "image = torch.unsqueeze(image, 0)\n",
    "output = sahbi(image)\n",
    "_, prediction = torch.max(output.data, 1)\n",
    "\n",
    "plt.imshow(image.view(16, 16), cmap=plt.cm.gray_r, interpolation='nearest')\n",
    "plt.title(\"Prediction label: %d\" % prediction)"
   ]
  },
  {
   "cell_type": "markdown",
   "metadata": {},
   "source": [
    "# Trilayer"
   ]
  },
  {
   "cell_type": "code",
   "execution_count": 47,
   "metadata": {},
   "outputs": [],
   "source": [
    "class TriLayer(nn.Module):\n",
    "    \n",
    "    def __init__(self):\n",
    "        super(TriLayer, self).__init__()\n",
    "        # We allocate space for the weights\n",
    "        self.l1 = nn.Linear(16*16, 80)\n",
    "        self.l2 = nn.Linear(80, 20)\n",
    "        self.l3 = nn.Linear(20, 10)\n",
    "        # Input size is 16*16, output size should be the same with the number of classes\n",
    "        \n",
    "    def forward(self, inputs): # Called when we apply the network \n",
    "        h1 = F.relu(self.l1(inputs)) # You can put anything, as long as its Pytorch functions\n",
    "        h2 = F.relu(self.l2(h1))\n",
    "        outputs = F.softmax(self.l3(h2), dim=1)# Use softmax as the activation function for the last layer\n",
    "        return outputs"
   ]
  },
  {
   "cell_type": "code",
   "execution_count": 48,
   "metadata": {},
   "outputs": [
    {
     "name": "stdout",
     "output_type": "stream",
     "text": [
      " - What is the type of my_model ? <class '__main__.TriLayer'>\n",
      "==================================================\n",
      " - Description of the internal of the Network : TriLayer(\n",
      "  (l1): Linear(in_features=256, out_features=80, bias=True)\n",
      "  (l2): Linear(in_features=80, out_features=20, bias=True)\n",
      "  (l3): Linear(in_features=20, out_features=10, bias=True)\n",
      ")\n",
      "==================================================\n",
      " - Content of the first Layer : Parameter containing:\n",
      "tensor([[-0.0111,  0.0373,  0.0324,  ...,  0.0139, -0.0281, -0.0426],\n",
      "        [ 0.0461,  0.0313,  0.0328,  ...,  0.0017,  0.0435, -0.0400],\n",
      "        [-0.0289, -0.0247, -0.0014,  ...,  0.0395, -0.0340,  0.0383],\n",
      "        ...,\n",
      "        [-0.0228, -0.0015, -0.0519,  ...,  0.0207, -0.0563, -0.0531],\n",
      "        [-0.0041,  0.0051,  0.0531,  ...,  0.0245, -0.0365,  0.0161],\n",
      "        [ 0.0401,  0.0100, -0.0612,  ...,  0.0198, -0.0451,  0.0305]],\n",
      "       requires_grad=True)\n",
      "==================================================\n",
      " - Content of the second Layer : Parameter containing:\n",
      "tensor([[-8.0125e-02,  9.0715e-02,  6.3896e-02, -1.2824e-03, -3.2645e-02,\n",
      "          5.0659e-02,  2.8975e-02, -4.2740e-03,  3.9929e-03,  9.8691e-02,\n",
      "         -1.0094e-01,  7.9796e-02,  7.8063e-03, -1.6118e-02,  8.1553e-02,\n",
      "         -1.0192e-01,  8.5660e-02, -4.0291e-02,  5.1619e-02, -9.9444e-02,\n",
      "          1.0250e-01, -8.9338e-02,  1.9237e-03, -1.9305e-02,  8.7759e-02,\n",
      "         -1.7786e-02, -6.7896e-02,  6.1251e-02, -8.5833e-02,  7.9161e-02,\n",
      "          6.7146e-02,  4.7104e-03,  5.4343e-02,  1.0645e-01,  6.8536e-02,\n",
      "          4.0359e-02, -9.6223e-02, -1.2760e-02, -9.7582e-02,  1.0838e-01,\n",
      "          1.0725e-01, -4.3640e-02,  3.4834e-02,  9.4916e-02,  5.3310e-03,\n",
      "          5.0274e-02,  1.8768e-02, -6.9277e-02,  1.6695e-02, -5.6422e-02,\n",
      "          1.0741e-01, -7.8929e-02,  9.5554e-02, -4.1765e-02, -4.3867e-02,\n",
      "          5.8356e-02,  7.1819e-02,  5.8928e-02, -3.0785e-04, -9.9493e-02,\n",
      "         -9.9131e-02, -9.3801e-02, -1.6222e-03,  2.1919e-02,  1.0479e-01,\n",
      "         -9.3620e-02, -1.8585e-02,  2.7155e-02, -2.2090e-02, -2.2555e-02,\n",
      "          6.5587e-02,  4.0868e-02, -3.1986e-02,  3.2270e-02, -7.4956e-02,\n",
      "         -9.8963e-02, -7.3854e-02, -2.7956e-02,  2.4864e-02,  8.5441e-02],\n",
      "        [-7.9955e-02,  3.0528e-02, -7.0369e-02, -8.3160e-02,  7.3749e-02,\n",
      "          6.4575e-02, -8.1816e-02, -5.2076e-02,  1.8947e-03, -5.6953e-02,\n",
      "         -1.6876e-02, -6.0332e-02,  9.0188e-02, -1.0134e-01, -3.7254e-02,\n",
      "          8.4756e-02,  9.4552e-02,  2.7992e-02, -6.8351e-02, -5.6274e-02,\n",
      "         -1.8149e-02,  6.2110e-02,  6.9403e-02,  5.1544e-02,  8.7345e-02,\n",
      "          2.3027e-02, -8.8451e-02,  1.0045e-02,  1.0203e-01, -2.6256e-02,\n",
      "          8.1138e-02,  1.3253e-02,  3.9244e-02,  1.0591e-01,  8.3182e-02,\n",
      "         -3.4186e-02,  6.4272e-02,  9.2317e-02, -5.4380e-02,  6.8572e-02,\n",
      "          2.7317e-02,  7.9800e-02, -5.5497e-02,  4.0652e-02,  3.2143e-02,\n",
      "         -3.2334e-02,  9.5182e-02, -4.5739e-02, -8.9581e-02,  5.9038e-02,\n",
      "          2.3604e-02, -4.2820e-02, -8.8039e-02,  3.9752e-02,  7.7666e-02,\n",
      "          1.0594e-02, -2.0986e-02,  3.9400e-02, -8.1543e-02, -8.9070e-02,\n",
      "         -2.6383e-02,  4.0591e-02, -4.5407e-02, -8.7165e-03, -1.0229e-01,\n",
      "         -5.9278e-03, -7.4930e-02,  1.0782e-01, -1.3456e-02,  8.4582e-02,\n",
      "          3.7272e-02, -4.5819e-02,  2.8191e-02, -6.3601e-02, -8.8142e-02,\n",
      "          6.1078e-02,  2.5975e-02,  1.8899e-02,  6.3453e-03,  9.7621e-02],\n",
      "        [ 8.0362e-02, -6.9869e-02,  1.0600e-01,  7.0139e-02, -2.7519e-02,\n",
      "         -7.2115e-02, -6.0884e-02, -8.6754e-02,  8.0966e-02,  7.0260e-02,\n",
      "          1.6542e-02, -2.7759e-02, -6.0244e-02, -2.5190e-02, -7.8858e-02,\n",
      "          4.6806e-02,  7.4543e-02, -4.7000e-02, -1.0569e-02,  4.5975e-02,\n",
      "          4.7780e-02, -7.6707e-02, -8.0182e-02, -1.0583e-01,  3.8862e-03,\n",
      "          9.6239e-02, -2.7820e-02,  7.4129e-02, -1.3084e-02,  8.0322e-02,\n",
      "         -4.4074e-02, -9.0112e-03, -7.6507e-02, -9.1846e-02, -7.4997e-02,\n",
      "         -4.3051e-02, -1.0984e-01,  8.0344e-02, -5.3057e-02, -1.0965e-02,\n",
      "          5.3585e-02,  6.0964e-02,  5.2096e-02,  5.2641e-02,  3.1991e-03,\n",
      "         -3.0489e-02,  8.1325e-02,  6.1005e-02, -8.5591e-02, -2.9246e-02,\n",
      "         -9.8438e-02, -7.4126e-02, -8.2513e-03,  2.0569e-02,  3.1106e-02,\n",
      "          8.0598e-02,  4.8864e-02,  1.0162e-01,  8.8892e-02,  1.0435e-01,\n",
      "          5.6953e-02,  8.7933e-02, -1.9134e-02,  5.3324e-02, -5.0214e-02,\n",
      "          1.7592e-03, -7.6484e-02,  9.0036e-02, -8.2031e-02, -3.4475e-02,\n",
      "         -9.5333e-02,  9.5515e-02,  6.0042e-02, -4.0732e-02, -8.1632e-02,\n",
      "         -7.8948e-02, -6.6023e-02, -7.7124e-02,  2.0792e-02, -6.4077e-02],\n",
      "        [ 1.8058e-02, -2.2550e-02, -7.5836e-03,  3.2375e-02, -4.3720e-02,\n",
      "         -7.1337e-02, -8.4014e-02, -7.6593e-02,  5.3371e-02,  8.4359e-02,\n",
      "         -3.1268e-02, -1.9015e-02, -7.1615e-02, -1.1021e-02, -7.0208e-02,\n",
      "         -4.1154e-02, -3.8946e-02, -1.1018e-01,  8.2296e-02, -9.8041e-02,\n",
      "         -5.1210e-03,  8.8142e-02, -7.8154e-02,  5.2569e-02,  5.2521e-02,\n",
      "          2.7922e-03,  2.3181e-02,  3.3971e-02, -6.3029e-02, -1.1056e-01,\n",
      "         -3.4078e-02,  1.0377e-01, -1.0555e-01, -5.9049e-02, -6.6043e-02,\n",
      "          3.5819e-02, -1.7431e-02,  8.5087e-02,  6.9118e-02, -7.1241e-02,\n",
      "         -3.5932e-02, -4.7891e-02, -5.0598e-02,  8.0070e-02,  9.4702e-02,\n",
      "         -2.9410e-02, -7.1471e-02,  4.2806e-02, -6.3611e-02, -6.0942e-02,\n",
      "          2.7778e-03,  7.3460e-02,  6.6451e-02, -3.7686e-03, -5.0411e-02,\n",
      "         -6.3699e-03, -4.2032e-02,  7.6405e-02, -6.9580e-02,  8.3247e-02,\n",
      "          5.3888e-02,  9.9709e-02,  4.9507e-02, -8.9026e-02, -7.8669e-02,\n",
      "          1.3200e-02,  5.8143e-02, -1.0646e-02,  8.9451e-03, -3.8197e-02,\n",
      "          9.1400e-02,  5.6967e-02,  8.4117e-02,  5.9512e-04,  6.5953e-02,\n",
      "         -3.7226e-02,  1.1090e-01, -3.3249e-02,  6.8944e-02,  1.3443e-02],\n",
      "        [-9.8161e-02,  4.6369e-02, -1.9006e-05,  6.6467e-02,  6.7450e-02,\n",
      "         -5.6886e-02, -6.1571e-02, -3.5999e-03, -6.8145e-02,  3.9800e-02,\n",
      "          3.1004e-02,  6.4367e-02,  2.8409e-02, -8.6826e-02,  8.9164e-02,\n",
      "         -5.6186e-02,  5.0735e-02, -8.8447e-02, -7.4126e-02, -9.3025e-02,\n",
      "          9.6553e-02, -1.0461e-01,  9.2562e-04, -4.1269e-03,  9.3114e-02,\n",
      "         -6.7957e-02, -1.0814e-02, -8.0065e-02,  1.0063e-01,  1.1118e-01,\n",
      "         -1.9361e-02, -1.9827e-04, -7.7503e-02,  7.2746e-02, -3.9384e-02,\n",
      "          5.5967e-02, -1.7594e-02,  1.5172e-02, -8.4845e-02, -1.0720e-01,\n",
      "         -1.2252e-02,  7.3923e-02, -5.7952e-02,  1.6351e-02, -3.1544e-02,\n",
      "         -4.2357e-02, -4.8297e-02,  1.0809e-01, -1.8893e-02, -5.9223e-04,\n",
      "         -2.5601e-02, -8.0067e-02,  6.4038e-02,  2.5624e-02,  9.7442e-02,\n",
      "         -5.3525e-02, -4.9174e-02,  1.0629e-01,  8.1115e-02, -7.4278e-02,\n",
      "          8.8106e-02,  5.1662e-02, -3.0287e-02,  4.1567e-02, -6.9295e-02,\n",
      "          3.8137e-02, -2.0633e-02, -1.0304e-01,  3.5459e-02, -8.8055e-02,\n",
      "         -9.2962e-02,  9.5969e-02,  7.5489e-02,  7.8213e-02,  3.5622e-02,\n",
      "         -6.8019e-02,  1.0356e-01, -2.6457e-02,  7.5776e-02, -1.0421e-01],\n",
      "        [-1.0115e-02, -1.6985e-02, -4.1212e-02, -1.0441e-02, -1.0850e-02,\n",
      "         -9.3953e-02, -8.4607e-02,  7.7875e-02,  1.6137e-02,  1.0146e-01,\n",
      "         -9.4015e-02, -9.9578e-02,  1.0263e-01, -5.8257e-02, -1.0733e-01,\n",
      "         -1.0466e-02, -5.4177e-02, -6.2886e-02, -6.6897e-02,  1.1037e-01,\n",
      "          1.4294e-02,  2.1472e-02,  5.6080e-02,  4.0192e-02, -6.3751e-02,\n",
      "         -3.9332e-02,  7.9226e-02,  9.7736e-02,  6.7782e-02,  4.3660e-02,\n",
      "         -9.6911e-02,  9.4627e-03, -1.0525e-01, -9.1150e-02,  3.0161e-02,\n",
      "         -1.3588e-03, -1.1148e-01,  9.6458e-02, -1.0098e-01,  4.7950e-02,\n",
      "          1.8959e-02,  5.0973e-02, -3.0501e-02,  4.6339e-02, -4.8414e-02,\n",
      "         -2.4076e-02,  2.9045e-02,  7.3856e-02,  9.2508e-02, -3.5519e-03,\n",
      "         -6.8813e-02,  2.4664e-02, -9.5928e-02,  1.6708e-02, -6.1396e-02,\n",
      "         -1.0203e-01,  1.8541e-03, -3.5457e-02,  3.5171e-02,  8.2546e-02,\n",
      "         -6.7415e-02,  6.4211e-02, -8.3853e-02,  5.7074e-02,  1.8924e-02,\n",
      "         -6.2981e-02,  4.7221e-02,  8.5797e-03,  9.3048e-02, -2.5909e-02,\n",
      "          4.2752e-02, -7.7621e-03,  1.3654e-02,  3.5152e-02,  2.7617e-02,\n",
      "         -4.2908e-02, -4.7236e-02, -1.1035e-01, -3.6548e-02, -5.3921e-02],\n",
      "        [-2.0533e-02, -1.1179e-01, -1.4588e-02, -6.3175e-02, -3.2718e-02,\n",
      "         -6.7323e-02, -2.3932e-02, -7.8095e-02,  8.7470e-02,  9.2695e-02,\n",
      "          1.0395e-01, -1.0284e-01,  2.8939e-02,  1.0066e-01,  8.4691e-03,\n",
      "          8.6408e-02, -3.4974e-02,  9.9278e-02, -1.0247e-01, -1.0695e-01,\n",
      "         -7.7833e-02,  2.7029e-02,  1.2992e-02, -6.0545e-02, -9.0963e-02,\n",
      "         -4.4444e-02,  4.8086e-02,  1.1156e-01, -3.5041e-02,  9.3249e-02,\n",
      "          9.6683e-02,  5.3800e-02, -1.0891e-01,  7.5049e-02, -1.9458e-02,\n",
      "         -3.7534e-03,  3.0196e-02,  1.4853e-02, -4.6917e-02,  2.4735e-02,\n",
      "         -5.4292e-02,  1.4515e-02,  5.2942e-02,  5.5371e-02,  4.5774e-02,\n",
      "          4.8932e-02, -7.4687e-02,  4.7673e-02, -5.0260e-02,  4.4842e-02,\n",
      "          5.7135e-02,  4.2933e-02, -1.0877e-01, -3.5070e-02,  1.0453e-01,\n",
      "         -4.8785e-02, -6.5525e-02,  5.7999e-02,  1.7817e-02, -6.7829e-02,\n",
      "          6.0476e-02,  6.6505e-02, -1.4752e-02, -5.3210e-02,  9.7564e-02,\n",
      "         -2.5624e-02,  5.9282e-02,  8.0003e-02, -2.8663e-02,  1.0638e-01,\n",
      "         -5.8353e-02, -5.7087e-02, -3.4773e-02, -2.0940e-02,  7.2829e-02,\n",
      "         -1.8836e-02,  3.8618e-02,  8.9785e-02, -9.8445e-02,  6.7654e-02],\n",
      "        [-7.5811e-02, -1.0008e-01,  3.0181e-02,  6.0062e-02, -1.2166e-02,\n",
      "         -1.0144e-02, -9.8720e-02, -9.5915e-02, -5.1378e-02, -7.8067e-02,\n",
      "          7.8185e-02,  1.1169e-01,  1.0956e-01,  7.5997e-02,  2.2094e-02,\n",
      "          4.1893e-02, -3.0434e-02,  1.0279e-01, -8.7445e-02,  6.8605e-03,\n",
      "          4.3393e-02, -1.0137e-01,  8.1573e-02,  1.2203e-02, -8.8445e-02,\n",
      "          2.9287e-02, -7.9089e-02,  6.9652e-02,  4.5324e-02,  2.5676e-02,\n",
      "         -8.6271e-02, -5.0581e-02,  2.9443e-02,  1.3625e-02,  4.8775e-03,\n",
      "          8.7355e-02, -5.0198e-03, -4.6651e-02,  6.7081e-02,  8.9529e-02,\n",
      "         -4.0439e-02,  9.2493e-02, -7.0007e-02,  4.4712e-02, -4.8127e-02,\n",
      "         -6.0840e-02, -1.6195e-02, -8.2736e-02, -1.2017e-02, -6.0275e-03,\n",
      "         -8.5749e-02,  7.8474e-02, -1.1622e-02,  1.2496e-02,  1.0650e-02,\n",
      "          3.5805e-02, -6.0561e-03, -1.0504e-01,  2.5332e-02,  1.0190e-01,\n",
      "          6.0512e-02,  8.0870e-02, -3.5535e-02, -9.7050e-02,  9.5229e-02,\n",
      "          1.6400e-02,  9.2500e-03, -9.2353e-02,  5.1731e-02, -9.8755e-03,\n",
      "          3.0269e-02, -2.9668e-02,  4.3286e-02,  4.7478e-02, -4.7887e-02,\n",
      "          1.6505e-02, -9.7689e-02, -1.0562e-01,  4.6455e-02,  3.1854e-02],\n",
      "        [-4.9217e-02, -9.0317e-02,  1.6002e-02,  9.1211e-02, -2.5634e-02,\n",
      "         -6.0264e-02, -4.1250e-02, -9.7567e-02,  4.8900e-02,  7.1823e-02,\n",
      "         -7.0380e-02,  1.0563e-02, -8.5984e-02, -6.8309e-02,  2.9675e-02,\n",
      "         -9.3151e-02,  1.0590e-02,  7.5058e-02, -5.5987e-03,  6.1481e-02,\n",
      "          9.6101e-02,  9.4773e-02,  2.4274e-02, -4.4875e-02, -2.4911e-02,\n",
      "         -6.8202e-02, -1.2259e-02,  9.5804e-02,  7.9622e-02,  7.5512e-02,\n",
      "          5.6794e-02,  4.2523e-02, -1.8393e-02,  1.4156e-02, -1.0075e-02,\n",
      "          1.1131e-01, -3.7775e-02, -9.9976e-02,  8.5266e-02, -7.4224e-02,\n",
      "         -6.8900e-02,  5.0867e-02,  9.0700e-02,  9.4058e-02,  4.0231e-02,\n",
      "          1.0093e-01, -1.7826e-02,  1.0242e-02, -3.9543e-02, -1.0683e-01,\n",
      "         -6.5555e-02, -3.7361e-02,  7.8771e-02, -3.9573e-03,  9.1797e-02,\n",
      "         -3.9525e-02,  2.3760e-02,  1.0458e-01,  9.4857e-02, -4.2580e-02,\n",
      "         -6.8437e-02, -4.9666e-02, -4.9227e-02, -7.7014e-02, -8.1200e-02,\n",
      "         -1.0499e-01, -8.3170e-02,  5.2828e-02,  3.2154e-02, -5.4548e-02,\n",
      "         -4.0156e-02, -8.2081e-02,  5.3864e-02,  5.6157e-02,  1.0001e-01,\n",
      "          6.5643e-02,  3.7731e-02, -8.5776e-02, -1.1220e-02, -9.7539e-02],\n",
      "        [ 7.4530e-02,  2.6759e-02, -8.2132e-02, -9.7963e-02,  4.7735e-02,\n",
      "          1.0655e-01, -7.4778e-02,  8.3190e-02, -1.0947e-01,  9.5216e-02,\n",
      "         -7.3003e-02, -2.2758e-02, -1.6490e-03, -6.0510e-02,  9.1450e-02,\n",
      "         -5.0578e-03,  5.5351e-02, -9.6954e-02,  1.0394e-01, -1.1768e-02,\n",
      "          5.8839e-02, -1.0484e-02,  1.1068e-01,  9.6491e-03, -7.0843e-02,\n",
      "         -1.0190e-01, -8.2128e-02, -2.9729e-02, -8.3480e-02, -6.9403e-02,\n",
      "         -7.7903e-02,  4.4360e-02,  8.4320e-02, -9.2741e-02, -1.2474e-02,\n",
      "         -7.0889e-02,  8.9336e-02, -1.0141e-01,  2.0346e-02, -4.9268e-02,\n",
      "          1.1010e-01, -9.3741e-02,  2.3978e-02, -1.2348e-02,  5.7661e-03,\n",
      "         -4.0869e-02,  3.7870e-02, -3.7388e-02,  1.0362e-01, -5.2545e-02,\n",
      "          2.3450e-02, -4.8725e-02, -1.8870e-02,  4.8018e-02,  7.9965e-02,\n",
      "          1.5874e-02, -1.0993e-01, -6.4830e-02,  8.4298e-02,  8.3723e-02,\n",
      "         -3.6525e-02, -5.1687e-02,  6.6024e-02,  8.8280e-02, -5.0405e-02,\n",
      "         -5.9019e-02,  2.6364e-02,  7.3719e-02, -8.7796e-03, -4.9044e-02,\n",
      "         -8.2754e-02, -9.7863e-02, -1.6730e-02, -6.8307e-03, -2.3349e-02,\n",
      "         -2.7712e-02, -1.8297e-02,  1.0729e-01,  7.6144e-02, -1.0288e-01]],\n",
      "       requires_grad=True)\n"
     ]
    }
   ],
   "source": [
    "# We initialize the Model class\n",
    "Tri = TriLayer() # it calls the init method\n",
    "print(\" - What is the type of my_model ?\",type(Tri))\n",
    "print(\"=\"*50)\n",
    "print(\" - Description of the internal of the Network :\",Tri)\n",
    "print(\"=\"*50)\n",
    "print(\" - Content of the first Layer :\", my_model.l1.weight,)\n",
    "print(\"=\"*50)\n",
    "print(\" - Content of the second Layer :\", my_model.l2.weight,)"
   ]
  },
  {
   "cell_type": "code",
   "execution_count": 49,
   "metadata": {},
   "outputs": [
    {
     "name": "stdout",
     "output_type": "stream",
     "text": [
      "Original tensor shape torch.Size([100, 1, 16, 16])\n",
      "==================================================\n",
      "Transformed shape torch.Size([100, 256])\n",
      "Shape of the output torch.Size([100, 10])\n",
      "==================================================\n",
      "Predictions for the first image : tensor([0.0787, 0.0880, 0.0925, 0.0787, 0.1125, 0.1313, 0.1018, 0.0952, 0.1264,\n",
      "        0.0949])\n",
      "==================================================\n",
      "Sum of all outputs :  tensor(1., grad_fn=<SumBackward0>)\n"
     ]
    }
   ],
   "source": [
    "# Let's explore the forward pass\n",
    "example_batch_size = 100\n",
    "example_loader = DataLoader(dataset, batch_size=example_batch_size, shuffle=True)\n",
    "\n",
    "for images,labels in example_loader:\n",
    "    print(\"Original tensor shape\",images.shape)\n",
    "    print(\"=\"*50)\n",
    "    print(\"Transformed shape\" , images.view(images.size(0),-1).shape)\n",
    "    example_output = Tri(images.view(images.size(0),-1))\n",
    "    print(\"Shape of the output\",example_output.shape)\n",
    "    print(\"=\"*50)\n",
    "    print(\"Predictions for the first image :\",example_output[0].detach())\n",
    "    print(\"=\"*50)\n",
    "    print(\"Sum of all outputs : \",torch.sum(example_output[0])) # You should use detach !\n",
    "    break"
   ]
  },
  {
   "cell_type": "code",
   "execution_count": 50,
   "metadata": {},
   "outputs": [
    {
     "name": "stdout",
     "output_type": "stream",
     "text": [
      "Original Labels :  tensor([0, 8, 1, 8, 1, 0, 7, 6, 6, 9, 1, 2, 2, 3, 3, 1, 1, 3, 0, 6, 1, 2, 1, 5,\n",
      "        7, 6, 1, 2, 5, 0, 7, 0, 2, 0, 5, 3, 1, 4, 1, 7, 6, 9, 0, 2, 9, 1, 3, 8,\n",
      "        1, 9, 5, 5, 1, 4, 5, 1, 2, 9, 7, 6, 3, 8, 7, 9, 6, 8, 6, 2, 0, 1, 4, 0,\n",
      "        0, 7, 1, 7, 3, 3, 2, 0, 9, 5, 2, 4, 0, 2, 1, 0, 0, 0, 6, 1, 1, 0, 9, 8,\n",
      "        5, 4, 1, 9])\n",
      "==================================================\n",
      "One Hot encoding : tensor([[1., 0., 0., 0., 0., 0., 0., 0., 0., 0.],\n",
      "        [0., 0., 0., 0., 0., 0., 0., 0., 1., 0.],\n",
      "        [0., 1., 0., 0., 0., 0., 0., 0., 0., 0.],\n",
      "        [0., 0., 0., 0., 0., 0., 0., 0., 1., 0.],\n",
      "        [0., 1., 0., 0., 0., 0., 0., 0., 0., 0.],\n",
      "        [1., 0., 0., 0., 0., 0., 0., 0., 0., 0.],\n",
      "        [0., 0., 0., 0., 0., 0., 0., 1., 0., 0.],\n",
      "        [0., 0., 0., 0., 0., 0., 1., 0., 0., 0.],\n",
      "        [0., 0., 0., 0., 0., 0., 1., 0., 0., 0.],\n",
      "        [0., 0., 0., 0., 0., 0., 0., 0., 0., 1.],\n",
      "        [0., 1., 0., 0., 0., 0., 0., 0., 0., 0.],\n",
      "        [0., 0., 1., 0., 0., 0., 0., 0., 0., 0.],\n",
      "        [0., 0., 1., 0., 0., 0., 0., 0., 0., 0.],\n",
      "        [0., 0., 0., 1., 0., 0., 0., 0., 0., 0.],\n",
      "        [0., 0., 0., 1., 0., 0., 0., 0., 0., 0.],\n",
      "        [0., 1., 0., 0., 0., 0., 0., 0., 0., 0.],\n",
      "        [0., 1., 0., 0., 0., 0., 0., 0., 0., 0.],\n",
      "        [0., 0., 0., 1., 0., 0., 0., 0., 0., 0.],\n",
      "        [1., 0., 0., 0., 0., 0., 0., 0., 0., 0.],\n",
      "        [0., 0., 0., 0., 0., 0., 1., 0., 0., 0.],\n",
      "        [0., 1., 0., 0., 0., 0., 0., 0., 0., 0.],\n",
      "        [0., 0., 1., 0., 0., 0., 0., 0., 0., 0.],\n",
      "        [0., 1., 0., 0., 0., 0., 0., 0., 0., 0.],\n",
      "        [0., 0., 0., 0., 0., 1., 0., 0., 0., 0.],\n",
      "        [0., 0., 0., 0., 0., 0., 0., 1., 0., 0.],\n",
      "        [0., 0., 0., 0., 0., 0., 1., 0., 0., 0.],\n",
      "        [0., 1., 0., 0., 0., 0., 0., 0., 0., 0.],\n",
      "        [0., 0., 1., 0., 0., 0., 0., 0., 0., 0.],\n",
      "        [0., 0., 0., 0., 0., 1., 0., 0., 0., 0.],\n",
      "        [1., 0., 0., 0., 0., 0., 0., 0., 0., 0.],\n",
      "        [0., 0., 0., 0., 0., 0., 0., 1., 0., 0.],\n",
      "        [1., 0., 0., 0., 0., 0., 0., 0., 0., 0.],\n",
      "        [0., 0., 1., 0., 0., 0., 0., 0., 0., 0.],\n",
      "        [1., 0., 0., 0., 0., 0., 0., 0., 0., 0.],\n",
      "        [0., 0., 0., 0., 0., 1., 0., 0., 0., 0.],\n",
      "        [0., 0., 0., 1., 0., 0., 0., 0., 0., 0.],\n",
      "        [0., 1., 0., 0., 0., 0., 0., 0., 0., 0.],\n",
      "        [0., 0., 0., 0., 1., 0., 0., 0., 0., 0.],\n",
      "        [0., 1., 0., 0., 0., 0., 0., 0., 0., 0.],\n",
      "        [0., 0., 0., 0., 0., 0., 0., 1., 0., 0.],\n",
      "        [0., 0., 0., 0., 0., 0., 1., 0., 0., 0.],\n",
      "        [0., 0., 0., 0., 0., 0., 0., 0., 0., 1.],\n",
      "        [1., 0., 0., 0., 0., 0., 0., 0., 0., 0.],\n",
      "        [0., 0., 1., 0., 0., 0., 0., 0., 0., 0.],\n",
      "        [0., 0., 0., 0., 0., 0., 0., 0., 0., 1.],\n",
      "        [0., 1., 0., 0., 0., 0., 0., 0., 0., 0.],\n",
      "        [0., 0., 0., 1., 0., 0., 0., 0., 0., 0.],\n",
      "        [0., 0., 0., 0., 0., 0., 0., 0., 1., 0.],\n",
      "        [0., 1., 0., 0., 0., 0., 0., 0., 0., 0.],\n",
      "        [0., 0., 0., 0., 0., 0., 0., 0., 0., 1.],\n",
      "        [0., 0., 0., 0., 0., 1., 0., 0., 0., 0.],\n",
      "        [0., 0., 0., 0., 0., 1., 0., 0., 0., 0.],\n",
      "        [0., 1., 0., 0., 0., 0., 0., 0., 0., 0.],\n",
      "        [0., 0., 0., 0., 1., 0., 0., 0., 0., 0.],\n",
      "        [0., 0., 0., 0., 0., 1., 0., 0., 0., 0.],\n",
      "        [0., 1., 0., 0., 0., 0., 0., 0., 0., 0.],\n",
      "        [0., 0., 1., 0., 0., 0., 0., 0., 0., 0.],\n",
      "        [0., 0., 0., 0., 0., 0., 0., 0., 0., 1.],\n",
      "        [0., 0., 0., 0., 0., 0., 0., 1., 0., 0.],\n",
      "        [0., 0., 0., 0., 0., 0., 1., 0., 0., 0.],\n",
      "        [0., 0., 0., 1., 0., 0., 0., 0., 0., 0.],\n",
      "        [0., 0., 0., 0., 0., 0., 0., 0., 1., 0.],\n",
      "        [0., 0., 0., 0., 0., 0., 0., 1., 0., 0.],\n",
      "        [0., 0., 0., 0., 0., 0., 0., 0., 0., 1.],\n",
      "        [0., 0., 0., 0., 0., 0., 1., 0., 0., 0.],\n",
      "        [0., 0., 0., 0., 0., 0., 0., 0., 1., 0.],\n",
      "        [0., 0., 0., 0., 0., 0., 1., 0., 0., 0.],\n",
      "        [0., 0., 1., 0., 0., 0., 0., 0., 0., 0.],\n",
      "        [1., 0., 0., 0., 0., 0., 0., 0., 0., 0.],\n",
      "        [0., 1., 0., 0., 0., 0., 0., 0., 0., 0.],\n",
      "        [0., 0., 0., 0., 1., 0., 0., 0., 0., 0.],\n",
      "        [1., 0., 0., 0., 0., 0., 0., 0., 0., 0.],\n",
      "        [1., 0., 0., 0., 0., 0., 0., 0., 0., 0.],\n",
      "        [0., 0., 0., 0., 0., 0., 0., 1., 0., 0.],\n",
      "        [0., 1., 0., 0., 0., 0., 0., 0., 0., 0.],\n",
      "        [0., 0., 0., 0., 0., 0., 0., 1., 0., 0.],\n",
      "        [0., 0., 0., 1., 0., 0., 0., 0., 0., 0.],\n",
      "        [0., 0., 0., 1., 0., 0., 0., 0., 0., 0.],\n",
      "        [0., 0., 1., 0., 0., 0., 0., 0., 0., 0.],\n",
      "        [1., 0., 0., 0., 0., 0., 0., 0., 0., 0.],\n",
      "        [0., 0., 0., 0., 0., 0., 0., 0., 0., 1.],\n",
      "        [0., 0., 0., 0., 0., 1., 0., 0., 0., 0.],\n",
      "        [0., 0., 1., 0., 0., 0., 0., 0., 0., 0.],\n",
      "        [0., 0., 0., 0., 1., 0., 0., 0., 0., 0.],\n",
      "        [1., 0., 0., 0., 0., 0., 0., 0., 0., 0.],\n",
      "        [0., 0., 1., 0., 0., 0., 0., 0., 0., 0.],\n",
      "        [0., 1., 0., 0., 0., 0., 0., 0., 0., 0.],\n",
      "        [1., 0., 0., 0., 0., 0., 0., 0., 0., 0.],\n",
      "        [1., 0., 0., 0., 0., 0., 0., 0., 0., 0.],\n",
      "        [1., 0., 0., 0., 0., 0., 0., 0., 0., 0.],\n",
      "        [0., 0., 0., 0., 0., 0., 1., 0., 0., 0.],\n",
      "        [0., 1., 0., 0., 0., 0., 0., 0., 0., 0.],\n",
      "        [0., 1., 0., 0., 0., 0., 0., 0., 0., 0.],\n",
      "        [1., 0., 0., 0., 0., 0., 0., 0., 0., 0.],\n",
      "        [0., 0., 0., 0., 0., 0., 0., 0., 0., 1.],\n",
      "        [0., 0., 0., 0., 0., 0., 0., 0., 1., 0.],\n",
      "        [0., 0., 0., 0., 0., 1., 0., 0., 0., 0.],\n",
      "        [0., 0., 0., 0., 1., 0., 0., 0., 0., 0.],\n",
      "        [0., 1., 0., 0., 0., 0., 0., 0., 0., 0.],\n",
      "        [0., 0., 0., 0., 0., 0., 0., 0., 0., 1.]])\n"
     ]
    }
   ],
   "source": [
    "labels_one_hot = torch.FloatTensor(example_batch_size, 10)\n",
    "labels_one_hot.zero_()\n",
    "print(\"Original Labels : \",labels.detach())\n",
    "print(\"=\"*50)\n",
    "print(\"One Hot encoding :\",labels_one_hot.scatter_(1, labels.view(-1, 1), 1).detach())"
   ]
  },
  {
   "cell_type": "code",
   "execution_count": 51,
   "metadata": {},
   "outputs": [],
   "source": [
    "# Choose the hyperparameters for training: \n",
    "num_epochs = 10\n",
    "batch_size = 5\n",
    "\n",
    "# Use mean squared loss function \n",
    "criterion = nn.MSELoss()\n",
    "\n",
    "# Use SGD optimizer with a learning rate of 0.01\n",
    "# It is initialized on our model\n",
    "optimizer = torch.optim.SGD(Tri.parameters(), lr=0.1)"
   ]
  },
  {
   "cell_type": "code",
   "execution_count": 52,
   "metadata": {},
   "outputs": [],
   "source": [
    "# define a function for training\n",
    "def train(num_epochs, batch_size , criterion, optimizer, model, dataset):\n",
    "    train_error = []\n",
    "    train_loader = DataLoader(dataset, batch_size, shuffle=True)\n",
    "    model.train() # Indicates to the network we are in training mode\n",
    "    for epoch in range(num_epochs):\n",
    "        epoch_average_loss = 0.0\n",
    "        for (images, labels) in train_loader:\n",
    "         \n",
    "            y_pre = model(images.view(images.size(0),-1)) \n",
    "       \n",
    "            \n",
    "            # One-hot encoding or labels so as to calculate MSE error:\n",
    "            labels_one_hot = torch.FloatTensor(batch_size, 10)\n",
    "            labels_one_hot.zero_()\n",
    "            labels_one_hot.scatter_(1, labels.view(-1, 1), 1)\n",
    "           \n",
    "            \n",
    "            loss = criterion(y_pre, labels_one_hot) #Real number\n",
    "            optimizer.zero_grad() # Set all the parameters gradient to 0\n",
    "            loss.backward() # Computes  dloss/da for every parameter a which has requires_grad=True\n",
    "            optimizer.step() # Updates the weights \n",
    "            epoch_average_loss += loss.item() * batch_size / len(dataset)\n",
    "        train_error.append(epoch_average_loss)\n",
    "        print('Epoch [{}/{}], Loss: {:.4f}'\n",
    "                      .format(epoch+1, num_epochs, epoch_average_loss))\n",
    "    return train_error"
   ]
  },
  {
   "cell_type": "code",
   "execution_count": 53,
   "metadata": {},
   "outputs": [
    {
     "name": "stdout",
     "output_type": "stream",
     "text": [
      "Epoch [1/10], Loss: 0.0898\n",
      "Epoch [2/10], Loss: 0.0827\n",
      "Epoch [3/10], Loss: 0.0642\n",
      "Epoch [4/10], Loss: 0.0449\n",
      "Epoch [5/10], Loss: 0.0256\n",
      "Epoch [6/10], Loss: 0.0169\n",
      "Epoch [7/10], Loss: 0.0132\n",
      "Epoch [8/10], Loss: 0.0116\n",
      "Epoch [9/10], Loss: 0.0106\n",
      "Epoch [10/10], Loss: 0.0099\n",
      "[0.08977030670270332, 0.08269031939096744, 0.06423526965935386, 0.04492064510937786, 0.025574768266257392, 0.01687421255081062, 0.013218671601628854, 0.011624498788153973, 0.010589116656004005, 0.009898810842867837]\n"
     ]
    }
   ],
   "source": [
    "train_error_tri = train(num_epochs, batch_size , criterion, optimizer, Tri , train_set)\n",
    "print(train_error_tri)"
   ]
  },
  {
   "cell_type": "code",
   "execution_count": 54,
   "metadata": {},
   "outputs": [
    {
     "data": {
      "text/plain": [
       "Text(0.5, 1.0, 'Visualization of convergence')"
      ]
     },
     "execution_count": 54,
     "metadata": {},
     "output_type": "execute_result"
    },
    {
     "data": {
      "image/png": "[encoded data removed]",
      "text/plain": [
       "<Figure size 640x480 with 1 Axes>"
      ]
     },
     "metadata": {},
     "output_type": "display_data"
    }
   ],
   "source": [
    "# plot the training error wrt. the number of epochs: \n",
    "plt.plot(range(1, num_epochs+1), train_error_tri)\n",
    "plt.xlabel(\"num_epochs\")\n",
    "plt.ylabel(\"Train error\")\n",
    "plt.title(\"Visualization of convergence\")"
   ]
  },
  {
   "cell_type": "code",
   "execution_count": 55,
   "metadata": {},
   "outputs": [],
   "source": [
    "# Calculate the accuracy to evaluate the model\n",
    "def accuracy(dataset, model):\n",
    "\n",
    "    with torch.no_grad():\n",
    "        correct = 0\n",
    "        total = 0\n",
    "        dataloader = DataLoader(dataset)\n",
    "        for images, labels in dataloader:\n",
    "            outputs = model(images.view(images.size(0),-1))\n",
    "        #   _, predicted = torch.max(outputs.data, 1)  \n",
    "            _, predicted = torch.max(outputs.detach(), 1)  \n",
    "            correct += (predicted == labels).sum()\n",
    "\n",
    "    print('Accuracy of the model : {:.2f} %'.format(100*correct.item()/ len(dataset)))"
   ]
  },
  {
   "cell_type": "code",
   "execution_count": 56,
   "metadata": {},
   "outputs": [
    {
     "name": "stdout",
     "output_type": "stream",
     "text": [
      "Accuracy of the model : 94.66 %\n"
     ]
    }
   ],
   "source": [
    "accuracy(val_set, Tri)"
   ]
  },
  {
   "cell_type": "code",
   "execution_count": 57,
   "metadata": {},
   "outputs": [
    {
     "name": "stdout",
     "output_type": "stream",
     "text": [
      "torch.Size([1, 1, 16, 16])\n",
      "tensor([[5.1748e-04, 1.3638e-08, 9.7165e-03, 1.3886e-03, 2.1975e-07, 9.7704e-01,\n",
      "         6.2233e-04, 6.4347e-06, 1.0711e-02, 2.3837e-06]],\n",
      "       grad_fn=<SoftmaxBackward0>)\n"
     ]
    }
   ],
   "source": [
    "val_index = 66\n",
    "\n",
    "(image, label) = val_set[val_index]\n",
    "image = torch.unsqueeze(image, 0)\n",
    "print(image.shape)\n",
    "output = Tri(image.view(image.size(0),-1))\n",
    "print(output)"
   ]
  },
  {
   "cell_type": "code",
   "execution_count": 58,
   "metadata": {},
   "outputs": [
    {
     "data": {
      "text/plain": [
       "Text(0.5, 1.0, 'Prediction label: 5')"
      ]
     },
     "execution_count": 58,
     "metadata": {},
     "output_type": "execute_result"
    },
    {
     "data": {
      "image/png": "[encoded data removed]",
      "text/plain": [
       "<Figure size 640x480 with 1 Axes>"
      ]
     },
     "metadata": {},
     "output_type": "display_data"
    }
   ],
   "source": [
    "val_index = 66\n",
    "\n",
    "(image, label) = val_set[val_index]\n",
    "image = torch.unsqueeze(image, 0)\n",
    "output = Tri(image.view(image.size(0),-1))\n",
    "_, prediction = torch.max(output.data, 1)\n",
    "\n",
    "plt.imshow(image.view(16, 16), cmap=plt.cm.gray_r, interpolation='nearest')\n",
    "plt.title(\"Prediction label: %d\" % prediction)"
   ]
  },
  {
   "cell_type": "markdown",
   "metadata": {},
   "source": [
    "# Modification of the number of Neurons"
   ]
  },
  {
   "cell_type": "code",
   "execution_count": 59,
   "metadata": {},
   "outputs": [],
   "source": [
    "class Convolution_adapt(nn.Module):\n",
    "    \n",
    "    def __init__(self,input_channel = 1 , output_channel = 32 , kernel_size = 3 , height = 16 , Width = 16 , Hidden_neural = 200):\n",
    "        super(Convolution_adapt, self).__init__()\n",
    "        self.l1 = nn.Conv2d(input_channel, output_channel, kernel_size , padding = 1)  # Assuming the kernel size is 16 and misunderstanding corrected\n",
    "        self.l2 = nn.Linear(output_channel * height * Width , Hidden_neural)  # Assuming the output from convolution+flattening is 256 features\n",
    "        self.l3 = nn.Linear(Hidden_neural, 10)  # Correcting the second linear layer\n",
    "\n",
    "    def forward(self, inputs):\n",
    "        h1 = F.relu(self.l1(inputs))\n",
    "        h1_flattened = h1.view(h1.size(0), -1)  # Flatten the output for linear layer\n",
    "        h2 = F.relu(self.l2(h1_flattened))\n",
    "        outputs = F.softmax(self.l3(h2), dim=1)\n",
    "        return outputs"
   ]
  },
  {
   "cell_type": "code",
   "execution_count": 60,
   "metadata": {},
   "outputs": [
    {
     "name": "stdout",
     "output_type": "stream",
     "text": [
      "tensor([[0.0875, 0.0979, 0.1043, 0.0918, 0.1012, 0.1023, 0.0953, 0.0985, 0.0922,\n",
      "         0.1290],\n",
      "        [0.0826, 0.0897, 0.1202, 0.0922, 0.1099, 0.0968, 0.0878, 0.1070, 0.1052,\n",
      "         0.1085],\n",
      "        [0.0798, 0.0981, 0.0892, 0.0989, 0.0967, 0.1099, 0.0936, 0.1072, 0.1160,\n",
      "         0.1106],\n",
      "        [0.0906, 0.1052, 0.1077, 0.0886, 0.0921, 0.0975, 0.0984, 0.1048, 0.1085,\n",
      "         0.1066],\n",
      "        [0.0909, 0.0964, 0.0990, 0.0932, 0.1062, 0.1001, 0.1030, 0.1080, 0.0874,\n",
      "         0.1159],\n",
      "        [0.0936, 0.1009, 0.1098, 0.0901, 0.1014, 0.0885, 0.0876, 0.1086, 0.0984,\n",
      "         0.1210],\n",
      "        [0.0778, 0.0981, 0.1086, 0.0937, 0.0931, 0.0962, 0.1138, 0.0967, 0.0972,\n",
      "         0.1248],\n",
      "        [0.0875, 0.1055, 0.1087, 0.0944, 0.0851, 0.1031, 0.1003, 0.0991, 0.1001,\n",
      "         0.1162],\n",
      "        [0.0812, 0.1022, 0.1017, 0.1047, 0.1058, 0.0975, 0.0958, 0.1011, 0.1004,\n",
      "         0.1097],\n",
      "        [0.0868, 0.1112, 0.1103, 0.0924, 0.0964, 0.0954, 0.1138, 0.0971, 0.0786,\n",
      "         0.1179]], grad_fn=<SoftmaxBackward0>)\n",
      "tensor([9, 2, 8, 8, 9, 9, 9, 9, 9, 9])\n"
     ]
    }
   ],
   "source": [
    "Convolution_256 = Convolution_adapt()\n",
    "Convolution_256 = Convolution_adapt(input_channel=1, output_channel=32, kernel_size=3, height=16, Width=16 , Hidden_neural = 256)\n",
    "input_tensor = torch.randn(10, 1, 16, 16) \n",
    "output = Convolution_256(input_tensor)\n",
    "print(output)\n",
    "_, predicted_labels = torch.max(output, 1)\n",
    "print(predicted_labels)"
   ]
  },
  {
   "cell_type": "code",
   "execution_count": 61,
   "metadata": {},
   "outputs": [
    {
     "name": "stdout",
     "output_type": "stream",
     "text": [
      " - What is the type of my_model ? <class '__main__.Convolution_adapt'>\n",
      "==================================================\n",
      " - Description of the internal of the Network : Convolution_adapt(\n",
      "  (l1): Conv2d(1, 32, kernel_size=(3, 3), stride=(1, 1), padding=(1, 1))\n",
      "  (l2): Linear(in_features=8192, out_features=256, bias=True)\n",
      "  (l3): Linear(in_features=256, out_features=10, bias=True)\n",
      ")\n",
      "==================================================\n",
      " - Content of the first Layer : Parameter containing:\n",
      "tensor([[[[-0.2710, -0.3254, -0.0305],\n",
      "          [ 0.2738,  0.0978,  0.0049],\n",
      "          [ 0.3110,  0.1354, -0.2458]]],\n",
      "\n",
      "\n",
      "        [[[ 0.0759,  0.0743,  0.1595],\n",
      "          [-0.2052,  0.1579,  0.3249],\n",
      "          [-0.2431, -0.2857, -0.1485]]],\n",
      "\n",
      "\n",
      "        [[[ 0.1767,  0.0704, -0.2524],\n",
      "          [-0.1687,  0.3333,  0.2558],\n",
      "          [ 0.3060,  0.2072, -0.3019]]],\n",
      "\n",
      "\n",
      "        [[[-0.3055,  0.1515, -0.1067],\n",
      "          [ 0.0902, -0.0336,  0.0984],\n",
      "          [ 0.2084, -0.0754,  0.0621]]],\n",
      "\n",
      "\n",
      "        [[[-0.0776,  0.0864, -0.1550],\n",
      "          [ 0.0316,  0.1148, -0.0082],\n",
      "          [-0.2364,  0.2529, -0.2914]]],\n",
      "\n",
      "\n",
      "        [[[-0.0222,  0.1520,  0.1126],\n",
      "          [ 0.1223, -0.1256,  0.0021],\n",
      "          [ 0.1789, -0.0478,  0.0213]]],\n",
      "\n",
      "\n",
      "        [[[-0.2002, -0.2693,  0.2558],\n",
      "          [-0.3146,  0.1471, -0.0128],\n",
      "          [-0.1900,  0.1547,  0.2231]]],\n",
      "\n",
      "\n",
      "        [[[ 0.1764,  0.3142, -0.0703],\n",
      "          [-0.1678, -0.1112, -0.2638],\n",
      "          [-0.2411, -0.0573, -0.0479]]],\n",
      "\n",
      "\n",
      "        [[[ 0.0985, -0.2675, -0.0686],\n",
      "          [-0.2346,  0.1825, -0.0945],\n",
      "          [-0.0547, -0.0591,  0.1325]]],\n",
      "\n",
      "\n",
      "        [[[-0.0527,  0.1024,  0.2701],\n",
      "          [-0.2431, -0.1381,  0.0284],\n",
      "          [ 0.3032,  0.2281,  0.0651]]],\n",
      "\n",
      "\n",
      "        [[[-0.2109,  0.0627, -0.2163],\n",
      "          [ 0.3185,  0.0971, -0.0435],\n",
      "          [-0.2375,  0.1760, -0.1256]]],\n",
      "\n",
      "\n",
      "        [[[ 0.1109, -0.0023, -0.1610],\n",
      "          [ 0.0721,  0.2509,  0.1493],\n",
      "          [-0.1483, -0.3035,  0.2513]]],\n",
      "\n",
      "\n",
      "        [[[-0.3168, -0.2773, -0.1919],\n",
      "          [ 0.1355, -0.1561, -0.2672],\n",
      "          [-0.2519, -0.2830, -0.1226]]],\n",
      "\n",
      "\n",
      "        [[[-0.2897,  0.2682,  0.0380],\n",
      "          [ 0.1506,  0.0423, -0.0867],\n",
      "          [-0.0730,  0.2843, -0.0459]]],\n",
      "\n",
      "\n",
      "        [[[ 0.0190,  0.0893,  0.0429],\n",
      "          [ 0.2416, -0.2994, -0.2489],\n",
      "          [-0.1868,  0.1973, -0.1045]]],\n",
      "\n",
      "\n",
      "        [[[-0.3061,  0.1299,  0.0501],\n",
      "          [-0.1617,  0.1748,  0.2751],\n",
      "          [-0.3049,  0.1543,  0.1378]]],\n",
      "\n",
      "\n",
      "        [[[ 0.1511, -0.0521, -0.1865],\n",
      "          [-0.2856,  0.3299,  0.2636],\n",
      "          [ 0.2153,  0.2456, -0.1015]]],\n",
      "\n",
      "\n",
      "        [[[ 0.1303, -0.1318, -0.1092],\n",
      "          [-0.0528, -0.2071, -0.2277],\n",
      "          [ 0.2956,  0.1372,  0.2943]]],\n",
      "\n",
      "\n",
      "        [[[ 0.1253,  0.0629, -0.2270],\n",
      "          [ 0.1706,  0.1383, -0.1440],\n",
      "          [-0.1097,  0.0360, -0.3084]]],\n",
      "\n",
      "\n",
      "        [[[-0.1728,  0.1264, -0.1389],\n",
      "          [-0.1587, -0.0352, -0.0999],\n",
      "          [-0.1388, -0.1569,  0.2512]]],\n",
      "\n",
      "\n",
      "        [[[-0.0873,  0.3169, -0.1313],\n",
      "          [-0.3147,  0.3102,  0.0510],\n",
      "          [-0.0976, -0.0820,  0.2969]]],\n",
      "\n",
      "\n",
      "        [[[ 0.1836,  0.1624, -0.0508],\n",
      "          [-0.1821,  0.2658, -0.1521],\n",
      "          [ 0.1831, -0.1785,  0.2213]]],\n",
      "\n",
      "\n",
      "        [[[-0.1580,  0.2186, -0.3238],\n",
      "          [ 0.0918, -0.2284,  0.3200],\n",
      "          [ 0.1552,  0.1517,  0.0653]]],\n",
      "\n",
      "\n",
      "        [[[ 0.3136,  0.0361,  0.1749],\n",
      "          [ 0.2850, -0.2632, -0.2827],\n",
      "          [-0.3210, -0.2875, -0.0498]]],\n",
      "\n",
      "\n",
      "        [[[-0.0365, -0.2075,  0.1626],\n",
      "          [-0.2541, -0.2891,  0.1542],\n",
      "          [ 0.1534,  0.2970,  0.3126]]],\n",
      "\n",
      "\n",
      "        [[[-0.1668,  0.0827,  0.1155],\n",
      "          [ 0.1436,  0.1629,  0.3266],\n",
      "          [-0.2001,  0.1039, -0.0503]]],\n",
      "\n",
      "\n",
      "        [[[ 0.1594,  0.0346, -0.2720],\n",
      "          [-0.0244,  0.0149, -0.0539],\n",
      "          [ 0.1585,  0.2225,  0.0154]]],\n",
      "\n",
      "\n",
      "        [[[-0.0624, -0.3236, -0.3326],\n",
      "          [ 0.3224, -0.2493,  0.0301],\n",
      "          [-0.0267,  0.0018, -0.2458]]],\n",
      "\n",
      "\n",
      "        [[[ 0.1878,  0.1305,  0.2239],\n",
      "          [-0.3204, -0.3147, -0.1379],\n",
      "          [ 0.1507,  0.2971,  0.0522]]],\n",
      "\n",
      "\n",
      "        [[[-0.1368, -0.0747,  0.1774],\n",
      "          [-0.1584,  0.1398, -0.2550],\n",
      "          [ 0.1053,  0.1285,  0.0029]]],\n",
      "\n",
      "\n",
      "        [[[-0.2430,  0.3022, -0.1542],\n",
      "          [ 0.3223,  0.3055, -0.2690],\n",
      "          [ 0.2074,  0.1761,  0.1680]]],\n",
      "\n",
      "\n",
      "        [[[ 0.2375,  0.2724,  0.3261],\n",
      "          [-0.1057,  0.2446,  0.1218],\n",
      "          [-0.0685,  0.0398,  0.1246]]]], requires_grad=True)\n",
      "==================================================\n",
      " - Content of the second Layer : Parameter containing:\n",
      "tensor([[ 0.0005,  0.0044, -0.0004,  ...,  0.0082,  0.0039, -0.0015],\n",
      "        [ 0.0041, -0.0016, -0.0072,  ...,  0.0010,  0.0096, -0.0101],\n",
      "        [ 0.0026,  0.0105, -0.0093,  ...,  0.0104,  0.0066,  0.0063],\n",
      "        ...,\n",
      "        [-0.0043,  0.0002, -0.0041,  ..., -0.0019, -0.0041, -0.0013],\n",
      "        [ 0.0084,  0.0087,  0.0064,  ..., -0.0060, -0.0099, -0.0075],\n",
      "        [-0.0025,  0.0074, -0.0054,  ...,  0.0072,  0.0056, -0.0082]],\n",
      "       requires_grad=True)\n"
     ]
    }
   ],
   "source": [
    "print(\" - What is the type of my_model ?\",type(Convolution_256))\n",
    "print(\"=\"*50)\n",
    "print(\" - Description of the internal of the Network :\",Convolution_256)\n",
    "print(\"=\"*50)\n",
    "print(\" - Content of the first Layer :\", Convolution_256.l1.weight,)\n",
    "print(\"=\"*50)\n",
    "print(\" - Content of the second Layer :\", Convolution_256.l2.weight,)"
   ]
  },
  {
   "cell_type": "code",
   "execution_count": 62,
   "metadata": {},
   "outputs": [],
   "source": [
    "num_epochs = 10\n",
    "batch_size = 5\n",
    "\n",
    "# Use mean squared loss function \n",
    "criterion = nn.MSELoss()\n",
    "\n",
    "# Use SGD optimizer with a learning rate of 0.01\n",
    "# It is initialized on our model\n",
    "optimizer = torch.optim.SGD(Convolution_256.parameters(), lr=0.1)"
   ]
  },
  {
   "cell_type": "code",
   "execution_count": 63,
   "metadata": {},
   "outputs": [],
   "source": [
    "# define a function for training\n",
    "def train(num_epochs, batch_size , criterion, optimizer, model, dataset):\n",
    "    train_error = []\n",
    "    train_loader = DataLoader(dataset, batch_size, shuffle=True)\n",
    "    model.train() # Indicates to the network we are in training mode\n",
    "    for epoch in range(num_epochs):\n",
    "        epoch_average_loss = 0.0\n",
    "        for (images, labels) in train_loader:\n",
    "         \n",
    "            y_pre = model(images) \n",
    "       \n",
    "            \n",
    "            # One-hot encoding or labels so as to calculate MSE error:\n",
    "            labels_one_hot = torch.FloatTensor(batch_size, 10)\n",
    "            labels_one_hot.zero_()\n",
    "            labels_one_hot.scatter_(1, labels.view(-1, 1), 1)\n",
    "           \n",
    "            \n",
    "            loss = criterion(y_pre, labels_one_hot) #Real number\n",
    "            optimizer.zero_grad() # Set all the parameters gradient to 0\n",
    "            loss.backward() # Computes  dloss/da for every parameter a which has requires_grad=True\n",
    "            optimizer.step() # Updates the weights \n",
    "            epoch_average_loss += loss.item() * batch_size / len(dataset)\n",
    "        train_error.append(epoch_average_loss)\n",
    "        print('Epoch [{}/{}], Loss: {:.4f}'\n",
    "                      .format(epoch+1, num_epochs, epoch_average_loss))\n",
    "    return train_error"
   ]
  },
  {
   "cell_type": "code",
   "execution_count": 64,
   "metadata": {},
   "outputs": [
    {
     "name": "stdout",
     "output_type": "stream",
     "text": [
      "Epoch [1/10], Loss: 0.0455\n",
      "Epoch [2/10], Loss: 0.0129\n",
      "Epoch [3/10], Loss: 0.0100\n",
      "Epoch [4/10], Loss: 0.0089\n",
      "Epoch [5/10], Loss: 0.0080\n",
      "Epoch [6/10], Loss: 0.0073\n",
      "Epoch [7/10], Loss: 0.0066\n",
      "Epoch [8/10], Loss: 0.0061\n",
      "Epoch [9/10], Loss: 0.0055\n",
      "Epoch [10/10], Loss: 0.0052\n",
      "[0.045493319836508235, 0.012854796657931431, 0.010030469453410356, 0.008891138771141935, 0.007992116650699198, 0.007265857053404747, 0.0065788822999044245, 0.006073507521196426, 0.005534494248961504, 0.005230552596618973]\n"
     ]
    }
   ],
   "source": [
    "Train_Convolution_256 = train(num_epochs, batch_size , criterion, optimizer, Convolution_256, train_set)\n",
    "print(Train_Convolution_256)"
   ]
  },
  {
   "cell_type": "code",
   "execution_count": 65,
   "metadata": {},
   "outputs": [
    {
     "data": {
      "text/plain": [
       "Text(0.5, 1.0, 'Visualization of convergence')"
      ]
     },
     "execution_count": 65,
     "metadata": {},
     "output_type": "execute_result"
    },
    {
     "data": {
      "image/png": "[encoded data removed]",
      "text/plain": [
       "<Figure size 640x480 with 1 Axes>"
      ]
     },
     "metadata": {},
     "output_type": "display_data"
    }
   ],
   "source": [
    "# plot the training error wrt. the number of epochs: \n",
    "plt.plot(range(1, num_epochs+1), Train_Convolution_256)\n",
    "plt.xlabel(\"num_epochs\")\n",
    "plt.ylabel(\"Train error\")\n",
    "plt.title(\"Visualization of convergence\")\n"
   ]
  },
  {
   "cell_type": "code",
   "execution_count": 66,
   "metadata": {},
   "outputs": [],
   "source": [
    "def accuracy(dataset, model):\n",
    "    \n",
    "    with torch.no_grad():\n",
    "        correct = 0\n",
    "        total = 0\n",
    "        dataloader = DataLoader(dataset)\n",
    "        for images, labels in dataloader:\n",
    "            outputs = model(images)\n",
    "        #   _, predicted = torch.max(outputs.data, 1)  \n",
    "            _, predicted = torch.max(outputs.detach(), 1)  \n",
    "            correct += (predicted == labels).sum()\n",
    "\n",
    "    print('Accuracy of the model : {:.2f} %'.format(100*correct.item()/ len(dataset)))\n"
   ]
  },
  {
   "cell_type": "code",
   "execution_count": 67,
   "metadata": {},
   "outputs": [
    {
     "name": "stdout",
     "output_type": "stream",
     "text": [
      "Accuracy of the model : 96.51 %\n"
     ]
    }
   ],
   "source": [
    "accuracy(val_set, Convolution_256)"
   ]
  },
  {
   "cell_type": "code",
   "execution_count": 68,
   "metadata": {},
   "outputs": [
    {
     "data": {
      "text/plain": [
       "Text(0.5, 1.0, 'Prediction label: 5')"
      ]
     },
     "execution_count": 68,
     "metadata": {},
     "output_type": "execute_result"
    },
    {
     "data": {
      "image/png": "[encoded data removed]",
      "text/plain": [
       "<Figure size 640x480 with 1 Axes>"
      ]
     },
     "metadata": {},
     "output_type": "display_data"
    }
   ],
   "source": [
    "val_index = 66\n",
    "\n",
    "(image, label) = val_set[val_index]\n",
    "image = torch.unsqueeze(image, 0)\n",
    "output = Convolution_256(image)\n",
    "_, prediction = torch.max(output.data, 1)\n",
    "\n",
    "plt.imshow(image.view(16, 16), cmap=plt.cm.gray_r, interpolation='nearest')\n",
    "plt.title(\"Prediction label: %d\" % prediction)"
   ]
  },
  {
   "cell_type": "code",
   "execution_count": 69,
   "metadata": {},
   "outputs": [
    {
     "name": "stdout",
     "output_type": "stream",
     "text": [
      "tensor([[0.0776, 0.2828, 0.0932, 0.0895, 0.0854, 0.0612, 0.0893, 0.1080, 0.0349,\n",
      "         0.0781],\n",
      "        [0.0666, 0.2554, 0.1205, 0.0654, 0.0906, 0.0524, 0.1244, 0.1065, 0.0453,\n",
      "         0.0731],\n",
      "        [0.1053, 0.1717, 0.1341, 0.0912, 0.0959, 0.0664, 0.1103, 0.1016, 0.0451,\n",
      "         0.0783],\n",
      "        [0.1615, 0.1698, 0.1100, 0.0903, 0.0829, 0.0746, 0.0931, 0.0842, 0.0468,\n",
      "         0.0867],\n",
      "        [0.0623, 0.3010, 0.0848, 0.0903, 0.0873, 0.0709, 0.0935, 0.0977, 0.0479,\n",
      "         0.0642],\n",
      "        [0.2431, 0.1237, 0.1240, 0.0674, 0.0759, 0.0500, 0.1209, 0.0849, 0.0363,\n",
      "         0.0737],\n",
      "        [0.1424, 0.1606, 0.1063, 0.0819, 0.1020, 0.0602, 0.1012, 0.1087, 0.0523,\n",
      "         0.0844],\n",
      "        [0.0962, 0.1809, 0.1111, 0.1018, 0.0927, 0.0608, 0.1202, 0.1126, 0.0423,\n",
      "         0.0814],\n",
      "        [0.1789, 0.1705, 0.0831, 0.0892, 0.0867, 0.0645, 0.1097, 0.0974, 0.0329,\n",
      "         0.0872],\n",
      "        [0.1213, 0.2070, 0.0991, 0.0895, 0.0785, 0.0657, 0.1327, 0.0912, 0.0423,\n",
      "         0.0726]], grad_fn=<SoftmaxBackward0>)\n",
      "tensor([1, 1, 1, 1, 1, 0, 1, 1, 0, 1])\n"
     ]
    }
   ],
   "source": [
    "Convolution_128 = Convolution_adapt()\n",
    "Convolution_128 = Convolution_adapt(input_channel=1, output_channel=32, kernel_size=3, height=16, Width=16 , Hidden_neural = 128)\n",
    "input_tensor = torch.randn(10, 1, 16, 16) \n",
    "output = sahbi(input_tensor)\n",
    "print(output)\n",
    "_, predicted_labels = torch.max(output, 1)\n",
    "print(predicted_labels)"
   ]
  },
  {
   "cell_type": "code",
   "execution_count": 70,
   "metadata": {},
   "outputs": [
    {
     "name": "stdout",
     "output_type": "stream",
     "text": [
      " - What is the type of my_model ? <class '__main__.Convolution_adapt'>\n",
      "==================================================\n",
      " - Description of the internal of the Network : Convolution_adapt(\n",
      "  (l1): Conv2d(1, 32, kernel_size=(3, 3), stride=(1, 1), padding=(1, 1))\n",
      "  (l2): Linear(in_features=8192, out_features=128, bias=True)\n",
      "  (l3): Linear(in_features=128, out_features=10, bias=True)\n",
      ")\n",
      "==================================================\n",
      " - Content of the first Layer : Parameter containing:\n",
      "tensor([[[[-0.2164, -0.2369, -0.1641],\n",
      "          [ 0.1885, -0.0696,  0.0012],\n",
      "          [ 0.1425,  0.2021, -0.2867]]],\n",
      "\n",
      "\n",
      "        [[[-0.1178, -0.0856, -0.1001],\n",
      "          [ 0.2395, -0.0166,  0.1343],\n",
      "          [-0.2157,  0.1180, -0.0203]]],\n",
      "\n",
      "\n",
      "        [[[-0.2342, -0.1369, -0.2973],\n",
      "          [ 0.0969,  0.2244, -0.1010],\n",
      "          [-0.3160, -0.0407, -0.0365]]],\n",
      "\n",
      "\n",
      "        [[[-0.1476,  0.1861,  0.2110],\n",
      "          [ 0.2410, -0.2352, -0.0459],\n",
      "          [-0.3322, -0.0085, -0.1572]]],\n",
      "\n",
      "\n",
      "        [[[ 0.1397,  0.2149, -0.0633],\n",
      "          [ 0.0870, -0.2212, -0.1721],\n",
      "          [ 0.0814,  0.0063,  0.1637]]],\n",
      "\n",
      "\n",
      "        [[[-0.1026, -0.3066,  0.1225],\n",
      "          [ 0.2712, -0.0502,  0.0076],\n",
      "          [ 0.1893, -0.1760,  0.3116]]],\n",
      "\n",
      "\n",
      "        [[[-0.0227, -0.3144, -0.0772],\n",
      "          [-0.1223,  0.2063,  0.1028],\n",
      "          [-0.2776, -0.1617,  0.3273]]],\n",
      "\n",
      "\n",
      "        [[[-0.1096, -0.0316,  0.2683],\n",
      "          [-0.1404,  0.0431, -0.0886],\n",
      "          [-0.1548, -0.0104,  0.3027]]],\n",
      "\n",
      "\n",
      "        [[[-0.3031, -0.1417, -0.0807],\n",
      "          [-0.1535,  0.1979, -0.1279],\n",
      "          [ 0.0848,  0.0238, -0.1698]]],\n",
      "\n",
      "\n",
      "        [[[-0.3072,  0.1969,  0.2682],\n",
      "          [-0.1634, -0.1792, -0.3202],\n",
      "          [-0.2153, -0.1366,  0.0901]]],\n",
      "\n",
      "\n",
      "        [[[-0.2601, -0.0692, -0.2318],\n",
      "          [ 0.3175,  0.2107,  0.0800],\n",
      "          [-0.1478,  0.0131, -0.1804]]],\n",
      "\n",
      "\n",
      "        [[[ 0.2243,  0.2235, -0.1397],\n",
      "          [ 0.2099,  0.2281, -0.2791],\n",
      "          [ 0.2838,  0.1409, -0.2817]]],\n",
      "\n",
      "\n",
      "        [[[ 0.1165,  0.0868, -0.2220],\n",
      "          [ 0.3322, -0.1492, -0.0651],\n",
      "          [-0.0870, -0.2161,  0.2636]]],\n",
      "\n",
      "\n",
      "        [[[-0.0482, -0.0939,  0.1526],\n",
      "          [-0.1221,  0.2385,  0.1222],\n",
      "          [ 0.0197,  0.2797,  0.1099]]],\n",
      "\n",
      "\n",
      "        [[[ 0.1241, -0.3133,  0.0977],\n",
      "          [ 0.2337, -0.2431, -0.2538],\n",
      "          [-0.1689, -0.3185,  0.1182]]],\n",
      "\n",
      "\n",
      "        [[[ 0.1325, -0.2781, -0.1236],\n",
      "          [-0.1492, -0.0203, -0.0588],\n",
      "          [ 0.2730,  0.1437, -0.2784]]],\n",
      "\n",
      "\n",
      "        [[[-0.0767, -0.0688, -0.1053],\n",
      "          [ 0.0769,  0.1531,  0.1803],\n",
      "          [ 0.0275, -0.1451, -0.2649]]],\n",
      "\n",
      "\n",
      "        [[[-0.3308,  0.0518, -0.3123],\n",
      "          [ 0.1750, -0.3041, -0.2072],\n",
      "          [ 0.0780, -0.1272,  0.2147]]],\n",
      "\n",
      "\n",
      "        [[[ 0.0007, -0.0935, -0.2318],\n",
      "          [-0.1111, -0.0882,  0.1861],\n",
      "          [ 0.2303, -0.0551, -0.0431]]],\n",
      "\n",
      "\n",
      "        [[[-0.2088, -0.2962,  0.2835],\n",
      "          [-0.1542,  0.1973, -0.0827],\n",
      "          [ 0.1746, -0.1394,  0.2566]]],\n",
      "\n",
      "\n",
      "        [[[ 0.1147, -0.1644,  0.0584],\n",
      "          [-0.0231, -0.0550,  0.1523],\n",
      "          [-0.1376, -0.0111, -0.3098]]],\n",
      "\n",
      "\n",
      "        [[[-0.1757,  0.1866, -0.1350],\n",
      "          [-0.3151, -0.2912,  0.0417],\n",
      "          [ 0.3235,  0.1702, -0.0267]]],\n",
      "\n",
      "\n",
      "        [[[-0.3144, -0.0324, -0.1292],\n",
      "          [ 0.1068, -0.3300, -0.1305],\n",
      "          [-0.0415, -0.1939, -0.2085]]],\n",
      "\n",
      "\n",
      "        [[[ 0.2666, -0.1435,  0.1246],\n",
      "          [-0.1518,  0.0748,  0.3013],\n",
      "          [ 0.0749,  0.2230, -0.0435]]],\n",
      "\n",
      "\n",
      "        [[[-0.2828, -0.2568,  0.1831],\n",
      "          [-0.2898,  0.1526, -0.3133],\n",
      "          [ 0.1682, -0.2159, -0.1155]]],\n",
      "\n",
      "\n",
      "        [[[-0.0085, -0.0170, -0.3210],\n",
      "          [-0.1905, -0.0015, -0.2014],\n",
      "          [ 0.0756, -0.2962,  0.1000]]],\n",
      "\n",
      "\n",
      "        [[[ 0.1717,  0.0628, -0.2897],\n",
      "          [ 0.1948, -0.2621,  0.3224],\n",
      "          [ 0.1786,  0.0770, -0.0951]]],\n",
      "\n",
      "\n",
      "        [[[-0.1938, -0.0571,  0.1453],\n",
      "          [ 0.3067, -0.0019, -0.1661],\n",
      "          [ 0.2245,  0.0008,  0.0925]]],\n",
      "\n",
      "\n",
      "        [[[-0.1325, -0.0463,  0.0873],\n",
      "          [-0.1503,  0.2788, -0.0557],\n",
      "          [ 0.2081, -0.2200, -0.1703]]],\n",
      "\n",
      "\n",
      "        [[[-0.3203,  0.1169, -0.0358],\n",
      "          [-0.0430, -0.2131, -0.1695],\n",
      "          [ 0.1889,  0.0151, -0.1096]]],\n",
      "\n",
      "\n",
      "        [[[ 0.1793,  0.2398, -0.1364],\n",
      "          [ 0.2847, -0.3204,  0.1541],\n",
      "          [-0.0645,  0.1335, -0.1663]]],\n",
      "\n",
      "\n",
      "        [[[-0.3264,  0.2638, -0.1913],\n",
      "          [ 0.1007,  0.1138,  0.1306],\n",
      "          [-0.3094, -0.2566,  0.0936]]]], requires_grad=True)\n",
      "==================================================\n",
      " - Content of the second Layer : Parameter containing:\n",
      "tensor([[-0.0041, -0.0060,  0.0037,  ..., -0.0042, -0.0032,  0.0088],\n",
      "        [ 0.0001, -0.0103, -0.0076,  ...,  0.0110, -0.0096, -0.0034],\n",
      "        [ 0.0013,  0.0067,  0.0090,  ...,  0.0078, -0.0103, -0.0078],\n",
      "        ...,\n",
      "        [-0.0052, -0.0070, -0.0095,  ..., -0.0088, -0.0085,  0.0071],\n",
      "        [ 0.0098,  0.0030,  0.0006,  ...,  0.0038, -0.0076,  0.0048],\n",
      "        [ 0.0085,  0.0073, -0.0108,  ..., -0.0036,  0.0040,  0.0071]],\n",
      "       requires_grad=True)\n"
     ]
    }
   ],
   "source": [
    "print(\" - What is the type of my_model ?\",type(Convolution_128))\n",
    "print(\"=\"*50)\n",
    "print(\" - Description of the internal of the Network :\",Convolution_128)\n",
    "print(\"=\"*50)\n",
    "print(\" - Content of the first Layer :\", Convolution_128.l1.weight,)\n",
    "print(\"=\"*50)\n",
    "print(\" - Content of the second Layer :\", Convolution_128.l2.weight,)"
   ]
  },
  {
   "cell_type": "code",
   "execution_count": 71,
   "metadata": {},
   "outputs": [],
   "source": [
    "num_epochs = 10\n",
    "batch_size = 5\n",
    "\n",
    "# Use mean squared loss function \n",
    "criterion = nn.MSELoss()\n",
    "\n",
    "# Use SGD optimizer with a learning rate of 0.01\n",
    "# It is initialized on our model\n",
    "optimizer = torch.optim.SGD(Convolution_128.parameters(), lr=0.1)"
   ]
  },
  {
   "cell_type": "code",
   "execution_count": 72,
   "metadata": {},
   "outputs": [],
   "source": [
    "# define a function for training\n",
    "def train(num_epochs, batch_size , criterion, optimizer, model, dataset):\n",
    "    train_error = []\n",
    "    train_loader = DataLoader(dataset, batch_size, shuffle=True)\n",
    "    model.train() # Indicates to the network we are in training mode\n",
    "    for epoch in range(num_epochs):\n",
    "        epoch_average_loss = 0.0\n",
    "        for (images, labels) in train_loader:\n",
    "         \n",
    "            y_pre = model(images) \n",
    "       \n",
    "            \n",
    "            # One-hot encoding or labels so as to calculate MSE error:\n",
    "            labels_one_hot = torch.FloatTensor(batch_size, 10)\n",
    "            labels_one_hot.zero_()\n",
    "            labels_one_hot.scatter_(1, labels.view(-1, 1), 1)\n",
    "           \n",
    "            \n",
    "            loss = criterion(y_pre, labels_one_hot) #Real number\n",
    "            optimizer.zero_grad() # Set all the parameters gradient to 0\n",
    "            loss.backward() # Computes  dloss/da for every parameter a which has requires_grad=True\n",
    "            optimizer.step() # Updates the weights \n",
    "            epoch_average_loss += loss.item() * batch_size / len(dataset)\n",
    "        train_error.append(epoch_average_loss)\n",
    "        print('Epoch [{}/{}], Loss: {:.4f}'\n",
    "                      .format(epoch+1, num_epochs, epoch_average_loss))\n",
    "    return train_error"
   ]
  },
  {
   "cell_type": "code",
   "execution_count": 73,
   "metadata": {},
   "outputs": [
    {
     "name": "stdout",
     "output_type": "stream",
     "text": [
      "Epoch [1/10], Loss: 0.0557\n",
      "Epoch [2/10], Loss: 0.0141\n",
      "Epoch [3/10], Loss: 0.0105\n",
      "Epoch [4/10], Loss: 0.0091\n",
      "Epoch [5/10], Loss: 0.0084\n",
      "Epoch [6/10], Loss: 0.0074\n",
      "Epoch [7/10], Loss: 0.0072\n",
      "Epoch [8/10], Loss: 0.0065\n",
      "Epoch [9/10], Loss: 0.0060\n",
      "Epoch [10/10], Loss: 0.0057\n",
      "[0.05572744066919164, 0.0141205657593567, 0.010523194494144843, 0.009102524837128898, 0.00835944310892316, 0.007439339598284675, 0.007159115939714133, 0.006522430448071544, 0.0059557544551727595, 0.00572106584075536]\n"
     ]
    }
   ],
   "source": [
    "train_error_Convolution_128 = train(num_epochs, batch_size , criterion, optimizer, Convolution_128, train_set)\n",
    "print(train_error_Convolution_128)"
   ]
  },
  {
   "cell_type": "code",
   "execution_count": 74,
   "metadata": {},
   "outputs": [
    {
     "data": {
      "text/plain": [
       "Text(0.5, 1.0, 'Visualization of convergence')"
      ]
     },
     "execution_count": 74,
     "metadata": {},
     "output_type": "execute_result"
    },
    {
     "data": {
      "image/png": "[encoded data removed]",
      "text/plain": [
       "<Figure size 640x480 with 1 Axes>"
      ]
     },
     "metadata": {},
     "output_type": "display_data"
    }
   ],
   "source": [
    "# plot the training error wrt. the number of epochs: \n",
    "plt.plot(range(1, num_epochs+1), train_error_Convolution_128)\n",
    "plt.xlabel(\"num_epochs\")\n",
    "plt.ylabel(\"Train error\")\n",
    "plt.title(\"Visualization of convergence\")"
   ]
  },
  {
   "cell_type": "code",
   "execution_count": 75,
   "metadata": {},
   "outputs": [
    {
     "name": "stdout",
     "output_type": "stream",
     "text": [
      "Accuracy of the model : 96.20 %\n"
     ]
    },
    {
     "data": {
      "text/plain": [
       "Text(0.5, 1.0, 'Prediction label: 5')"
      ]
     },
     "execution_count": 75,
     "metadata": {},
     "output_type": "execute_result"
    },
    {
     "data": {
      "image/png": "[encoded data removed]",
      "text/plain": [
       "<Figure size 640x480 with 1 Axes>"
      ]
     },
     "metadata": {},
     "output_type": "display_data"
    }
   ],
   "source": [
    "accuracy(val_set, Convolution_128)\n",
    "val_index = 66\n",
    "\n",
    "(image, label) = val_set[val_index]\n",
    "image = torch.unsqueeze(image, 0)\n",
    "output = Convolution_128(image)\n",
    "_, prediction = torch.max(output.data, 1)\n",
    "\n",
    "plt.imshow(image.view(16, 16), cmap=plt.cm.gray_r, interpolation='nearest')\n",
    "plt.title(\"Prediction label: %d\" % prediction)"
   ]
  },
  {
   "cell_type": "markdown",
   "metadata": {},
   "source": [
    "# Use of the Drop Out"
   ]
  },
  {
   "cell_type": "code",
   "execution_count": 76,
   "metadata": {},
   "outputs": [],
   "source": [
    "class Convolution_drop(nn.Module):\n",
    "    \n",
    "    def __init__(self, input_channel=1, output_channel=32, kernel_size=3, height=16, width=16, hidden_neural=256, dropout_rate=0.5):\n",
    "        super(Convolution_drop, self).__init__()\n",
    "        self.l1 = nn.Conv2d(input_channel, output_channel, kernel_size, padding=1)\n",
    "        self.l2 = nn.Linear(output_channel * height * width, hidden_neural)\n",
    "        self.l3 = nn.Linear(hidden_neural, 10)\n",
    "        self.dropout = nn.Dropout(dropout_rate)  # Initialize dropout layer\n",
    "\n",
    "    def forward(self, inputs):\n",
    "        h1 = F.relu(self.l1(inputs))\n",
    "        h1_flattened = h1.view(h1.size(0), -1)  # Flatten the output for linear layer\n",
    "        h1_dropped = self.dropout(h1_flattened)  # Apply dropout after flattening (optional placement)\n",
    "        h2 = F.relu(self.l2(h1_dropped))\n",
    "        h2_dropped = self.dropout(h2)  # Apply dropout after the first fully connected layer\n",
    "        outputs = F.softmax(self.l3(h2_dropped), dim=1)\n",
    "        return outputs"
   ]
  },
  {
   "cell_type": "code",
   "execution_count": 77,
   "metadata": {},
   "outputs": [],
   "source": [
    "Model_drop = Convolution_drop(input_channel=1, output_channel=32, kernel_size=3, height=16, width=16 , hidden_neural = 256 , dropout_rate = 0.5)"
   ]
  },
  {
   "cell_type": "code",
   "execution_count": 78,
   "metadata": {},
   "outputs": [
    {
     "name": "stdout",
     "output_type": "stream",
     "text": [
      "tensor([[0.0686, 0.1014, 0.0937, 0.0797, 0.1610, 0.1259, 0.1005, 0.0846, 0.0936,\n",
      "         0.0911],\n",
      "        [0.1009, 0.0754, 0.1242, 0.0986, 0.1161, 0.0839, 0.0855, 0.0910, 0.1136,\n",
      "         0.1107],\n",
      "        [0.0878, 0.0909, 0.0872, 0.1085, 0.0946, 0.1146, 0.1196, 0.0902, 0.0806,\n",
      "         0.1261],\n",
      "        [0.0847, 0.0643, 0.1042, 0.1031, 0.1077, 0.1269, 0.1028, 0.0838, 0.1225,\n",
      "         0.1000],\n",
      "        [0.0915, 0.0947, 0.1250, 0.0985, 0.0956, 0.1268, 0.0705, 0.0929, 0.1030,\n",
      "         0.1016],\n",
      "        [0.0820, 0.0921, 0.1274, 0.1050, 0.0981, 0.1500, 0.0781, 0.0870, 0.1279,\n",
      "         0.0524],\n",
      "        [0.0928, 0.0690, 0.1032, 0.0860, 0.1337, 0.1156, 0.1061, 0.0734, 0.1353,\n",
      "         0.0851],\n",
      "        [0.0856, 0.0745, 0.0982, 0.1119, 0.1107, 0.1178, 0.1077, 0.0916, 0.0970,\n",
      "         0.1050],\n",
      "        [0.1100, 0.0645, 0.1307, 0.1015, 0.1194, 0.1442, 0.0640, 0.0547, 0.1173,\n",
      "         0.0938],\n",
      "        [0.0644, 0.0885, 0.1036, 0.0990, 0.1118, 0.0913, 0.1269, 0.0724, 0.1426,\n",
      "         0.0995]], grad_fn=<SoftmaxBackward0>)\n",
      "tensor([4, 2, 9, 5, 5, 5, 8, 5, 5, 8])\n"
     ]
    }
   ],
   "source": [
    "input_tensor = torch.randn(10, 1, 16, 16) \n",
    "output = Model_drop(input_tensor)\n",
    "print(output)\n",
    "_, predicted_labels = torch.max(output, 1)\n",
    "print(predicted_labels)"
   ]
  },
  {
   "cell_type": "code",
   "execution_count": 79,
   "metadata": {},
   "outputs": [
    {
     "name": "stdout",
     "output_type": "stream",
     "text": [
      " - What is the type of my_model ? <class '__main__.Convolution_drop'>\n",
      "==================================================\n",
      " - Description of the internal of the Network : Convolution_drop(\n",
      "  (l1): Conv2d(1, 32, kernel_size=(3, 3), stride=(1, 1), padding=(1, 1))\n",
      "  (l2): Linear(in_features=8192, out_features=256, bias=True)\n",
      "  (l3): Linear(in_features=256, out_features=10, bias=True)\n",
      "  (dropout): Dropout(p=0.5, inplace=False)\n",
      ")\n",
      "==================================================\n",
      " - Content of the first Layer : Parameter containing:\n",
      "tensor([[[[ 2.5364e-01, -2.8686e-01, -1.8543e-01],\n",
      "          [-8.3240e-02, -1.4339e-02, -1.3872e-01],\n",
      "          [ 1.9886e-01, -1.0470e-01,  6.0872e-02]]],\n",
      "\n",
      "\n",
      "        [[[-2.7079e-01, -1.6575e-01, -1.6413e-01],\n",
      "          [-1.8072e-01,  1.4991e-01,  2.1050e-01],\n",
      "          [-1.4821e-01, -2.5871e-01, -9.0848e-02]]],\n",
      "\n",
      "\n",
      "        [[[-2.6952e-01,  1.8068e-01,  1.1128e-01],\n",
      "          [ 2.2282e-01,  6.5898e-02, -1.7751e-01],\n",
      "          [-8.7436e-02, -1.4105e-01,  2.3965e-01]]],\n",
      "\n",
      "\n",
      "        [[[-3.2771e-01,  1.6610e-01, -1.8684e-01],\n",
      "          [-1.5454e-01, -8.9783e-03,  9.2709e-02],\n",
      "          [-2.3266e-01, -2.4283e-01,  2.8796e-01]]],\n",
      "\n",
      "\n",
      "        [[[-4.1280e-02,  1.5505e-01, -3.1488e-01],\n",
      "          [-2.6153e-01,  2.2410e-02, -3.0902e-01],\n",
      "          [ 2.3111e-01,  1.8454e-02, -1.8445e-01]]],\n",
      "\n",
      "\n",
      "        [[[ 1.1853e-02, -3.1949e-01, -1.6168e-02],\n",
      "          [ 1.3253e-01,  1.4927e-01,  2.8323e-01],\n",
      "          [-2.8624e-01, -1.4542e-01,  6.8457e-02]]],\n",
      "\n",
      "\n",
      "        [[[ 2.3481e-01,  2.3145e-01,  1.0318e-01],\n",
      "          [ 9.1763e-03, -6.2441e-02, -3.2836e-01],\n",
      "          [ 1.8664e-01, -2.3513e-01,  2.7325e-02]]],\n",
      "\n",
      "\n",
      "        [[[-2.2361e-01,  1.2163e-01,  1.8818e-01],\n",
      "          [ 1.1569e-01, -1.3318e-01, -2.5191e-01],\n",
      "          [-1.4273e-01,  2.0282e-01, -9.2375e-02]]],\n",
      "\n",
      "\n",
      "        [[[-1.0062e-01, -3.2760e-01,  3.2024e-02],\n",
      "          [ 1.6924e-01,  8.8278e-02, -2.2903e-01],\n",
      "          [-2.2928e-01, -6.5074e-02,  1.8383e-01]]],\n",
      "\n",
      "\n",
      "        [[[ 1.2165e-01, -3.2325e-02, -2.7981e-02],\n",
      "          [-2.7072e-01,  2.1962e-01,  2.5707e-01],\n",
      "          [-2.0117e-01, -1.1435e-02,  2.5901e-01]]],\n",
      "\n",
      "\n",
      "        [[[ 3.1302e-01, -2.3000e-03,  3.3223e-01],\n",
      "          [-2.0620e-01,  2.8986e-01,  1.3848e-01],\n",
      "          [ 3.2544e-01,  2.7600e-01, -1.8984e-01]]],\n",
      "\n",
      "\n",
      "        [[[ 6.8682e-02,  2.1712e-01, -1.8144e-01],\n",
      "          [ 1.7109e-01,  2.0086e-01,  3.1688e-01],\n",
      "          [-1.9890e-01, -3.3914e-02,  1.3264e-01]]],\n",
      "\n",
      "\n",
      "        [[[-1.9171e-01,  2.3764e-01,  4.1018e-02],\n",
      "          [ 6.9013e-02, -1.3111e-01, -2.4110e-01],\n",
      "          [ 1.6442e-04,  6.4715e-02, -2.1122e-01]]],\n",
      "\n",
      "\n",
      "        [[[-1.0112e-01,  5.0940e-02, -5.2616e-02],\n",
      "          [-2.6571e-01,  2.8440e-01,  2.7867e-01],\n",
      "          [-1.3902e-01, -1.1968e-01,  8.2623e-02]]],\n",
      "\n",
      "\n",
      "        [[[-2.8670e-01,  2.6066e-01, -6.4825e-02],\n",
      "          [ 3.7403e-02,  1.5832e-01,  1.1467e-01],\n",
      "          [ 2.1950e-01,  2.9706e-01,  1.3322e-01]]],\n",
      "\n",
      "\n",
      "        [[[ 3.1176e-01, -2.0488e-01,  2.5178e-01],\n",
      "          [ 1.5454e-01,  1.3979e-01,  1.4707e-01],\n",
      "          [-2.9586e-01,  1.4470e-01, -2.5690e-01]]],\n",
      "\n",
      "\n",
      "        [[[ 1.8426e-01,  1.3655e-01,  2.7832e-01],\n",
      "          [ 2.0186e-01,  1.5444e-01, -2.2208e-01],\n",
      "          [-9.8313e-02, -1.7653e-01,  1.7909e-01]]],\n",
      "\n",
      "\n",
      "        [[[-2.5768e-01, -2.0817e-01,  1.2868e-01],\n",
      "          [ 1.9798e-01,  6.8742e-02,  7.0332e-02],\n",
      "          [ 1.1852e-01, -2.6645e-01, -3.0818e-01]]],\n",
      "\n",
      "\n",
      "        [[[-2.0401e-01, -2.9014e-01, -2.0479e-01],\n",
      "          [-1.0889e-02,  3.5308e-02, -3.0288e-01],\n",
      "          [-3.2925e-01,  2.1697e-01,  5.9377e-02]]],\n",
      "\n",
      "\n",
      "        [[[ 1.8674e-01,  7.3684e-02,  4.4194e-02],\n",
      "          [-1.3461e-01, -3.0357e-01,  7.2979e-02],\n",
      "          [-1.6249e-01,  1.4896e-01, -9.9185e-02]]],\n",
      "\n",
      "\n",
      "        [[[ 1.8003e-01,  2.0963e-03,  6.0043e-02],\n",
      "          [-6.5606e-02,  2.9299e-01,  2.8385e-01],\n",
      "          [-2.8874e-01,  1.5245e-01, -2.4822e-01]]],\n",
      "\n",
      "\n",
      "        [[[ 2.6997e-01, -2.2171e-01, -1.9028e-01],\n",
      "          [ 2.7816e-01,  1.3007e-02,  3.2795e-01],\n",
      "          [-3.9789e-02, -1.4362e-01, -3.1374e-02]]],\n",
      "\n",
      "\n",
      "        [[[ 2.8939e-01,  1.8142e-01, -1.7597e-01],\n",
      "          [ 2.9071e-01, -5.6670e-02, -2.3516e-01],\n",
      "          [ 1.6353e-01, -4.9891e-02,  1.1386e-01]]],\n",
      "\n",
      "\n",
      "        [[[ 3.9907e-02,  2.9695e-01,  2.9623e-01],\n",
      "          [ 9.6386e-02,  2.3502e-01, -5.1362e-02],\n",
      "          [-5.8816e-02, -2.3627e-01, -1.4302e-01]]],\n",
      "\n",
      "\n",
      "        [[[ 1.8473e-01, -2.1891e-01,  1.8638e-01],\n",
      "          [ 2.9068e-01,  2.9885e-01, -2.2695e-01],\n",
      "          [-1.1030e-01,  4.8054e-02,  1.9602e-02]]],\n",
      "\n",
      "\n",
      "        [[[-1.3326e-01, -1.6264e-02, -8.2115e-03],\n",
      "          [-1.2986e-01,  1.7531e-01, -2.2986e-01],\n",
      "          [ 3.4026e-02,  1.8661e-01, -1.9195e-01]]],\n",
      "\n",
      "\n",
      "        [[[-9.3002e-02, -9.8288e-02,  1.0821e-01],\n",
      "          [-4.1641e-02, -2.3220e-02, -2.4821e-01],\n",
      "          [ 3.4933e-02, -3.0816e-01,  3.3303e-01]]],\n",
      "\n",
      "\n",
      "        [[[ 2.3885e-01, -2.7890e-02, -2.3576e-01],\n",
      "          [-4.1997e-02,  1.5316e-03,  2.9857e-01],\n",
      "          [ 1.7405e-01, -1.9107e-01, -1.1206e-01]]],\n",
      "\n",
      "\n",
      "        [[[-1.2521e-02, -1.5214e-01, -2.1195e-03],\n",
      "          [ 1.9087e-01,  1.8090e-01,  3.2472e-01],\n",
      "          [-9.9756e-02, -2.9788e-01, -6.7747e-02]]],\n",
      "\n",
      "\n",
      "        [[[-1.5783e-01,  2.2498e-01,  9.2709e-02],\n",
      "          [-7.3943e-02,  2.4577e-01, -2.4554e-01],\n",
      "          [ 3.5049e-02, -1.5667e-01, -3.2127e-01]]],\n",
      "\n",
      "\n",
      "        [[[ 1.4013e-01, -1.7090e-01, -3.1264e-01],\n",
      "          [ 2.5861e-01, -5.2512e-03,  2.7561e-02],\n",
      "          [ 2.2236e-01, -1.5936e-01, -1.7683e-01]]],\n",
      "\n",
      "\n",
      "        [[[ 3.3320e-01, -3.0282e-01, -4.4854e-02],\n",
      "          [ 6.2900e-03,  2.6338e-01,  1.1275e-01],\n",
      "          [ 2.6622e-01,  1.8505e-01, -3.0165e-01]]]], requires_grad=True)\n",
      "==================================================\n",
      " - Content of the second Layer : Parameter containing:\n",
      "tensor([[-6.4499e-03, -7.6013e-03,  5.0545e-03,  ...,  6.3156e-03,\n",
      "         -9.5050e-03, -4.4039e-03],\n",
      "        [ 1.0885e-03,  5.9883e-03, -4.7334e-05,  ...,  7.0804e-03,\n",
      "         -2.4410e-03, -8.2424e-03],\n",
      "        [ 6.8997e-03,  9.1079e-03,  3.8565e-03,  ..., -4.2013e-03,\n",
      "          4.3995e-03, -1.3339e-03],\n",
      "        ...,\n",
      "        [-4.6713e-03,  8.1058e-03,  5.1522e-03,  ...,  8.9304e-03,\n",
      "         -2.0028e-03, -8.8125e-03],\n",
      "        [-1.1276e-03,  2.6184e-03,  1.7204e-03,  ...,  8.7360e-03,\n",
      "         -4.1208e-03,  6.7169e-03],\n",
      "        [ 4.0229e-03, -7.5692e-03,  8.5376e-03,  ..., -1.0004e-02,\n",
      "         -6.7408e-03, -6.6871e-03]], requires_grad=True)\n"
     ]
    }
   ],
   "source": [
    "print(\" - What is the type of my_model ?\",type(Model_drop))\n",
    "print(\"=\"*50)\n",
    "print(\" - Description of the internal of the Network :\",Model_drop)\n",
    "print(\"=\"*50)\n",
    "print(\" - Content of the first Layer :\", Model_drop.l1.weight,)\n",
    "print(\"=\"*50)\n",
    "print(\" - Content of the second Layer :\", Model_drop.l2.weight,)"
   ]
  },
  {
   "cell_type": "code",
   "execution_count": 80,
   "metadata": {},
   "outputs": [],
   "source": [
    "num_epochs = 10\n",
    "batch_size = 5\n",
    "\n",
    "# Use mean squared loss function \n",
    "criterion = nn.MSELoss()\n",
    "\n",
    "# Use SGD optimizer with a learning rate of 0.01\n",
    "# It is initialized on our model\n",
    "optimizer = torch.optim.SGD(Model_drop.parameters(), lr=0.1)"
   ]
  },
  {
   "cell_type": "code",
   "execution_count": 81,
   "metadata": {},
   "outputs": [
    {
     "name": "stdout",
     "output_type": "stream",
     "text": [
      "Epoch [1/10], Loss: 0.0527\n",
      "Epoch [2/10], Loss: 0.0182\n",
      "Epoch [3/10], Loss: 0.0136\n",
      "Epoch [4/10], Loss: 0.0118\n",
      "Epoch [5/10], Loss: 0.0112\n",
      "Epoch [6/10], Loss: 0.0097\n",
      "Epoch [7/10], Loss: 0.0097\n",
      "Epoch [8/10], Loss: 0.0091\n",
      "Epoch [9/10], Loss: 0.0087\n",
      "Epoch [10/10], Loss: 0.0081\n",
      "[0.05272418337195024, 0.01817327427814274, 0.013639261620003255, 0.011810545312357078, 0.01118020804561576, 0.009736512963384777, 0.009725855367882568, 0.00913387553283617, 0.00870619823200534, 0.008078083315136101]\n"
     ]
    }
   ],
   "source": [
    "train_error_drop = train(num_epochs, batch_size , criterion, optimizer, Model_drop, train_set)\n",
    "print(train_error_drop)"
   ]
  },
  {
   "cell_type": "code",
   "execution_count": 82,
   "metadata": {},
   "outputs": [
    {
     "data": {
      "text/plain": [
       "Text(0.5, 1.0, 'Visualization of convergence')"
      ]
     },
     "execution_count": 82,
     "metadata": {},
     "output_type": "execute_result"
    },
    {
     "data": {
      "image/png": "[encoded data removed]",
      "text/plain": [
       "<Figure size 640x480 with 1 Axes>"
      ]
     },
     "metadata": {},
     "output_type": "display_data"
    }
   ],
   "source": [
    "plt.plot(range(1, num_epochs+1), train_error_drop)\n",
    "plt.xlabel(\"num_epochs\")\n",
    "plt.ylabel(\"Train error\")\n",
    "plt.title(\"Visualization of convergence\")"
   ]
  },
  {
   "cell_type": "code",
   "execution_count": 83,
   "metadata": {},
   "outputs": [
    {
     "name": "stdout",
     "output_type": "stream",
     "text": [
      "Accuracy of the model : 95.89 %\n"
     ]
    }
   ],
   "source": [
    "accuracy(val_set, Model_drop)"
   ]
  },
  {
   "cell_type": "code",
   "execution_count": 84,
   "metadata": {},
   "outputs": [
    {
     "data": {
      "text/plain": [
       "Text(0.5, 1.0, 'Prediction label: 5')"
      ]
     },
     "execution_count": 84,
     "metadata": {},
     "output_type": "execute_result"
    },
    {
     "data": {
      "image/png": "[encoded data removed]",
      "text/plain": [
       "<Figure size 640x480 with 1 Axes>"
      ]
     },
     "metadata": {},
     "output_type": "display_data"
    }
   ],
   "source": [
    "\n",
    "val_index = 66\n",
    "\n",
    "(image, label) = val_set[val_index]\n",
    "image = torch.unsqueeze(image, 0)\n",
    "output = Model_drop(image)\n",
    "_, prediction = torch.max(output.data, 1)\n",
    "\n",
    "plt.imshow(image.view(16, 16), cmap=plt.cm.gray_r, interpolation='nearest')\n",
    "plt.title(\"Prediction label: %d\" % prediction)"
   ]
  },
  {
   "cell_type": "code",
   "execution_count": 85,
   "metadata": {},
   "outputs": [],
   "source": [
    "Model_drop_1 = Convolution_drop(input_channel=1, output_channel=32, kernel_size=3, height=16, width=16 , hidden_neural = 256 , dropout_rate = 0.8)"
   ]
  },
  {
   "cell_type": "code",
   "execution_count": 86,
   "metadata": {},
   "outputs": [
    {
     "name": "stdout",
     "output_type": "stream",
     "text": [
      "tensor([[0.1135, 0.3018, 0.0892, 0.0662, 0.0292, 0.0400, 0.0695, 0.0949, 0.1454,\n",
      "         0.0503],\n",
      "        [0.1115, 0.1172, 0.0956, 0.0851, 0.2687, 0.0533, 0.0592, 0.0636, 0.0922,\n",
      "         0.0536],\n",
      "        [0.0782, 0.1153, 0.1202, 0.1436, 0.1336, 0.0508, 0.0487, 0.1175, 0.0577,\n",
      "         0.1343],\n",
      "        [0.1474, 0.0474, 0.2248, 0.1282, 0.0664, 0.0676, 0.0989, 0.0398, 0.1392,\n",
      "         0.0403],\n",
      "        [0.0595, 0.0786, 0.0663, 0.2058, 0.1231, 0.0577, 0.1527, 0.1088, 0.1020,\n",
      "         0.0454],\n",
      "        [0.1133, 0.0462, 0.2153, 0.0712, 0.1093, 0.0362, 0.0563, 0.0642, 0.1888,\n",
      "         0.0992],\n",
      "        [0.0499, 0.0675, 0.0826, 0.1116, 0.1083, 0.0886, 0.1253, 0.0751, 0.1773,\n",
      "         0.1138],\n",
      "        [0.1116, 0.0705, 0.1215, 0.0388, 0.0776, 0.0614, 0.2442, 0.0487, 0.1436,\n",
      "         0.0819],\n",
      "        [0.0737, 0.0511, 0.0920, 0.1556, 0.1524, 0.0381, 0.2420, 0.0544, 0.0647,\n",
      "         0.0759],\n",
      "        [0.0213, 0.0816, 0.0957, 0.0756, 0.2496, 0.0535, 0.0379, 0.0716, 0.2187,\n",
      "         0.0944]], grad_fn=<SoftmaxBackward0>)\n",
      "tensor([1, 4, 3, 2, 3, 2, 8, 6, 6, 4])\n"
     ]
    }
   ],
   "source": [
    "input_tensor = torch.randn(10, 1, 16, 16) \n",
    "output = Model_drop_1(input_tensor)\n",
    "print(output)\n",
    "_, predicted_labels = torch.max(output, 1)\n",
    "print(predicted_labels)"
   ]
  },
  {
   "cell_type": "code",
   "execution_count": 87,
   "metadata": {},
   "outputs": [
    {
     "name": "stdout",
     "output_type": "stream",
     "text": [
      " - What is the type of my_model ? <class '__main__.Convolution_drop'>\n",
      "==================================================\n",
      " - Description of the internal of the Network : Convolution_drop(\n",
      "  (l1): Conv2d(1, 32, kernel_size=(3, 3), stride=(1, 1), padding=(1, 1))\n",
      "  (l2): Linear(in_features=8192, out_features=256, bias=True)\n",
      "  (l3): Linear(in_features=256, out_features=10, bias=True)\n",
      "  (dropout): Dropout(p=0.8, inplace=False)\n",
      ")\n",
      "==================================================\n",
      " - Content of the first Layer : Parameter containing:\n",
      "tensor([[[[ 2.1276e-01,  3.2670e-01, -1.4681e-01],\n",
      "          [-2.3387e-01,  2.0451e-01, -2.5219e-01],\n",
      "          [ 8.4457e-02,  3.0082e-01,  1.7572e-01]]],\n",
      "\n",
      "\n",
      "        [[[-2.2603e-01, -2.1023e-01,  2.1474e-01],\n",
      "          [ 1.2258e-01, -2.1534e-01, -1.9317e-01],\n",
      "          [ 1.3978e-01,  5.6203e-02, -1.2763e-01]]],\n",
      "\n",
      "\n",
      "        [[[ 3.3049e-01, -2.2597e-01, -1.9985e-01],\n",
      "          [-4.2328e-02, -1.8060e-01,  3.1604e-01],\n",
      "          [-9.2091e-02,  2.8546e-01, -7.8355e-02]]],\n",
      "\n",
      "\n",
      "        [[[ 1.2547e-01,  2.8472e-02, -1.7914e-01],\n",
      "          [-2.7780e-01, -3.3002e-01,  6.3762e-04],\n",
      "          [-1.9960e-01, -1.1019e-01,  3.0948e-01]]],\n",
      "\n",
      "\n",
      "        [[[-1.5728e-01, -2.1368e-01, -5.7431e-02],\n",
      "          [-3.1595e-01, -2.2825e-01,  2.5534e-01],\n",
      "          [ 2.9216e-01,  2.5935e-01, -3.0746e-01]]],\n",
      "\n",
      "\n",
      "        [[[ 1.9305e-01, -1.3491e-01, -7.6742e-02],\n",
      "          [ 2.2040e-01,  1.4994e-01,  1.1403e-01],\n",
      "          [ 1.8875e-01, -3.0385e-03,  5.4370e-02]]],\n",
      "\n",
      "\n",
      "        [[[ 1.1178e-01, -2.2022e-02,  3.1484e-01],\n",
      "          [-2.5761e-01,  1.4203e-01,  2.6706e-01],\n",
      "          [ 2.5193e-01, -1.5762e-01, -3.1037e-01]]],\n",
      "\n",
      "\n",
      "        [[[ 7.4873e-02,  2.8565e-01, -2.4569e-01],\n",
      "          [ 2.7929e-01,  1.4157e-01, -2.2895e-01],\n",
      "          [ 2.8961e-01, -9.2461e-03,  3.0079e-02]]],\n",
      "\n",
      "\n",
      "        [[[-1.0634e-01, -3.2658e-02,  2.1732e-01],\n",
      "          [ 2.3004e-02, -1.0326e-01, -1.3441e-02],\n",
      "          [ 9.3366e-02,  2.5051e-02,  6.1644e-02]]],\n",
      "\n",
      "\n",
      "        [[[ 1.7200e-01, -2.9927e-01, -2.5177e-01],\n",
      "          [ 3.2770e-01,  3.5795e-02, -1.6667e-01],\n",
      "          [-7.7847e-02,  1.3749e-01,  7.0116e-03]]],\n",
      "\n",
      "\n",
      "        [[[-2.2172e-01,  9.7448e-02, -1.0106e-01],\n",
      "          [-1.2825e-01,  5.7764e-02,  1.2939e-01],\n",
      "          [-3.2159e-01, -1.2723e-01,  8.0798e-02]]],\n",
      "\n",
      "\n",
      "        [[[-2.2279e-01, -2.5540e-01, -1.6723e-01],\n",
      "          [-2.2172e-02, -1.8538e-01, -2.5267e-01],\n",
      "          [-2.5287e-01,  2.7779e-01,  2.2491e-01]]],\n",
      "\n",
      "\n",
      "        [[[ 2.2782e-01,  4.9255e-02, -1.6282e-02],\n",
      "          [-2.9577e-01,  7.0015e-03,  1.8847e-01],\n",
      "          [ 2.4732e-01,  2.1457e-03,  1.1811e-01]]],\n",
      "\n",
      "\n",
      "        [[[-2.4992e-01,  4.6993e-02, -7.4506e-02],\n",
      "          [-7.4729e-02,  2.2419e-01,  1.4587e-01],\n",
      "          [ 1.1726e-01,  3.0569e-01,  1.8765e-01]]],\n",
      "\n",
      "\n",
      "        [[[ 3.1447e-01, -8.2340e-02, -2.1055e-01],\n",
      "          [-2.1377e-01, -3.1604e-01,  2.7339e-01],\n",
      "          [-2.9528e-01, -1.3721e-01,  2.7536e-01]]],\n",
      "\n",
      "\n",
      "        [[[ 2.4632e-01, -1.5294e-01, -2.8569e-01],\n",
      "          [-1.7804e-01,  3.2888e-01,  1.4558e-01],\n",
      "          [-2.9912e-01,  4.1950e-02, -1.8979e-01]]],\n",
      "\n",
      "\n",
      "        [[[-1.9107e-01, -3.1878e-01, -2.3489e-02],\n",
      "          [-8.2261e-03, -2.6220e-01,  2.9657e-02],\n",
      "          [ 2.2815e-01, -1.2444e-01, -7.9464e-02]]],\n",
      "\n",
      "\n",
      "        [[[-4.8178e-02,  4.2130e-02,  1.3852e-01],\n",
      "          [-2.1481e-01, -1.0794e-01,  2.8651e-01],\n",
      "          [ 1.4881e-01, -3.2794e-01,  2.1577e-04]]],\n",
      "\n",
      "\n",
      "        [[[ 1.2175e-02, -1.9639e-01,  1.3051e-01],\n",
      "          [-1.4142e-01, -2.0173e-01,  3.4635e-02],\n",
      "          [ 3.1494e-01,  5.4627e-02, -7.9950e-02]]],\n",
      "\n",
      "\n",
      "        [[[ 2.1860e-02, -2.2663e-02, -1.6571e-01],\n",
      "          [-1.8907e-01, -6.1534e-02,  2.5454e-01],\n",
      "          [ 2.6863e-01, -2.6206e-01,  2.5201e-01]]],\n",
      "\n",
      "\n",
      "        [[[ 1.0282e-01,  1.8294e-01,  2.1054e-01],\n",
      "          [-1.9083e-01, -7.9387e-02, -1.6813e-02],\n",
      "          [-1.2702e-01,  1.4503e-01,  1.2090e-01]]],\n",
      "\n",
      "\n",
      "        [[[-1.9083e-01,  1.2230e-01, -6.0160e-02],\n",
      "          [ 2.0627e-01,  2.5397e-01,  2.3027e-01],\n",
      "          [-2.0199e-01, -3.2751e-01,  1.8740e-01]]],\n",
      "\n",
      "\n",
      "        [[[-2.3960e-01,  8.4497e-02,  1.0233e-01],\n",
      "          [-5.8767e-02, -2.2205e-01, -2.4718e-01],\n",
      "          [-1.3660e-01, -1.8152e-01, -1.5661e-01]]],\n",
      "\n",
      "\n",
      "        [[[ 1.4079e-01,  7.6839e-02, -3.1642e-01],\n",
      "          [ 2.7415e-01,  1.2724e-01,  1.2707e-03],\n",
      "          [-3.1767e-01, -8.0794e-02,  2.7930e-01]]],\n",
      "\n",
      "\n",
      "        [[[ 1.5239e-01, -1.7108e-01,  1.2940e-01],\n",
      "          [-2.5258e-01,  2.6844e-01,  2.3316e-01],\n",
      "          [-1.9261e-01,  2.0459e-01,  2.9581e-01]]],\n",
      "\n",
      "\n",
      "        [[[-1.3623e-01,  1.4658e-02, -5.4635e-02],\n",
      "          [ 2.6854e-01, -3.2565e-01, -2.6282e-01],\n",
      "          [-4.0513e-03,  1.8695e-01, -3.2857e-01]]],\n",
      "\n",
      "\n",
      "        [[[ 1.4750e-01,  2.0352e-01, -9.6110e-02],\n",
      "          [ 2.6071e-02, -3.1430e-02,  3.2143e-01],\n",
      "          [ 3.1733e-01, -3.2481e-02,  8.9398e-02]]],\n",
      "\n",
      "\n",
      "        [[[ 1.4526e-01,  2.7811e-01,  1.6484e-01],\n",
      "          [ 5.1206e-02,  2.6172e-01, -1.7304e-01],\n",
      "          [-2.6153e-01, -2.2863e-01, -2.2221e-01]]],\n",
      "\n",
      "\n",
      "        [[[-2.8887e-02, -1.4972e-01, -3.0904e-01],\n",
      "          [-6.2520e-02, -1.5859e-01,  8.5259e-02],\n",
      "          [ 3.1993e-01, -2.3971e-01,  2.8899e-01]]],\n",
      "\n",
      "\n",
      "        [[[ 2.8838e-01, -2.5023e-01, -3.0703e-01],\n",
      "          [ 8.2000e-02, -6.9214e-02,  1.2853e-01],\n",
      "          [ 5.0049e-02, -3.0324e-01,  2.5647e-01]]],\n",
      "\n",
      "\n",
      "        [[[ 3.5729e-03, -2.6021e-01, -1.7192e-01],\n",
      "          [ 1.4319e-01,  2.4135e-01, -3.1389e-01],\n",
      "          [-1.1511e-01, -1.9472e-01,  7.2682e-02]]],\n",
      "\n",
      "\n",
      "        [[[-2.7804e-02,  2.1673e-01,  3.4568e-02],\n",
      "          [ 2.7953e-01,  3.9481e-02, -3.0701e-01],\n",
      "          [-2.8653e-01, -3.3270e-01,  2.9422e-01]]]], requires_grad=True)\n",
      "==================================================\n",
      " - Content of the second Layer : Parameter containing:\n",
      "tensor([[ 0.0106,  0.0014,  0.0069,  ...,  0.0080, -0.0089, -0.0042],\n",
      "        [-0.0010, -0.0058, -0.0044,  ...,  0.0056,  0.0082, -0.0096],\n",
      "        [ 0.0074, -0.0030,  0.0093,  ...,  0.0011, -0.0087,  0.0018],\n",
      "        ...,\n",
      "        [-0.0087, -0.0058,  0.0088,  ..., -0.0109, -0.0032, -0.0045],\n",
      "        [ 0.0067,  0.0017,  0.0030,  ..., -0.0073, -0.0014,  0.0033],\n",
      "        [ 0.0039, -0.0013,  0.0101,  ...,  0.0009, -0.0097, -0.0031]],\n",
      "       requires_grad=True)\n"
     ]
    }
   ],
   "source": [
    "print(\" - What is the type of my_model ?\",type(Model_drop_1))\n",
    "print(\"=\"*50)\n",
    "print(\" - Description of the internal of the Network :\",Model_drop_1)\n",
    "print(\"=\"*50)\n",
    "print(\" - Content of the first Layer :\", Model_drop_1.l1.weight,)\n",
    "print(\"=\"*50)\n",
    "print(\" - Content of the second Layer :\", Model_drop_1.l2.weight,)"
   ]
  },
  {
   "cell_type": "code",
   "execution_count": 88,
   "metadata": {},
   "outputs": [],
   "source": [
    "num_epochs = 10\n",
    "batch_size = 5\n",
    "\n",
    "# Use mean squared loss function \n",
    "criterion = nn.MSELoss()\n",
    "\n",
    "# Use SGD optimizer with a learning rate of 0.01\n",
    "# It is initialized on our model\n",
    "optimizer = torch.optim.SGD(Model_drop_1.parameters(), lr=0.1)"
   ]
  },
  {
   "cell_type": "code",
   "execution_count": 89,
   "metadata": {},
   "outputs": [
    {
     "name": "stdout",
     "output_type": "stream",
     "text": [
      "Epoch [1/10], Loss: 0.0699\n",
      "Epoch [2/10], Loss: 0.0389\n",
      "Epoch [3/10], Loss: 0.0295\n",
      "Epoch [4/10], Loss: 0.0270\n",
      "Epoch [5/10], Loss: 0.0236\n",
      "Epoch [6/10], Loss: 0.0215\n",
      "Epoch [7/10], Loss: 0.0204\n",
      "Epoch [8/10], Loss: 0.0190\n",
      "Epoch [9/10], Loss: 0.0185\n",
      "Epoch [10/10], Loss: 0.0177\n",
      "[0.0698787551450853, 0.0388732610415657, 0.029473971400332224, 0.027023053490387736, 0.023582843601486072, 0.021529319112555418, 0.020374421066247792, 0.0189815961054753, 0.018486458770934144, 0.01769882488327973]\n"
     ]
    }
   ],
   "source": [
    "train_error_drop_1 = train(num_epochs, batch_size , criterion, optimizer, Model_drop_1, train_set)\n",
    "print(train_error_drop_1)"
   ]
  },
  {
   "cell_type": "code",
   "execution_count": 90,
   "metadata": {},
   "outputs": [
    {
     "data": {
      "text/plain": [
       "Text(0.5, 1.0, 'Visualization of convergence')"
      ]
     },
     "execution_count": 90,
     "metadata": {},
     "output_type": "execute_result"
    },
    {
     "data": {
      "image/png": "[encoded data removed]",
      "text/plain": [
       "<Figure size 640x480 with 1 Axes>"
      ]
     },
     "metadata": {},
     "output_type": "display_data"
    }
   ],
   "source": [
    "plt.plot(range(1, num_epochs+1), train_error_drop_1)\n",
    "plt.xlabel(\"num_epochs\")\n",
    "plt.ylabel(\"Train error\")\n",
    "plt.title(\"Visualization of convergence\")"
   ]
  },
  {
   "cell_type": "code",
   "execution_count": 91,
   "metadata": {},
   "outputs": [
    {
     "name": "stdout",
     "output_type": "stream",
     "text": [
      "Accuracy of the model : 95.27 %\n"
     ]
    }
   ],
   "source": [
    "accuracy(val_set, Model_drop)"
   ]
  },
  {
   "cell_type": "code",
   "execution_count": 92,
   "metadata": {},
   "outputs": [
    {
     "data": {
      "text/plain": [
       "Text(0.5, 1.0, 'Prediction label: 5')"
      ]
     },
     "execution_count": 92,
     "metadata": {},
     "output_type": "execute_result"
    },
    {
     "data": {
      "image/png": "[encoded data removed]",
      "text/plain": [
       "<Figure size 640x480 with 1 Axes>"
      ]
     },
     "metadata": {},
     "output_type": "display_data"
    }
   ],
   "source": [
    "\n",
    "val_index = 66\n",
    "\n",
    "(image, label) = val_set[val_index]\n",
    "image = torch.unsqueeze(image, 0)\n",
    "output = Model_drop_1(image)\n",
    "_, prediction = torch.max(output.data, 1)\n",
    "\n",
    "plt.imshow(image.view(16, 16), cmap=plt.cm.gray_r, interpolation='nearest')\n",
    "plt.title(\"Prediction label: %d\" % prediction)"
   ]
  },
  {
   "cell_type": "markdown",
   "metadata": {},
   "source": [
    "---"
   ]
  },
  {
   "cell_type": "code",
   "execution_count": 93,
   "metadata": {},
   "outputs": [],
   "source": [
    "class Bilayer(nn.Module):\n",
    "    \n",
    "    def __init__(self , first_layer = 256):\n",
    "        super(Bilayer, self).__init__()\n",
    "        # We allocate space for the weights\n",
    "        self.l1 = nn.Linear(16*16, first_layer)\n",
    "        self.l2 = nn.Linear(first_layer, 10)\n",
    "        # Input size is 16*16, output size should be the same with the number of classes\n",
    "        \n",
    "    def forward(self, inputs): # Called when we apply the network \n",
    "        h = F.relu(self.l1(inputs)) # You can put anything, as long as its Pytorch functions\n",
    "        outputs = F.softmax(self.l2(h), dim=1)# Use softmax as the activation function for the last layer\n",
    "        return outputs"
   ]
  },
  {
   "cell_type": "code",
   "execution_count": 94,
   "metadata": {},
   "outputs": [],
   "source": [
    "Bi_layer_256 = Bilayer(256)"
   ]
  },
  {
   "cell_type": "code",
   "execution_count": 95,
   "metadata": {},
   "outputs": [
    {
     "name": "stdout",
     "output_type": "stream",
     "text": [
      "Original tensor shape torch.Size([5, 1, 16, 16])\n",
      "==================================================\n",
      "Impact of the view method torch.Size([5, 256])\n",
      "==================================================\n",
      "Shape of the output torch.Size([5, 10])\n",
      "==================================================\n",
      "Predictions for the first image : tensor([0.1149, 0.0967, 0.1103, 0.0939, 0.0920, 0.0895, 0.0894, 0.1119, 0.0980,\n",
      "        0.1034])\n",
      "==================================================\n",
      "Sum of all outputs :  tensor(1., grad_fn=<SumBackward0>)\n"
     ]
    }
   ],
   "source": [
    "# Let's explore the forward pass\n",
    "example_batch_size = 5\n",
    "example_loader = DataLoader(dataset, batch_size=example_batch_size, shuffle=True)\n",
    "\n",
    "for images,labels in example_loader:\n",
    "    print(\"Original tensor shape\",images.shape)\n",
    "    print(\"=\"*50)\n",
    "    print(\"Impact of the view method\",images.view(example_batch_size,-1).shape)\n",
    "    print(\"=\"*50)\n",
    "    example_output = Bi_layer_256(images.view(example_batch_size,-1))\n",
    "    print(\"Shape of the output\",example_output.shape)\n",
    "    print(\"=\"*50)\n",
    "    print(\"Predictions for the first image :\",example_output[0].detach())\n",
    "    print(\"=\"*50)\n",
    "    print(\"Sum of all outputs : \",torch.sum(example_output[0])) # You should use detach !\n",
    "    break\n"
   ]
  },
  {
   "cell_type": "code",
   "execution_count": 96,
   "metadata": {},
   "outputs": [
    {
     "name": "stdout",
     "output_type": "stream",
     "text": [
      "tensor([[0.1192, 0.0983, 0.1230, 0.1199, 0.0730, 0.0892, 0.0676, 0.1137, 0.0573,\n",
      "         0.1387],\n",
      "        [0.1089, 0.0813, 0.1400, 0.1080, 0.0867, 0.1070, 0.0696, 0.1049, 0.0567,\n",
      "         0.1370],\n",
      "        [0.0899, 0.0600, 0.1628, 0.1263, 0.0954, 0.0692, 0.1034, 0.1134, 0.0629,\n",
      "         0.1167],\n",
      "        [0.0938, 0.0942, 0.1125, 0.1258, 0.0803, 0.0725, 0.0998, 0.1261, 0.0769,\n",
      "         0.1180],\n",
      "        [0.1113, 0.0922, 0.1130, 0.1159, 0.1065, 0.0763, 0.0693, 0.1196, 0.0663,\n",
      "         0.1295],\n",
      "        [0.1085, 0.0900, 0.1410, 0.1127, 0.0995, 0.0717, 0.0567, 0.0964, 0.0708,\n",
      "         0.1527],\n",
      "        [0.1270, 0.0744, 0.1171, 0.1042, 0.0885, 0.0948, 0.0654, 0.1165, 0.1063,\n",
      "         0.1058],\n",
      "        [0.0864, 0.0477, 0.1470, 0.1169, 0.1323, 0.0754, 0.0649, 0.1132, 0.0608,\n",
      "         0.1554],\n",
      "        [0.0708, 0.0878, 0.1073, 0.0873, 0.0813, 0.0770, 0.0865, 0.1203, 0.1112,\n",
      "         0.1704],\n",
      "        [0.0965, 0.1001, 0.1544, 0.1059, 0.1107, 0.0670, 0.0713, 0.1110, 0.0589,\n",
      "         0.1243]], grad_fn=<SoftmaxBackward0>)\n",
      "tensor([9, 2, 2, 7, 9, 9, 0, 9, 9, 2])\n"
     ]
    }
   ],
   "source": [
    "input_tensor = torch.randn(10, 1, 16, 16) \n",
    "output = Bi_layer_256(input_tensor.view(input_tensor.size(0),-1))\n",
    "print(output)\n",
    "_, predicted_labels = torch.max(output, 1)\n",
    "print(predicted_labels)"
   ]
  },
  {
   "cell_type": "code",
   "execution_count": 97,
   "metadata": {},
   "outputs": [
    {
     "name": "stdout",
     "output_type": "stream",
     "text": [
      " - What is the type of my_model ? <class '__main__.Bilayer'>\n",
      "==================================================\n",
      " - Description of the internal of the Network : Bilayer(\n",
      "  (l1): Linear(in_features=256, out_features=256, bias=True)\n",
      "  (l2): Linear(in_features=256, out_features=10, bias=True)\n",
      ")\n",
      "==================================================\n",
      " - Content of the first Layer : Parameter containing:\n",
      "tensor([[-0.0371,  0.0330,  0.0100,  ...,  0.0221, -0.0435,  0.0463],\n",
      "        [ 0.0042, -0.0073,  0.0128,  ...,  0.0565, -0.0561, -0.0084],\n",
      "        [-0.0344, -0.0380, -0.0577,  ...,  0.0339, -0.0140, -0.0301],\n",
      "        ...,\n",
      "        [-0.0363,  0.0197,  0.0548,  ...,  0.0002, -0.0569, -0.0326],\n",
      "        [ 0.0263,  0.0121,  0.0157,  ..., -0.0240,  0.0540,  0.0376],\n",
      "        [ 0.0002, -0.0317, -0.0513,  ...,  0.0339,  0.0558, -0.0577]],\n",
      "       requires_grad=True)\n",
      "==================================================\n",
      " - Content of the second Layer : Parameter containing:\n",
      "tensor([[-0.0116,  0.0063, -0.0370,  ..., -0.0398,  0.0152,  0.0222],\n",
      "        [-0.0467,  0.0536,  0.0095,  ...,  0.0035, -0.0518,  0.0582],\n",
      "        [-0.0142, -0.0092,  0.0002,  ...,  0.0559,  0.0062,  0.0344],\n",
      "        ...,\n",
      "        [ 0.0560, -0.0066,  0.0218,  ..., -0.0232,  0.0450,  0.0068],\n",
      "        [-0.0251,  0.0178,  0.0352,  ...,  0.0505,  0.0456, -0.0613],\n",
      "        [ 0.0191, -0.0478,  0.0326,  ..., -0.0614, -0.0091,  0.0433]],\n",
      "       requires_grad=True)\n"
     ]
    }
   ],
   "source": [
    "print(\" - What is the type of my_model ?\",type(Bi_layer_256))\n",
    "print(\"=\"*50)\n",
    "print(\" - Description of the internal of the Network :\",Bi_layer_256)\n",
    "print(\"=\"*50)\n",
    "print(\" - Content of the first Layer :\", Bi_layer_256.l1.weight,)\n",
    "print(\"=\"*50)\n",
    "print(\" - Content of the second Layer :\", Bi_layer_256.l2.weight,)"
   ]
  },
  {
   "cell_type": "code",
   "execution_count": 98,
   "metadata": {},
   "outputs": [],
   "source": [
    "num_epochs = 10\n",
    "batch_size = 5\n",
    "\n",
    "# Use mean squared loss function \n",
    "criterion = nn.MSELoss()\n",
    "\n",
    "# Use SGD optimizer with a learning rate of 0.01\n",
    "# It is initialized on our model\n",
    "optimizer = torch.optim.SGD(Bi_layer_256.parameters(), lr=0.1)"
   ]
  },
  {
   "cell_type": "code",
   "execution_count": 99,
   "metadata": {},
   "outputs": [],
   "source": [
    "def train_Conv(num_epochs, batch_size , criterion, optimizer, model, dataset):\n",
    "    train_error = []\n",
    "    train_loader = DataLoader(dataset, batch_size, shuffle=True)\n",
    "    model.train() # Indicates to the network we are in training mode\n",
    "    for epoch in range(num_epochs):\n",
    "        epoch_average_loss = 0.0\n",
    "        for (images, labels) in train_loader:\n",
    "         \n",
    "            y_pre = model(images) \n",
    "       \n",
    "            \n",
    "            # One-hot encoding or labels so as to calculate MSE error:\n",
    "            labels_one_hot = torch.FloatTensor(batch_size, 10)\n",
    "            labels_one_hot.zero_()\n",
    "            labels_one_hot.scatter_(1, labels.view(-1, 1), 1)\n",
    "           \n",
    "            \n",
    "            loss = criterion(y_pre, labels_one_hot) #Real number\n",
    "            optimizer.zero_grad() # Set all the parameters gradient to 0\n",
    "            loss.backward() # Computes  dloss/da for every parameter a which has requires_grad=True\n",
    "            optimizer.step() # Updates the weights \n",
    "            epoch_average_loss += loss.item() * batch_size / len(dataset)\n",
    "        train_error.append(epoch_average_loss)\n",
    "        print('Epoch [{}/{}], Loss: {:.4f}'\n",
    "                      .format(epoch+1, num_epochs, epoch_average_loss))\n",
    "    return train_error"
   ]
  },
  {
   "cell_type": "code",
   "execution_count": 100,
   "metadata": {},
   "outputs": [],
   "source": [
    "def train_linear(num_epochs, batch_size , criterion, optimizer, model, dataset):\n",
    "    train_error = []\n",
    "    train_loader = DataLoader(dataset, batch_size, shuffle=True)\n",
    "    model.train() # Indicates to the network we are in training mode\n",
    "    for epoch in range(num_epochs):\n",
    "        epoch_average_loss = 0.0\n",
    "        for (images, labels) in train_loader:\n",
    "         \n",
    "            y_pre = model(images.view(images.size(0),-1)) \n",
    "       \n",
    "            \n",
    "            # One-hot encoding or labels so as to calculate MSE error:\n",
    "            labels_one_hot = torch.FloatTensor(batch_size, 10)\n",
    "            labels_one_hot.zero_()\n",
    "            labels_one_hot.scatter_(1, labels.view(-1, 1), 1)\n",
    "           \n",
    "            \n",
    "            loss = criterion(y_pre, labels_one_hot) #Real number\n",
    "            optimizer.zero_grad() # Set all the parameters gradient to 0\n",
    "            loss.backward() # Computes  dloss/da for every parameter a which has requires_grad=True\n",
    "            optimizer.step() # Updates the weights \n",
    "            epoch_average_loss += loss.item() * batch_size / len(dataset)\n",
    "        train_error.append(epoch_average_loss)\n",
    "        print('Epoch [{}/{}], Loss: {:.4f}'\n",
    "                      .format(epoch+1, num_epochs, epoch_average_loss))\n",
    "    return train_error"
   ]
  },
  {
   "cell_type": "code",
   "execution_count": 101,
   "metadata": {},
   "outputs": [
    {
     "name": "stdout",
     "output_type": "stream",
     "text": [
      "Epoch [1/10], Loss: 0.0750\n",
      "Epoch [2/10], Loss: 0.0443\n",
      "Epoch [3/10], Loss: 0.0244\n",
      "Epoch [4/10], Loss: 0.0168\n",
      "Epoch [5/10], Loss: 0.0137\n",
      "Epoch [6/10], Loss: 0.0120\n",
      "Epoch [7/10], Loss: 0.0110\n",
      "Epoch [8/10], Loss: 0.0102\n",
      "Epoch [9/10], Loss: 0.0097\n",
      "Epoch [10/10], Loss: 0.0092\n",
      "[0.07496926544855032, 0.044344094481396784, 0.024440640457663317, 0.016770581936289095, 0.013721785040361272, 0.012042912375315334, 0.011047200413718964, 0.01024653150101283, 0.00969657719607009, 0.009204827375810208]\n"
     ]
    }
   ],
   "source": [
    "train_error_bi_256 = train_linear(num_epochs, batch_size , criterion, optimizer, Bi_layer_256, train_set)\n",
    "print(train_error_bi_256)"
   ]
  },
  {
   "cell_type": "code",
   "execution_count": 102,
   "metadata": {},
   "outputs": [],
   "source": [
    "optimizer = Adam(Bi_layer_256.parameters(), lr=0.001)"
   ]
  },
  {
   "cell_type": "code",
   "execution_count": 103,
   "metadata": {},
   "outputs": [
    {
     "name": "stdout",
     "output_type": "stream",
     "text": [
      "Epoch [1/10], Loss: 0.0104\n",
      "Epoch [2/10], Loss: 0.0078\n",
      "Epoch [3/10], Loss: 0.0069\n",
      "Epoch [4/10], Loss: 0.0054\n",
      "Epoch [5/10], Loss: 0.0048\n",
      "Epoch [6/10], Loss: 0.0040\n",
      "Epoch [7/10], Loss: 0.0038\n",
      "Epoch [8/10], Loss: 0.0035\n",
      "Epoch [9/10], Loss: 0.0028\n",
      "Epoch [10/10], Loss: 0.0026\n",
      "[0.010446232324629549, 0.0077841708280432355, 0.006861267226572118, 0.005438998126508686, 0.004791374299222852, 0.003981191582111643, 0.003770988668795595, 0.003489793903547987, 0.002837340586028525, 0.0026292115671771817]\n"
     ]
    }
   ],
   "source": [
    "train_error_bi_256_2 = train_linear(num_epochs, batch_size , criterion, optimizer, Bi_layer_256, train_set)\n",
    "print(train_error_bi_256_2)"
   ]
  },
  {
   "cell_type": "code",
   "execution_count": 104,
   "metadata": {},
   "outputs": [
    {
     "data": {
      "text/plain": [
       "Text(0.5, 1.0, 'Visualization of convergence')"
      ]
     },
     "execution_count": 104,
     "metadata": {},
     "output_type": "execute_result"
    },
    {
     "data": {
      "image/png": "[encoded data removed]",
      "text/plain": [
       "<Figure size 640x480 with 1 Axes>"
      ]
     },
     "metadata": {},
     "output_type": "display_data"
    }
   ],
   "source": [
    "plt.plot(range(1, num_epochs+1), train_error_bi_256_2)\n",
    "plt.xlabel(\"num_epochs\")\n",
    "plt.ylabel(\"Train error\")\n",
    "plt.title(\"Visualization of convergence\")"
   ]
  },
  {
   "cell_type": "code",
   "execution_count": 105,
   "metadata": {},
   "outputs": [
    {
     "data": {
      "text/plain": [
       "Text(0.5, 1.0, 'Visualization of convergence')"
      ]
     },
     "execution_count": 105,
     "metadata": {},
     "output_type": "execute_result"
    },
    {
     "data": {
      "image/png": "[encoded data removed]",
      "text/plain": [
       "<Figure size 640x480 with 1 Axes>"
      ]
     },
     "metadata": {},
     "output_type": "display_data"
    }
   ],
   "source": [
    "plt.plot(range(1, num_epochs+1), train_error_bi_256)\n",
    "plt.xlabel(\"num_epochs\")\n",
    "plt.ylabel(\"Train error\")\n",
    "plt.title(\"Visualization of convergence\")"
   ]
  },
  {
   "cell_type": "code",
   "execution_count": 106,
   "metadata": {},
   "outputs": [],
   "source": [
    "def accuracy_cov(dataset, model):\n",
    "    \n",
    "    with torch.no_grad():\n",
    "        correct = 0\n",
    "        total = 0\n",
    "        dataloader = DataLoader(dataset)\n",
    "        for images, labels in dataloader:\n",
    "            outputs = model(images)\n",
    "        #   _, predicted = torch.max(outputs.data, 1)  \n",
    "            _, predicted = torch.max(outputs.detach(), 1)  \n",
    "            correct += (predicted == labels).sum()\n",
    "\n",
    "    print('Accuracy of the model : {:.2f} %'.format(100*correct.item()/ len(dataset)))"
   ]
  },
  {
   "cell_type": "code",
   "execution_count": 107,
   "metadata": {},
   "outputs": [],
   "source": [
    "def accuracy_linear(dataset, model):\n",
    "    \n",
    "    with torch.no_grad():\n",
    "        correct = 0\n",
    "        total = 0\n",
    "        dataloader = DataLoader(dataset)\n",
    "        for images, labels in dataloader:\n",
    "            outputs = model(images.view(images.size(0),-1))\n",
    "        #   _, predicted = torch.max(outputs.data, 1)  \n",
    "            _, predicted = torch.max(outputs.detach(), 1)  \n",
    "            correct += (predicted == labels).sum()\n",
    "\n",
    "    print('Accuracy of the model : {:.2f} %'.format(100*correct.item()/ len(dataset)))"
   ]
  },
  {
   "cell_type": "code",
   "execution_count": 108,
   "metadata": {},
   "outputs": [
    {
     "name": "stdout",
     "output_type": "stream",
     "text": [
      "Accuracy of the model : 97.75 %\n"
     ]
    }
   ],
   "source": [
    "accuracy_linear(val_set, Bi_layer_256)"
   ]
  },
  {
   "cell_type": "code",
   "execution_count": 109,
   "metadata": {},
   "outputs": [
    {
     "data": {
      "text/plain": [
       "Text(0.5, 1.0, 'Prediction label: 5')"
      ]
     },
     "execution_count": 109,
     "metadata": {},
     "output_type": "execute_result"
    },
    {
     "data": {
      "image/png": "[encoded data removed]",
      "text/plain": [
       "<Figure size 640x480 with 1 Axes>"
      ]
     },
     "metadata": {},
     "output_type": "display_data"
    }
   ],
   "source": [
    "val_index = 66\n",
    "\n",
    "(image, label) = val_set[val_index]\n",
    "image = torch.unsqueeze(image, 0)\n",
    "output = Bi_layer_256(image.view(image.size(0),-1))\n",
    "_, prediction = torch.max(output.data, 1)\n",
    "\n",
    "plt.imshow(image.view(16, 16), cmap=plt.cm.gray_r, interpolation='nearest')\n",
    "plt.title(\"Prediction label: %d\" % prediction)"
   ]
  },
  {
   "cell_type": "code",
   "execution_count": 110,
   "metadata": {},
   "outputs": [],
   "source": [
    "Bi_layer_10 = Bilayer(10)"
   ]
  },
  {
   "cell_type": "code",
   "execution_count": 111,
   "metadata": {},
   "outputs": [
    {
     "name": "stdout",
     "output_type": "stream",
     "text": [
      "Original tensor shape torch.Size([5, 1, 16, 16])\n",
      "==================================================\n",
      "Impact of the view method torch.Size([5, 256])\n",
      "==================================================\n",
      "Shape of the output torch.Size([5, 10])\n",
      "==================================================\n",
      "Predictions for the first image : tensor([0.1382, 0.1111, 0.1062, 0.1074, 0.0830, 0.0771, 0.0983, 0.1079, 0.0901,\n",
      "        0.0805])\n",
      "==================================================\n",
      "Sum of all outputs :  tensor(1., grad_fn=<SumBackward0>)\n"
     ]
    }
   ],
   "source": [
    "example_batch_size = 5\n",
    "example_loader = DataLoader(dataset, batch_size=example_batch_size, shuffle=True)\n",
    "\n",
    "for images,labels in example_loader:\n",
    "    print(\"Original tensor shape\",images.shape)\n",
    "    print(\"=\"*50)\n",
    "    print(\"Impact of the view method\",images.view(example_batch_size,-1).shape)\n",
    "    print(\"=\"*50)\n",
    "    example_output = Bi_layer_10(images.view(example_batch_size,-1))\n",
    "    print(\"Shape of the output\",example_output.shape)\n",
    "    print(\"=\"*50)\n",
    "    print(\"Predictions for the first image :\",example_output[0].detach())\n",
    "    print(\"=\"*50)\n",
    "    print(\"Sum of all outputs : \",torch.sum(example_output[0])) # You should use detach !\n",
    "    break\n"
   ]
  },
  {
   "cell_type": "code",
   "execution_count": 112,
   "metadata": {},
   "outputs": [],
   "source": [
    "num_epochs = 10\n",
    "batch_size = 5\n",
    "\n",
    "# Use mean squared loss function \n",
    "criterion = nn.MSELoss()\n",
    "\n",
    "# Use SGD optimizer with a learning rate of 0.01\n",
    "# It is initialized on our model\n",
    "optimizer = torch.optim.SGD(Bi_layer_10.parameters(), lr=0.1)"
   ]
  },
  {
   "cell_type": "code",
   "execution_count": 113,
   "metadata": {},
   "outputs": [
    {
     "name": "stdout",
     "output_type": "stream",
     "text": [
      "Epoch [1/10], Loss: 0.0800\n",
      "Epoch [2/10], Loss: 0.0654\n",
      "Epoch [3/10], Loss: 0.0541\n",
      "Epoch [4/10], Loss: 0.0384\n",
      "Epoch [5/10], Loss: 0.0264\n",
      "Epoch [6/10], Loss: 0.0207\n",
      "Epoch [7/10], Loss: 0.0178\n",
      "Epoch [8/10], Loss: 0.0160\n",
      "Epoch [9/10], Loss: 0.0148\n",
      "Epoch [10/10], Loss: 0.0138\n",
      "[0.08000727354393644, 0.06540423561586065, 0.05413696850650001, 0.03839543984465613, 0.026390464525660108, 0.020731227047169027, 0.017797772746252993, 0.016046900679563488, 0.014799034432123045, 0.013758690806162141]\n"
     ]
    }
   ],
   "source": [
    "train_error_bi_10 = train_linear(num_epochs, batch_size , criterion, optimizer, Bi_layer_10, train_set)\n",
    "print(train_error_bi_10)"
   ]
  },
  {
   "cell_type": "code",
   "execution_count": 114,
   "metadata": {},
   "outputs": [
    {
     "data": {
      "text/plain": [
       "Text(0.5, 1.0, 'Visualization of convergence')"
      ]
     },
     "execution_count": 114,
     "metadata": {},
     "output_type": "execute_result"
    },
    {
     "data": {
      "image/png": "[encoded data removed]",
      "text/plain": [
       "<Figure size 640x480 with 1 Axes>"
      ]
     },
     "metadata": {},
     "output_type": "display_data"
    }
   ],
   "source": [
    "plt.plot(range(1, num_epochs+1), train_error_bi_10)\n",
    "plt.xlabel(\"num_epochs\")\n",
    "plt.ylabel(\"Train error\")\n",
    "plt.title(\"Visualization of convergence\")"
   ]
  },
  {
   "cell_type": "code",
   "execution_count": 115,
   "metadata": {},
   "outputs": [
    {
     "name": "stdout",
     "output_type": "stream",
     "text": [
      "Accuracy of the model : 91.71 %\n"
     ]
    }
   ],
   "source": [
    "accuracy_linear(val_set, Bi_layer_10)"
   ]
  },
  {
   "cell_type": "code",
   "execution_count": 116,
   "metadata": {},
   "outputs": [
    {
     "data": {
      "text/plain": [
       "Text(0.5, 1.0, 'Prediction label: 5')"
      ]
     },
     "execution_count": 116,
     "metadata": {},
     "output_type": "execute_result"
    },
    {
     "data": {
      "image/png": "[encoded data removed]",
      "text/plain": [
       "<Figure size 640x480 with 1 Axes>"
      ]
     },
     "metadata": {},
     "output_type": "display_data"
    }
   ],
   "source": [
    "val_index = 66\n",
    "\n",
    "(image, label) = val_set[val_index]\n",
    "image = torch.unsqueeze(image, 0)\n",
    "output = Bi_layer_10(image.view(image.size(0),-1))\n",
    "_, prediction = torch.max(output.data, 1)\n",
    "\n",
    "plt.imshow(image.view(16, 16), cmap=plt.cm.gray_r, interpolation='nearest')\n",
    "plt.title(\"Prediction label: %d\" % prediction)"
   ]
  },
  {
   "cell_type": "markdown",
   "metadata": {},
   "source": [
    "---"
   ]
  },
  {
   "cell_type": "markdown",
   "metadata": {},
   "source": [
    "---"
   ]
  },
  {
   "cell_type": "markdown",
   "metadata": {},
   "source": [
    "# USING ADAM"
   ]
  },
  {
   "cell_type": "markdown",
   "metadata": {},
   "source": [
    "---"
   ]
  },
  {
   "cell_type": "markdown",
   "metadata": {},
   "source": [
    "---"
   ]
  },
  {
   "cell_type": "code",
   "execution_count": 117,
   "metadata": {},
   "outputs": [],
   "source": [
    "class Bilayer(nn.Module):\n",
    "    \n",
    "    def __init__(self , first_layer = 256):\n",
    "        super(Bilayer, self).__init__()\n",
    "        # We allocate space for the weights\n",
    "        self.l1 = nn.Linear(16*16, first_layer)\n",
    "        self.l2 = nn.Linear(first_layer, 10)\n",
    "        # Input size is 16*16, output size should be the same with the number of classes\n",
    "        \n",
    "    def forward(self, inputs): # Called when we apply the network \n",
    "        h = F.relu(self.l1(inputs)) # You can put anything, as long as its Pytorch functions\n",
    "        outputs = F.softmax(self.l2(h), dim=1)# Use softmax as the activation function for the last layer\n",
    "        return outputs"
   ]
  },
  {
   "cell_type": "code",
   "execution_count": 118,
   "metadata": {},
   "outputs": [],
   "source": [
    "Bi_layer_256 = Bilayer(256)"
   ]
  },
  {
   "cell_type": "code",
   "execution_count": 119,
   "metadata": {},
   "outputs": [
    {
     "name": "stdout",
     "output_type": "stream",
     "text": [
      "Original tensor shape torch.Size([5, 1, 16, 16])\n",
      "==================================================\n",
      "Impact of the view method torch.Size([5, 256])\n",
      "==================================================\n",
      "Shape of the output torch.Size([5, 10])\n",
      "==================================================\n",
      "Predictions for the first image : tensor([0.0852, 0.0985, 0.0931, 0.1047, 0.0995, 0.1084, 0.0922, 0.1143, 0.1088,\n",
      "        0.0952])\n",
      "==================================================\n",
      "Sum of all outputs :  tensor(1., grad_fn=<SumBackward0>)\n"
     ]
    }
   ],
   "source": [
    "# Let's explore the forward pass\n",
    "example_batch_size = 5\n",
    "example_loader = DataLoader(dataset, batch_size=example_batch_size, shuffle=True)\n",
    "\n",
    "for images,labels in example_loader:\n",
    "    print(\"Original tensor shape\",images.shape)\n",
    "    print(\"=\"*50)\n",
    "    print(\"Impact of the view method\",images.view(example_batch_size,-1).shape)\n",
    "    print(\"=\"*50)\n",
    "    example_output = Bi_layer_256(images.view(example_batch_size,-1))\n",
    "    print(\"Shape of the output\",example_output.shape)\n",
    "    print(\"=\"*50)\n",
    "    print(\"Predictions for the first image :\",example_output[0].detach())\n",
    "    print(\"=\"*50)\n",
    "    print(\"Sum of all outputs : \",torch.sum(example_output[0])) # You should use detach !\n",
    "    break\n"
   ]
  },
  {
   "cell_type": "code",
   "execution_count": 120,
   "metadata": {},
   "outputs": [],
   "source": [
    "from torch.optim import Adam\n",
    "\n",
    "num_epochs = 10\n",
    "batch_size = 5\n",
    "\n",
    "# Use mean squared loss function \n",
    "criterion = nn.MSELoss()\n",
    "\n",
    "# Use SGD optimizer with a learning rate of 0.01\n",
    "# It is initialized on our model\n",
    "optimizer = Adam(Bi_layer_256.parameters(), lr=0.001)"
   ]
  },
  {
   "cell_type": "code",
   "execution_count": 121,
   "metadata": {},
   "outputs": [],
   "source": [
    "def train_linear(num_epochs, batch_size , criterion, optimizer, model, dataset):\n",
    "    train_error = []\n",
    "    train_loader = DataLoader(dataset, batch_size, shuffle=True)\n",
    "    model.train() # Indicates to the network we are in training mode\n",
    "    for epoch in range(num_epochs):\n",
    "        epoch_average_loss = 0.0\n",
    "        for (images, labels) in train_loader:\n",
    "         \n",
    "            y_pre = model(images.view(images.size(0),-1)) \n",
    "       \n",
    "            \n",
    "            # One-hot encoding or labels so as to calculate MSE error:\n",
    "            labels_one_hot = torch.FloatTensor(batch_size, 10)\n",
    "            labels_one_hot.zero_()\n",
    "            labels_one_hot.scatter_(1, labels.view(-1, 1), 1)\n",
    "           \n",
    "            \n",
    "            loss = criterion(y_pre, labels_one_hot) #Real number\n",
    "            optimizer.zero_grad() # Set all the parameters gradient to 0\n",
    "            loss.backward() # Computes  dloss/da for every parameter a which has requires_grad=True\n",
    "            optimizer.step() # Updates the weights \n",
    "            epoch_average_loss += loss.item() * batch_size / len(dataset)\n",
    "        train_error.append(epoch_average_loss)\n",
    "        print('Epoch [{}/{}], Loss: {:.4f}'\n",
    "                      .format(epoch+1, num_epochs, epoch_average_loss))\n",
    "    return train_error"
   ]
  },
  {
   "cell_type": "code",
   "execution_count": 122,
   "metadata": {},
   "outputs": [
    {
     "name": "stdout",
     "output_type": "stream",
     "text": [
      "Epoch [1/10], Loss: 0.0177\n",
      "Epoch [2/10], Loss: 0.0086\n",
      "Epoch [3/10], Loss: 0.0070\n",
      "Epoch [4/10], Loss: 0.0059\n",
      "Epoch [5/10], Loss: 0.0051\n",
      "Epoch [6/10], Loss: 0.0040\n",
      "Epoch [7/10], Loss: 0.0037\n",
      "Epoch [8/10], Loss: 0.0032\n",
      "Epoch [9/10], Loss: 0.0028\n",
      "Epoch [10/10], Loss: 0.0025\n",
      "[0.017664487776556072, 0.008634670217887363, 0.006968347021756842, 0.005939436624593765, 0.005065616631332212, 0.004012086713058284, 0.0036682004391936805, 0.0032319676442875973, 0.002810727547852353, 0.002523791533836259]\n"
     ]
    }
   ],
   "source": [
    "train_error_bi_256_2 = train_linear(num_epochs, batch_size , criterion, optimizer, Bi_layer_256, train_set)\n",
    "print(train_error_bi_256_2)"
   ]
  },
  {
   "cell_type": "code",
   "execution_count": 123,
   "metadata": {},
   "outputs": [
    {
     "data": {
      "text/plain": [
       "Text(0.5, 1.0, 'Visualization of convergence')"
      ]
     },
     "execution_count": 123,
     "metadata": {},
     "output_type": "execute_result"
    },
    {
     "data": {
      "image/png": "[encoded data removed]",
      "text/plain": [
       "<Figure size 640x480 with 1 Axes>"
      ]
     },
     "metadata": {},
     "output_type": "display_data"
    }
   ],
   "source": [
    "plt.plot(range(1, num_epochs+1), train_error_bi_256_2)\n",
    "plt.xlabel(\"num_epochs\")\n",
    "plt.ylabel(\"Train error\")\n",
    "plt.title(\"Visualization of convergence\")"
   ]
  },
  {
   "cell_type": "markdown",
   "metadata": {},
   "source": [
    "---"
   ]
  },
  {
   "cell_type": "code",
   "execution_count": 124,
   "metadata": {},
   "outputs": [],
   "source": [
    "class Convolution_1(nn.Module):\n",
    "    \n",
    "    def __init__(self,input_channel = 1 , output_channel = 32 , kernel_size = 3 , height = 16 , Width = 16):\n",
    "        super(Convolution_1, self).__init__()\n",
    "        self.l1 = nn.Conv2d(input_channel, output_channel, kernel_size , padding = 1)  # Assuming the kernel size is 16 and misunderstanding corrected\n",
    "        self.l2 = nn.Linear(output_channel * height * Width , 100)  # Assuming the output from convolution+flattening is 256 features\n",
    "        self.l3 = nn.Linear(100, 10)  # Correcting the second linear layer\n",
    "\n",
    "    def forward(self, inputs , height = 16 , Width = 16):\n",
    "        h1 = F.relu(self.l1(inputs))\n",
    "        h1_flattened = h1.view(h1.size(0), -1)  # Flatten the output for linear layer\n",
    "        h2 = F.relu(self.l2(h1_flattened))\n",
    "        outputs = F.softmax(self.l3(h2), dim=1)\n",
    "        return outputs"
   ]
  },
  {
   "cell_type": "code",
   "execution_count": 125,
   "metadata": {},
   "outputs": [
    {
     "name": "stdout",
     "output_type": "stream",
     "text": [
      "tensor([[0.0970, 0.0960, 0.0831, 0.1328, 0.1102, 0.0891, 0.1058, 0.0915, 0.1091,\n",
      "         0.0854],\n",
      "        [0.0910, 0.1154, 0.0828, 0.1135, 0.1046, 0.0895, 0.1008, 0.0930, 0.1083,\n",
      "         0.1011],\n",
      "        [0.1109, 0.1136, 0.0738, 0.1233, 0.1130, 0.0850, 0.0964, 0.0859, 0.1159,\n",
      "         0.0822],\n",
      "        [0.0970, 0.0974, 0.0796, 0.1267, 0.1121, 0.0958, 0.1066, 0.0902, 0.1023,\n",
      "         0.0924],\n",
      "        [0.1004, 0.1046, 0.0819, 0.1354, 0.1041, 0.0899, 0.0931, 0.1026, 0.0986,\n",
      "         0.0893],\n",
      "        [0.0903, 0.1166, 0.0836, 0.1114, 0.1220, 0.0869, 0.0962, 0.0874, 0.1087,\n",
      "         0.0971],\n",
      "        [0.0948, 0.1052, 0.0730, 0.1370, 0.1037, 0.1036, 0.0936, 0.0994, 0.1078,\n",
      "         0.0820],\n",
      "        [0.0974, 0.1103, 0.0911, 0.1122, 0.0967, 0.0978, 0.1015, 0.0931, 0.1033,\n",
      "         0.0966],\n",
      "        [0.0890, 0.1068, 0.0846, 0.1290, 0.1085, 0.0995, 0.1059, 0.0998, 0.0931,\n",
      "         0.0838],\n",
      "        [0.0906, 0.1093, 0.0785, 0.1225, 0.1132, 0.1052, 0.0909, 0.0927, 0.0999,\n",
      "         0.0972]], grad_fn=<SoftmaxBackward0>)\n",
      "tensor([3, 1, 3, 3, 3, 4, 3, 3, 3, 3])\n"
     ]
    }
   ],
   "source": [
    "sahbi = Convolution_1()\n",
    "sahbi = Convolution_1(input_channel=1, output_channel=32, kernel_size=3, height=16, Width=16)\n",
    "input_tensor = torch.randn(10, 1, 16, 16) \n",
    "output = sahbi(input_tensor)\n",
    "print(output)\n",
    "_, predicted_labels = torch.max(output, 1)\n",
    "print(predicted_labels)"
   ]
  },
  {
   "cell_type": "code",
   "execution_count": 126,
   "metadata": {},
   "outputs": [
    {
     "name": "stdout",
     "output_type": "stream",
     "text": [
      "Original tensor shape torch.Size([100, 1, 16, 16])\n",
      "==================================================\n",
      "Shape of the output torch.Size([100, 10])\n",
      "==================================================\n",
      "Predictions for the first image : tensor([0.0962, 0.1047, 0.0846, 0.1176, 0.1058, 0.0926, 0.0982, 0.0926, 0.1151,\n",
      "        0.0926])\n",
      "==================================================\n",
      "Sum of all outputs :  tensor(1., grad_fn=<SumBackward0>)\n"
     ]
    }
   ],
   "source": [
    "example_batch_size = 100\n",
    "example_loader = DataLoader(dataset, batch_size=example_batch_size, shuffle=True)\n",
    "\n",
    "for images,labels in example_loader:\n",
    "    print(\"Original tensor shape\",images.shape)\n",
    "    print(\"=\"*50)\n",
    "    example_output = sahbi(images )\n",
    "    print(\"Shape of the output\",example_output.shape)\n",
    "    print(\"=\"*50)\n",
    "    print(\"Predictions for the first image :\",example_output[0].detach())\n",
    "    print(\"=\"*50)\n",
    "    print(\"Sum of all outputs : \",torch.sum(example_output[0])) # You should use detach !\n",
    "    break\n"
   ]
  },
  {
   "cell_type": "code",
   "execution_count": 127,
   "metadata": {},
   "outputs": [],
   "source": [
    "optimizer = Adam(sahbi.parameters(), lr=0.001)  # for example, using a learning rate of 0.001\n"
   ]
  },
  {
   "cell_type": "code",
   "execution_count": 128,
   "metadata": {},
   "outputs": [],
   "source": [
    "def train(num_epochs, batch_size , criterion, optimizer, model, dataset):\n",
    "    train_error = []\n",
    "    train_loader = DataLoader(dataset, batch_size, shuffle=True)\n",
    "    model.train() # Indicates to the network we are in training mode\n",
    "    for epoch in range(num_epochs):\n",
    "        epoch_average_loss = 0.0\n",
    "        for (images, labels) in train_loader:\n",
    "         \n",
    "            y_pre = model(images) \n",
    "       \n",
    "            \n",
    "            # One-hot encoding or labels so as to calculate MSE error:\n",
    "            labels_one_hot = torch.FloatTensor(batch_size, 10)\n",
    "            labels_one_hot.zero_()\n",
    "            labels_one_hot.scatter_(1, labels.view(-1, 1), 1)\n",
    "           \n",
    "            \n",
    "            loss = criterion(y_pre, labels_one_hot) #Real number\n",
    "            optimizer.zero_grad() # Set all the parameters gradient to 0\n",
    "            loss.backward() # Computes  dloss/da for every parameter a which has requires_grad=True\n",
    "            optimizer.step() # Updates the weights \n",
    "            epoch_average_loss += loss.item() * batch_size / len(dataset)\n",
    "        train_error.append(epoch_average_loss)\n",
    "        print('Epoch [{}/{}], Loss: {:.4f}'\n",
    "                      .format(epoch+1, num_epochs, epoch_average_loss))\n",
    "    return train_error"
   ]
  },
  {
   "cell_type": "code",
   "execution_count": 129,
   "metadata": {},
   "outputs": [
    {
     "name": "stdout",
     "output_type": "stream",
     "text": [
      "Epoch [1/10], Loss: 0.0168\n",
      "Epoch [2/10], Loss: 0.0075\n",
      "Epoch [3/10], Loss: 0.0047\n",
      "Epoch [4/10], Loss: 0.0037\n",
      "Epoch [5/10], Loss: 0.0026\n",
      "Epoch [6/10], Loss: 0.0018\n",
      "Epoch [7/10], Loss: 0.0017\n",
      "Epoch [8/10], Loss: 0.0015\n",
      "Epoch [9/10], Loss: 0.0013\n",
      "Epoch [10/10], Loss: 0.0007\n",
      "[0.01684726606303261, 0.00753343635880906, 0.004737508444491996, 0.0036871770979832593, 0.0025771275318311766, 0.001823181234758936, 0.001713733832112532, 0.001524366165075478, 0.001270320836238337, 0.0007348618806200008]\n"
     ]
    }
   ],
   "source": [
    "train_error_sahbi_2 = train(num_epochs, batch_size , criterion, optimizer, sahbi, train_set)\n",
    "print(train_error_sahbi_2)\n"
   ]
  },
  {
   "cell_type": "code",
   "execution_count": 130,
   "metadata": {},
   "outputs": [
    {
     "data": {
      "text/plain": [
       "Text(0.5, 1.0, 'Visualization of convergence')"
      ]
     },
     "execution_count": 130,
     "metadata": {},
     "output_type": "execute_result"
    },
    {
     "data": {
      "image/png": "[encoded data removed]",
      "text/plain": [
       "<Figure size 640x480 with 1 Axes>"
      ]
     },
     "metadata": {},
     "output_type": "display_data"
    }
   ],
   "source": [
    "# plot the training error wrt. the number of epochs: \n",
    "plt.plot(range(1, num_epochs+1), train_error_sahbi_2)\n",
    "plt.xlabel(\"num_epochs\")\n",
    "plt.ylabel(\"Train error\")\n",
    "plt.title(\"Visualization of convergence\")\n"
   ]
  },
  {
   "cell_type": "code",
   "execution_count": 131,
   "metadata": {},
   "outputs": [
    {
     "name": "stdout",
     "output_type": "stream",
     "text": [
      "Accuracy of the model : 98.30 %\n"
     ]
    }
   ],
   "source": [
    "accuracy_cov(val_set, sahbi)"
   ]
  },
  {
   "cell_type": "code",
   "execution_count": 132,
   "metadata": {},
   "outputs": [
    {
     "data": {
      "text/plain": [
       "Text(0.5, 1.0, 'Prediction label: 5')"
      ]
     },
     "execution_count": 132,
     "metadata": {},
     "output_type": "execute_result"
    },
    {
     "data": {
      "image/png": "[encoded data removed]",
      "text/plain": [
       "<Figure size 640x480 with 1 Axes>"
      ]
     },
     "metadata": {},
     "output_type": "display_data"
    }
   ],
   "source": [
    "val_index = 66\n",
    "\n",
    "(image, label) = val_set[val_index]\n",
    "output = model(image.view(-1, 16*16))\n",
    "_, prediction = torch.max(output.data, 1)\n",
    "\n",
    "plt.imshow(image.view(16, 16), cmap=plt.cm.gray_r, interpolation='nearest')\n",
    "plt.title(\"Prediction label: %d\" % prediction)"
   ]
  },
  {
   "cell_type": "markdown",
   "metadata": {},
   "source": [
    "---"
   ]
  },
  {
   "cell_type": "markdown",
   "metadata": {},
   "source": [
    "---"
   ]
  },
  {
   "cell_type": "markdown",
   "metadata": {},
   "source": [
    "# BATCH SIZE "
   ]
  },
  {
   "cell_type": "markdown",
   "metadata": {},
   "source": [
    "---"
   ]
  },
  {
   "cell_type": "markdown",
   "metadata": {},
   "source": [
    "---"
   ]
  },
  {
   "cell_type": "code",
   "execution_count": 133,
   "metadata": {},
   "outputs": [],
   "source": [
    "from torch.optim import SGD"
   ]
  },
  {
   "cell_type": "code",
   "execution_count": 134,
   "metadata": {},
   "outputs": [],
   "source": [
    "sahbi_batch = Convolution_1()"
   ]
  },
  {
   "cell_type": "code",
   "execution_count": 135,
   "metadata": {},
   "outputs": [],
   "source": [
    "optimizer = SGD(sahbi_batch.parameters(), lr=0.1)"
   ]
  },
  {
   "cell_type": "code",
   "execution_count": 136,
   "metadata": {},
   "outputs": [
    {
     "name": "stdout",
     "output_type": "stream",
     "text": [
      "Epoch [1/10], Loss: 0.0877\n",
      "Epoch [2/10], Loss: 0.0803\n",
      "Epoch [3/10], Loss: 0.0708\n",
      "Epoch [4/10], Loss: 0.0596\n",
      "Epoch [5/10], Loss: 0.0459\n",
      "Epoch [6/10], Loss: 0.0322\n",
      "Epoch [7/10], Loss: 0.0229\n",
      "Epoch [8/10], Loss: 0.0181\n",
      "Epoch [9/10], Loss: 0.0156\n",
      "Epoch [10/10], Loss: 0.0141\n",
      "[0.08774624286840363, 0.08031065594404938, 0.07082349695265296, 0.05956694735214111, 0.045949216155956235, 0.03217851545972128, 0.022854132298380132, 0.018091219733469187, 0.015630226811238872, 0.014065779737817747]\n"
     ]
    }
   ],
   "source": [
    "train_error_sahbi_50 = train(num_epochs, 50 , criterion, optimizer, sahbi_batch, train_set)\n",
    "print(train_error_sahbi_50)"
   ]
  },
  {
   "cell_type": "code",
   "execution_count": 137,
   "metadata": {},
   "outputs": [
    {
     "name": "stdout",
     "output_type": "stream",
     "text": [
      "Accuracy of the model : 93.49 %\n"
     ]
    }
   ],
   "source": [
    "accuracy_cov(val_set , sahbi_batch)"
   ]
  },
  {
   "cell_type": "code",
   "execution_count": 138,
   "metadata": {},
   "outputs": [
    {
     "name": "stdout",
     "output_type": "stream",
     "text": [
      "Epoch [1/10], Loss: 0.0130\n",
      "Epoch [2/10], Loss: 0.0126\n",
      "Epoch [3/10], Loss: 0.0121\n",
      "Epoch [4/10], Loss: 0.0118\n",
      "Epoch [5/10], Loss: 0.0115\n",
      "Epoch [6/10], Loss: 0.0112\n",
      "Epoch [7/10], Loss: 0.0109\n",
      "Epoch [8/10], Loss: 0.0107\n",
      "Epoch [9/10], Loss: 0.0105\n",
      "Epoch [10/10], Loss: 0.0102\n",
      "[0.013035288903241356, 0.012570566598636408, 0.012120800931006667, 0.011803562900361917, 0.011462286378567416, 0.011150716586659356, 0.01088339558336884, 0.010677259252406661, 0.01046195151284337, 0.010216451149123408]\n"
     ]
    }
   ],
   "source": [
    "train_error_sahbi_100 = train(num_epochs, 100 , criterion, optimizer, sahbi_batch, train_set)\n",
    "print(train_error_sahbi_100)"
   ]
  },
  {
   "cell_type": "code",
   "execution_count": 139,
   "metadata": {},
   "outputs": [
    {
     "name": "stdout",
     "output_type": "stream",
     "text": [
      "Accuracy of the model : 94.35 %\n"
     ]
    }
   ],
   "source": [
    "accuracy_cov(val_set , sahbi_batch)"
   ]
  },
  {
   "cell_type": "code",
   "execution_count": 140,
   "metadata": {},
   "outputs": [
    {
     "name": "stdout",
     "output_type": "stream",
     "text": [
      "Epoch [1/10], Loss: 0.0107\n",
      "Epoch [2/10], Loss: 0.0096\n",
      "Epoch [3/10], Loss: 0.0089\n",
      "Epoch [4/10], Loss: 0.0084\n",
      "Epoch [5/10], Loss: 0.0079\n",
      "Epoch [6/10], Loss: 0.0076\n",
      "Epoch [7/10], Loss: 0.0072\n",
      "Epoch [8/10], Loss: 0.0068\n",
      "Epoch [9/10], Loss: 0.0066\n",
      "Epoch [10/10], Loss: 0.0064\n",
      "[0.010709056154616228, 0.009598912227337065, 0.008916114667902836, 0.008359426453878688, 0.007913510993319045, 0.007600627982402938, 0.007232219875847555, 0.006757855712886378, 0.006581185163436202, 0.006414648324079051]\n"
     ]
    }
   ],
   "source": [
    "train_error_sahbi_10 = train(num_epochs, 10 , criterion, optimizer, sahbi_batch, train_set)\n",
    "print(train_error_sahbi_10)"
   ]
  },
  {
   "cell_type": "code",
   "execution_count": 141,
   "metadata": {},
   "outputs": [
    {
     "name": "stdout",
     "output_type": "stream",
     "text": [
      "Accuracy of the model : 96.20 %\n"
     ]
    }
   ],
   "source": [
    "accuracy_cov(val_set , sahbi_batch)"
   ]
  },
  {
   "cell_type": "markdown",
   "metadata": {},
   "source": [
    "---"
   ]
  },
  {
   "cell_type": "markdown",
   "metadata": {},
   "source": [
    "---"
   ]
  },
  {
   "cell_type": "markdown",
   "metadata": {},
   "source": [
    "# Learning Rate\n"
   ]
  },
  {
   "cell_type": "markdown",
   "metadata": {},
   "source": [
    "---"
   ]
  },
  {
   "cell_type": "markdown",
   "metadata": {},
   "source": [
    "---"
   ]
  },
  {
   "cell_type": "code",
   "execution_count": 418,
   "metadata": {},
   "outputs": [],
   "source": [
    "sahbi_learning = Convolution_1()"
   ]
  },
  {
   "cell_type": "code",
   "execution_count": 419,
   "metadata": {},
   "outputs": [],
   "source": [
    "optimizer_0001 = SGD(sahbi_learning.parameters(), lr=0.001)\n",
    "optimizer_001 = SGD(sahbi_learning.parameters(), lr=0.01)\n",
    "optimizer_01 = SGD(sahbi_learning.parameters(), lr=0.1)\n",
    "optimizer_1 = SGD(sahbi_learning.parameters(), lr=1)\n",
    "optimizer_10 = SGD(sahbi_learning.parameters(), lr=10)"
   ]
  },
  {
   "cell_type": "code",
   "execution_count": 144,
   "metadata": {},
   "outputs": [
    {
     "name": "stdout",
     "output_type": "stream",
     "text": [
      "Epoch [1/10], Loss: 0.0899\n",
      "Epoch [2/10], Loss: 0.0894\n",
      "Epoch [3/10], Loss: 0.0890\n",
      "Epoch [4/10], Loss: 0.0885\n",
      "Epoch [5/10], Loss: 0.0880\n",
      "Epoch [6/10], Loss: 0.0875\n",
      "Epoch [7/10], Loss: 0.0869\n",
      "Epoch [8/10], Loss: 0.0861\n",
      "Epoch [9/10], Loss: 0.0854\n",
      "Epoch [10/10], Loss: 0.0845\n",
      "[0.089897698443383, 0.08941301579276713, 0.08896122671663764, 0.08851260635380923, 0.08801805271456642, 0.08746786376461381, 0.0868558921975392, 0.08614440137520427, 0.08535796809320649, 0.0844948653876782]\n"
     ]
    }
   ],
   "source": [
    "train_error_sahbi_lr_0001 = train(num_epochs, 5 , criterion, optimizer_0001, sahbi_learning, train_set)\n",
    "print(train_error_sahbi_lr_0001)"
   ]
  },
  {
   "cell_type": "code",
   "execution_count": 145,
   "metadata": {},
   "outputs": [
    {
     "name": "stdout",
     "output_type": "stream",
     "text": [
      "Accuracy of the model : 32.15 %\n"
     ]
    }
   ],
   "source": [
    "accuracy_cov(val_set , sahbi_learning)"
   ]
  },
  {
   "cell_type": "code",
   "execution_count": 146,
   "metadata": {},
   "outputs": [
    {
     "name": "stdout",
     "output_type": "stream",
     "text": [
      "Epoch [1/10], Loss: 0.0787\n",
      "Epoch [2/10], Loss: 0.0672\n",
      "Epoch [3/10], Loss: 0.0544\n",
      "Epoch [4/10], Loss: 0.0419\n",
      "Epoch [5/10], Loss: 0.0323\n",
      "Epoch [6/10], Loss: 0.0238\n",
      "Epoch [7/10], Loss: 0.0185\n",
      "Epoch [8/10], Loss: 0.0158\n",
      "Epoch [9/10], Loss: 0.0141\n",
      "Epoch [10/10], Loss: 0.0129\n",
      "[0.07874922897356267, 0.06717245785829913, 0.054448203338930905, 0.04189559501033126, 0.03225993776053662, 0.023800306544969032, 0.018500097631695123, 0.015762248354282457, 0.014090273286844123, 0.012935196566371196]\n"
     ]
    }
   ],
   "source": [
    "train_error_sahbi_lr_001 = train(num_epochs, 5 , criterion, optimizer_001, sahbi_learning, train_set)\n",
    "print(train_error_sahbi_lr_001)"
   ]
  },
  {
   "cell_type": "code",
   "execution_count": 147,
   "metadata": {},
   "outputs": [
    {
     "name": "stdout",
     "output_type": "stream",
     "text": [
      "Accuracy of the model : 94.04 %\n"
     ]
    }
   ],
   "source": [
    "accuracy_cov(val_set , sahbi_learning)"
   ]
  },
  {
   "cell_type": "code",
   "execution_count": 420,
   "metadata": {},
   "outputs": [
    {
     "name": "stdout",
     "output_type": "stream",
     "text": [
      "Epoch [1/10], Loss: 0.0225\n",
      "Epoch [2/10], Loss: 0.0086\n",
      "Epoch [3/10], Loss: 0.0060\n",
      "Epoch [4/10], Loss: 0.0044\n",
      "Epoch [5/10], Loss: 0.0035\n",
      "Epoch [6/10], Loss: 0.0026\n",
      "Epoch [7/10], Loss: 0.0022\n",
      "Epoch [8/10], Loss: 0.0020\n",
      "Epoch [9/10], Loss: 0.0015\n",
      "Epoch [10/10], Loss: 0.0011\n",
      "[0.02246576770913697, 0.008603099592091466, 0.005958860602644157, 0.004431784494924187, 0.003490239372153692, 0.002568189363091446, 0.002154767969863742, 0.001972029546949034, 0.0015304072173606864, 0.001099623449428183]\n"
     ]
    }
   ],
   "source": [
    "train_error_sahbi_lr_1 = train(num_epochs, 5 , criterion, optimizer_1, sahbi_learning, train_set)\n",
    "print(train_error_sahbi_lr_1)"
   ]
  },
  {
   "cell_type": "code",
   "execution_count": 421,
   "metadata": {},
   "outputs": [
    {
     "name": "stdout",
     "output_type": "stream",
     "text": [
      "Accuracy of the model : 98.22 %\n"
     ]
    }
   ],
   "source": [
    "accuracy_cov(val_set , sahbi_learning)"
   ]
  },
  {
   "cell_type": "code",
   "execution_count": 150,
   "metadata": {},
   "outputs": [
    {
     "name": "stdout",
     "output_type": "stream",
     "text": [
      "Epoch [1/10], Loss: 0.1755\n",
      "Epoch [2/10], Loss: 0.1825\n",
      "Epoch [3/10], Loss: 0.1825\n",
      "Epoch [4/10], Loss: 0.1825\n",
      "Epoch [5/10], Loss: 0.1825\n",
      "Epoch [6/10], Loss: 0.1825\n",
      "Epoch [7/10], Loss: 0.1825\n",
      "Epoch [8/10], Loss: 0.1825\n",
      "Epoch [9/10], Loss: 0.1825\n",
      "Epoch [10/10], Loss: 0.1825\n",
      "[0.17553978005016682, 0.18253333398451213, 0.18253333390379733, 0.18253333400934732, 0.18253333395967658, 0.1825333340466002, 0.1825333339969296, 0.18253333394725896, 0.1825333340838531, 0.18253333399072091]\n"
     ]
    }
   ],
   "source": [
    "train_error_sahbi_lr_10 = train(num_epochs, 5 , criterion, optimizer_10, sahbi_learning, train_set)\n",
    "print(train_error_sahbi_lr_10)"
   ]
  },
  {
   "cell_type": "code",
   "execution_count": 151,
   "metadata": {},
   "outputs": [
    {
     "name": "stdout",
     "output_type": "stream",
     "text": [
      "Accuracy of the model : 9.30 %\n"
     ]
    }
   ],
   "source": [
    "accuracy_cov(val_set , sahbi_learning)"
   ]
  },
  {
   "cell_type": "markdown",
   "metadata": {},
   "source": [
    "----"
   ]
  },
  {
   "cell_type": "markdown",
   "metadata": {},
   "source": [
    "---"
   ]
  },
  {
   "cell_type": "markdown",
   "metadata": {},
   "source": [
    "# Epochs"
   ]
  },
  {
   "cell_type": "markdown",
   "metadata": {},
   "source": [
    "---"
   ]
  },
  {
   "cell_type": "markdown",
   "metadata": {},
   "source": [
    "---"
   ]
  },
  {
   "cell_type": "code",
   "execution_count": 152,
   "metadata": {},
   "outputs": [],
   "source": [
    "sahbi_epoc = Convolution_1()"
   ]
  },
  {
   "cell_type": "code",
   "execution_count": 153,
   "metadata": {},
   "outputs": [],
   "source": [
    "optimizer_1 = SGD(sahbi_epoc.parameters(), lr=1)"
   ]
  },
  {
   "cell_type": "code",
   "execution_count": 154,
   "metadata": {},
   "outputs": [
    {
     "name": "stdout",
     "output_type": "stream",
     "text": [
      "Epoch [1/5], Loss: 0.0237\n",
      "Epoch [2/5], Loss: 0.0090\n",
      "Epoch [3/5], Loss: 0.0061\n",
      "Epoch [4/5], Loss: 0.0050\n",
      "Epoch [5/5], Loss: 0.0039\n",
      "[0.023710386653346516, 0.008971404703636455, 0.006137355953829252, 0.004993789673161708, 0.003933717518368123]\n"
     ]
    }
   ],
   "source": [
    "train_error_sahbi_epo_5 = train(5, 5 , criterion, optimizer_1, sahbi_epoc, train_set)\n",
    "print(train_error_sahbi_epo_5)"
   ]
  },
  {
   "cell_type": "code",
   "execution_count": 155,
   "metadata": {},
   "outputs": [
    {
     "name": "stdout",
     "output_type": "stream",
     "text": [
      "Accuracy of the model : 96.90 %\n"
     ]
    }
   ],
   "source": [
    "accuracy_cov(val_set , sahbi_epoc)"
   ]
  },
  {
   "cell_type": "code",
   "execution_count": 156,
   "metadata": {},
   "outputs": [
    {
     "name": "stdout",
     "output_type": "stream",
     "text": [
      "Epoch [1/20], Loss: 0.0030\n",
      "Epoch [2/20], Loss: 0.0025\n",
      "Epoch [3/20], Loss: 0.0022\n",
      "Epoch [4/20], Loss: 0.0016\n",
      "Epoch [5/20], Loss: 0.0010\n",
      "Epoch [6/20], Loss: 0.0009\n",
      "Epoch [7/20], Loss: 0.0006\n",
      "Epoch [8/20], Loss: 0.0007\n",
      "Epoch [9/20], Loss: 0.0005\n",
      "Epoch [10/20], Loss: 0.0004\n",
      "Epoch [11/20], Loss: 0.0005\n",
      "Epoch [12/20], Loss: 0.0004\n",
      "Epoch [13/20], Loss: 0.0005\n",
      "Epoch [14/20], Loss: 0.0006\n",
      "Epoch [15/20], Loss: 0.0006\n",
      "Epoch [16/20], Loss: 0.0003\n",
      "Epoch [17/20], Loss: 0.0003\n",
      "Epoch [18/20], Loss: 0.0004\n",
      "Epoch [19/20], Loss: 0.0003\n",
      "Epoch [20/20], Loss: 0.0004\n",
      "[0.0029512816154193223, 0.002494585232008877, 0.002189149657979768, 0.0016360201300449518, 0.0010358951207897053, 0.0008676208870090361, 0.0006295010653000015, 0.0006637661903387843, 0.0005165386767433517, 0.0004487465855835044, 0.0004923541299489838, 0.0004203444466085267, 0.0004631831154636227, 0.0005897174873791243, 0.0005824197072996442, 0.00031937303716160064, 0.00030769127526358414, 0.00038875982329373415, 0.00033616770942526176, 0.0003900371504016533]\n"
     ]
    }
   ],
   "source": [
    "train_error_sahbi_epo_20 = train(20, 5 , criterion, optimizer_1, sahbi_epoc, train_set)\n",
    "print(train_error_sahbi_epo_20)"
   ]
  },
  {
   "cell_type": "code",
   "execution_count": 157,
   "metadata": {},
   "outputs": [
    {
     "name": "stdout",
     "output_type": "stream",
     "text": [
      "Accuracy of the model : 97.99 %\n"
     ]
    }
   ],
   "source": [
    "accuracy_cov(val_set , sahbi_epoc)"
   ]
  },
  {
   "cell_type": "code",
   "execution_count": 158,
   "metadata": {},
   "outputs": [
    {
     "name": "stdout",
     "output_type": "stream",
     "text": [
      "Epoch [1/100], Loss: 0.0003\n",
      "Epoch [2/100], Loss: 0.0003\n",
      "Epoch [3/100], Loss: 0.0004\n",
      "Epoch [4/100], Loss: 0.0003\n",
      "Epoch [5/100], Loss: 0.0002\n",
      "Epoch [6/100], Loss: 0.0003\n",
      "Epoch [7/100], Loss: 0.0002\n",
      "Epoch [8/100], Loss: 0.0002\n",
      "Epoch [9/100], Loss: 0.0002\n",
      "Epoch [10/100], Loss: 0.0002\n",
      "Epoch [11/100], Loss: 0.0002\n",
      "Epoch [12/100], Loss: 0.0002\n",
      "Epoch [13/100], Loss: 0.0002\n",
      "Epoch [14/100], Loss: 0.0002\n",
      "Epoch [15/100], Loss: 0.0002\n",
      "Epoch [16/100], Loss: 0.0002\n",
      "Epoch [17/100], Loss: 0.0002\n",
      "Epoch [18/100], Loss: 0.0002\n",
      "Epoch [19/100], Loss: 0.0002\n",
      "Epoch [20/100], Loss: 0.0002\n",
      "Epoch [21/100], Loss: 0.0002\n",
      "Epoch [22/100], Loss: 0.0002\n",
      "Epoch [23/100], Loss: 0.0001\n",
      "Epoch [24/100], Loss: 0.0001\n",
      "Epoch [25/100], Loss: 0.0001\n",
      "Epoch [26/100], Loss: 0.0001\n",
      "Epoch [27/100], Loss: 0.0001\n",
      "Epoch [28/100], Loss: 0.0001\n",
      "Epoch [29/100], Loss: 0.0001\n",
      "Epoch [30/100], Loss: 0.0001\n",
      "Epoch [31/100], Loss: 0.0001\n",
      "Epoch [32/100], Loss: 0.0001\n",
      "Epoch [33/100], Loss: 0.0001\n",
      "Epoch [34/100], Loss: 0.0001\n",
      "Epoch [35/100], Loss: 0.0001\n",
      "Epoch [36/100], Loss: 0.0001\n",
      "Epoch [37/100], Loss: 0.0001\n",
      "Epoch [38/100], Loss: 0.0001\n",
      "Epoch [39/100], Loss: 0.0001\n",
      "Epoch [40/100], Loss: 0.0001\n",
      "Epoch [41/100], Loss: 0.0001\n",
      "Epoch [42/100], Loss: 0.0001\n",
      "Epoch [43/100], Loss: 0.0001\n",
      "Epoch [44/100], Loss: 0.0001\n",
      "Epoch [45/100], Loss: 0.0001\n",
      "Epoch [46/100], Loss: 0.0001\n",
      "Epoch [47/100], Loss: 0.0001\n",
      "Epoch [48/100], Loss: 0.0001\n",
      "Epoch [49/100], Loss: 0.0001\n",
      "Epoch [50/100], Loss: 0.0001\n",
      "Epoch [51/100], Loss: 0.0001\n",
      "Epoch [52/100], Loss: 0.0001\n",
      "Epoch [53/100], Loss: 0.0001\n",
      "Epoch [54/100], Loss: 0.0001\n",
      "Epoch [55/100], Loss: 0.0001\n",
      "Epoch [56/100], Loss: 0.0001\n",
      "Epoch [57/100], Loss: 0.0001\n",
      "Epoch [58/100], Loss: 0.0001\n",
      "Epoch [59/100], Loss: 0.0001\n",
      "Epoch [60/100], Loss: 0.0001\n",
      "Epoch [61/100], Loss: 0.0001\n",
      "Epoch [62/100], Loss: 0.0001\n",
      "Epoch [63/100], Loss: 0.0001\n",
      "Epoch [64/100], Loss: 0.0001\n",
      "Epoch [65/100], Loss: 0.0001\n",
      "Epoch [66/100], Loss: 0.0001\n",
      "Epoch [67/100], Loss: 0.0001\n",
      "Epoch [68/100], Loss: 0.0001\n",
      "Epoch [69/100], Loss: 0.0001\n",
      "Epoch [70/100], Loss: 0.0001\n",
      "Epoch [71/100], Loss: 0.0001\n",
      "Epoch [72/100], Loss: 0.0001\n",
      "Epoch [73/100], Loss: 0.0001\n",
      "Epoch [74/100], Loss: 0.0001\n",
      "Epoch [75/100], Loss: 0.0001\n",
      "Epoch [76/100], Loss: 0.0001\n",
      "Epoch [77/100], Loss: 0.0001\n",
      "Epoch [78/100], Loss: 0.0001\n",
      "Epoch [79/100], Loss: 0.0001\n",
      "Epoch [80/100], Loss: 0.0001\n",
      "Epoch [81/100], Loss: 0.0001\n",
      "Epoch [82/100], Loss: 0.0001\n",
      "Epoch [83/100], Loss: 0.0001\n",
      "Epoch [84/100], Loss: 0.0001\n",
      "Epoch [85/100], Loss: 0.0001\n",
      "Epoch [86/100], Loss: 0.0001\n",
      "Epoch [87/100], Loss: 0.0001\n",
      "Epoch [88/100], Loss: 0.0001\n",
      "Epoch [89/100], Loss: 0.0001\n",
      "Epoch [90/100], Loss: 0.0001\n",
      "Epoch [91/100], Loss: 0.0001\n",
      "Epoch [92/100], Loss: 0.0001\n",
      "Epoch [93/100], Loss: 0.0001\n",
      "Epoch [94/100], Loss: 0.0001\n",
      "Epoch [95/100], Loss: 0.0001\n",
      "Epoch [96/100], Loss: 0.0001\n",
      "Epoch [97/100], Loss: 0.0001\n",
      "Epoch [98/100], Loss: 0.0001\n",
      "Epoch [99/100], Loss: 0.0001\n",
      "Epoch [100/100], Loss: 0.0001\n",
      "[0.0003209448088747927, 0.0002735644006600719, 0.00039512717305374267, 0.0002577603414970051, 0.0002364550557058203, 0.00030902794884975557, 0.00023192275094965434, 0.00021612251154675777, 0.0002075238284094624, 0.00021306126758569, 0.00019836789183133032, 0.00021342375744031356, 0.0002192468351097478, 0.00020643127768853095, 0.00020850443960989017, 0.00021506713064913888, 0.00020828418573491428, 0.0002063973498366246, 0.00019907492835480144, 0.00020452846148119117, 0.00016481220308594042, 0.00016365403513228912, 0.00012111658413003094, 9.972525166096183e-05, 9.838581755033234e-05, 9.253208785731955e-05, 9.279303953192383e-05, 9.411328497340231e-05, 9.832617858084287e-05, 9.36447455075122e-05, 9.280750268012834e-05, 9.573379301635205e-05, 9.995672910540038e-05, 9.559406930626759e-05, 9.93993669464512e-05, 9.320940697772262e-05, 9.688134920876909e-05, 0.00010064315941676792, 9.723158799426404e-05, 9.224433791130706e-05, 9.63816408594678e-05, 9.230399791781295e-05, 9.924553534774547e-05, 9.102367985232819e-05, 9.182529561099741e-05, 9.466254447116924e-05, 9.830934842371307e-05, 9.398042743020487e-05, 9.287673897684533e-05, 9.860017652693552e-05, 9.102601570676197e-05, 9.386228341710412e-05, 9.81398184833696e-05, 9.195989164996737e-05, 9.221907620430509e-05, 9.655660054938929e-05, 9.771883816677014e-05, 8.996706649354557e-05, 9.158825140290738e-05, 9.086318581663263e-05, 9.024953762608534e-05, 9.013689080879838e-05, 9.082454845197295e-05, 8.960346594640557e-05, 9.123021426556213e-05, 9.251246698865712e-05, 9.892000067654014e-05, 9.252261090550205e-05, 9.818546801694461e-05, 9.110789869698835e-05, 9.277650395661225e-05, 9.903779092828304e-05, 9.312761165116811e-05, 9.858785290405821e-05, 9.108532261736944e-05, 9.212551961644882e-05, 9.294459192223616e-05, 9.933740196916847e-05, 9.331362345877515e-05, 9.548481962803288e-05, 9.898743145127283e-05, 9.209333494714499e-05, 9.703001242087176e-05, 9.794843375230606e-05, 8.979429098804125e-05, 9.162845977257064e-05, 9.383497521969869e-05, 9.97627547558618e-05, 9.795389875482156e-05, 9.358843601338162e-05, 9.941549817072141e-05, 9.594492656576136e-05, 9.156430199643264e-05, 9.49034877838434e-05, 9.576485827565149e-05, 9.976810025205717e-05, 9.841979407617737e-05, 9.128233524386939e-05, 9.056106810869315e-05, 9.124883716442355e-05]\n"
     ]
    }
   ],
   "source": [
    "train_error_sahbi_epo_100 = train(100, 5 , criterion, optimizer_1, sahbi_epoc, train_set)\n",
    "print(train_error_sahbi_epo_100)"
   ]
  },
  {
   "cell_type": "code",
   "execution_count": 159,
   "metadata": {},
   "outputs": [
    {
     "name": "stdout",
     "output_type": "stream",
     "text": [
      "Accuracy of the model : 98.30 %\n"
     ]
    }
   ],
   "source": [
    "accuracy_cov(val_set , sahbi_epoc)"
   ]
  },
  {
   "cell_type": "markdown",
   "metadata": {},
   "source": [
    "---"
   ]
  },
  {
   "cell_type": "markdown",
   "metadata": {},
   "source": [
    "# New Loss Function"
   ]
  },
  {
   "cell_type": "markdown",
   "metadata": {},
   "source": [
    "---"
   ]
  },
  {
   "cell_type": "code",
   "execution_count": 306,
   "metadata": {},
   "outputs": [],
   "source": [
    "class Convolution_cross(nn.Module):\n",
    "    \n",
    "    def __init__(self,input_channel = 1 , output_channel = 32 , kernel_size = 3 , height = 16 , Width = 16):\n",
    "        super(Convolution_cross, self).__init__()\n",
    "        self.l1 = nn.Conv2d(input_channel, output_channel, kernel_size , padding = 1)  # Assuming the kernel size is 16 and misunderstanding corrected\n",
    "        self.l2 = nn.Linear(output_channel * height * Width , 100)  # Assuming the output from convolution+flattening is 256 features\n",
    "        self.l3 = nn.Linear(100, 10)  # Correcting the second linear layer\n",
    "\n",
    "    def forward(self, inputs , height = 16 , Width = 16 ):\n",
    "        h1 = F.relu(self.l1(inputs))\n",
    "        h1_flattened = h1.view(h1.size(0), -1)  # Flatten the output for linear layer\n",
    "        h2 = F.relu(self.l2(h1_flattened))\n",
    "        outputs = self.l3(h2)\n",
    "        return outputs\n",
    "    "
   ]
  },
  {
   "cell_type": "code",
   "execution_count": 307,
   "metadata": {},
   "outputs": [],
   "source": [
    "cross_conv = Convolution_cross()"
   ]
  },
  {
   "cell_type": "code",
   "execution_count": null,
   "metadata": {},
   "outputs": [],
   "source": [
    "cross_conv = Convolution_cross()\n",
    "criterion = nn.CrossEntropyLoss()\n",
    "\n",
    "# Use SGD optimizer with a learning rate of 0.01\n",
    "# It is initialized on our model\n",
    "optimizer = torch.optim.SGD(cross_conv.parameters(), lr=0.1)\n"
   ]
  },
  {
   "cell_type": "code",
   "execution_count": 317,
   "metadata": {},
   "outputs": [],
   "source": [
    "cross_conv_1 = Convolution_cross()"
   ]
  },
  {
   "cell_type": "code",
   "execution_count": 318,
   "metadata": {},
   "outputs": [],
   "source": [
    "num_epochs = 10\n",
    "batch_size = 10\n",
    "\n",
    "# Use mean squared loss function \n",
    "criterion = nn.CrossEntropyLoss()\n",
    "\n",
    "# Use SGD optimizer with a learning rate of 0.01\n",
    "# It is initialized on our model\n",
    "optimizer = torch.optim.SGD(cross_conv_1.parameters(), lr=0.1)"
   ]
  },
  {
   "cell_type": "code",
   "execution_count": 347,
   "metadata": {},
   "outputs": [],
   "source": [
    "def train_Cross_Conv(num_epochs, batch_size, criterion, optimizer, model, dataset):\n",
    "    train_error = []\n",
    "    train_loader = DataLoader(dataset, batch_size=batch_size, shuffle=True)\n",
    "    model.train()  # Indicates to the network we are in training mode\n",
    "    \n",
    "    for epoch in range(num_epochs):\n",
    "        epoch_average_loss = 0.0\n",
    "        for images, labels in train_loader:\n",
    "            outputs = model(images)  # Get model predictions\n",
    "            loss = criterion(outputs, labels)  # Calculate loss\n",
    "            \n",
    "            optimizer.zero_grad()  # Set gradients to 0\n",
    "            loss.backward()  # Compute gradient\n",
    "            optimizer.step()  # Update model parameters\n",
    "            \n",
    "            epoch_average_loss += loss.item() * images.size(0) / len(dataset)\n",
    "        \n",
    "        train_error.append(epoch_average_loss)\n",
    "        print(f'Epoch [{epoch+1}/{num_epochs}], Loss: {epoch_average_loss:.4f}')\n",
    "    \n",
    "    return train_error"
   ]
  },
  {
   "cell_type": "code",
   "execution_count": 310,
   "metadata": {},
   "outputs": [
    {
     "name": "stdout",
     "output_type": "stream",
     "text": [
      "Epoch [1/100], Loss: 0.5025\n",
      "Epoch [2/100], Loss: 0.1805\n",
      "Epoch [3/100], Loss: 0.1173\n",
      "Epoch [4/100], Loss: 0.0834\n",
      "Epoch [5/100], Loss: 0.0626\n",
      "Epoch [6/100], Loss: 0.0450\n",
      "Epoch [7/100], Loss: 0.0337\n",
      "Epoch [8/100], Loss: 0.0283\n",
      "Epoch [9/100], Loss: 0.0173\n",
      "Epoch [10/100], Loss: 0.0132\n",
      "Epoch [11/100], Loss: 0.0110\n",
      "Epoch [12/100], Loss: 0.0071\n",
      "Epoch [13/100], Loss: 0.0048\n",
      "Epoch [14/100], Loss: 0.0036\n",
      "Epoch [15/100], Loss: 0.0037\n",
      "Epoch [16/100], Loss: 0.0044\n",
      "Epoch [17/100], Loss: 0.0034\n",
      "Epoch [18/100], Loss: 0.0029\n",
      "Epoch [19/100], Loss: 0.0026\n",
      "Epoch [20/100], Loss: 0.0026\n",
      "Epoch [21/100], Loss: 0.0025\n",
      "Epoch [22/100], Loss: 0.0020\n",
      "Epoch [23/100], Loss: 0.0018\n",
      "Epoch [24/100], Loss: 0.0020\n",
      "Epoch [25/100], Loss: 0.0020\n",
      "Epoch [26/100], Loss: 0.0017\n",
      "Epoch [27/100], Loss: 0.0016\n",
      "Epoch [28/100], Loss: 0.0019\n",
      "Epoch [29/100], Loss: 0.0016\n",
      "Epoch [30/100], Loss: 0.0015\n",
      "Epoch [31/100], Loss: 0.0019\n",
      "Epoch [32/100], Loss: 0.0023\n",
      "Epoch [33/100], Loss: 0.0014\n",
      "Epoch [34/100], Loss: 0.0015\n",
      "Epoch [35/100], Loss: 0.0014\n",
      "Epoch [36/100], Loss: 0.0015\n",
      "Epoch [37/100], Loss: 0.0012\n",
      "Epoch [38/100], Loss: 0.0014\n",
      "Epoch [39/100], Loss: 0.0013\n",
      "Epoch [40/100], Loss: 0.0012\n",
      "Epoch [41/100], Loss: 0.0014\n",
      "Epoch [42/100], Loss: 0.0012\n",
      "Epoch [43/100], Loss: 0.0013\n",
      "Epoch [44/100], Loss: 0.0013\n",
      "Epoch [45/100], Loss: 0.0012\n",
      "Epoch [46/100], Loss: 0.0011\n",
      "Epoch [47/100], Loss: 0.0015\n",
      "Epoch [48/100], Loss: 0.0011\n",
      "Epoch [49/100], Loss: 0.0013\n",
      "Epoch [50/100], Loss: 0.0012\n",
      "Epoch [51/100], Loss: 0.0012\n",
      "Epoch [52/100], Loss: 0.0013\n",
      "Epoch [53/100], Loss: 0.0012\n",
      "Epoch [54/100], Loss: 0.0009\n",
      "Epoch [55/100], Loss: 0.0013\n",
      "Epoch [56/100], Loss: 0.0013\n",
      "Epoch [57/100], Loss: 0.0011\n",
      "Epoch [58/100], Loss: 0.0012\n",
      "Epoch [59/100], Loss: 0.0012\n",
      "Epoch [60/100], Loss: 0.0010\n",
      "Epoch [61/100], Loss: 0.0013\n",
      "Epoch [62/100], Loss: 0.0011\n",
      "Epoch [63/100], Loss: 0.0010\n",
      "Epoch [64/100], Loss: 0.0011\n",
      "Epoch [65/100], Loss: 0.0011\n",
      "Epoch [66/100], Loss: 0.0010\n",
      "Epoch [67/100], Loss: 0.0012\n",
      "Epoch [68/100], Loss: 0.0011\n",
      "Epoch [69/100], Loss: 0.0011\n",
      "Epoch [70/100], Loss: 0.0010\n",
      "Epoch [71/100], Loss: 0.0012\n",
      "Epoch [72/100], Loss: 0.0011\n",
      "Epoch [73/100], Loss: 0.0010\n",
      "Epoch [74/100], Loss: 0.0011\n",
      "Epoch [75/100], Loss: 0.0011\n",
      "Epoch [76/100], Loss: 0.0009\n",
      "Epoch [77/100], Loss: 0.0011\n",
      "Epoch [78/100], Loss: 0.0011\n",
      "Epoch [79/100], Loss: 0.0010\n",
      "Epoch [80/100], Loss: 0.0012\n",
      "Epoch [81/100], Loss: 0.0009\n",
      "Epoch [82/100], Loss: 0.0010\n",
      "Epoch [83/100], Loss: 0.0012\n",
      "Epoch [84/100], Loss: 0.0010\n",
      "Epoch [85/100], Loss: 0.0012\n",
      "Epoch [86/100], Loss: 0.0009\n",
      "Epoch [87/100], Loss: 0.0010\n",
      "Epoch [88/100], Loss: 0.0011\n",
      "Epoch [89/100], Loss: 0.0008\n",
      "Epoch [90/100], Loss: 0.0009\n",
      "Epoch [91/100], Loss: 0.0012\n",
      "Epoch [92/100], Loss: 0.0009\n",
      "Epoch [93/100], Loss: 0.0009\n",
      "Epoch [94/100], Loss: 0.0011\n",
      "Epoch [95/100], Loss: 0.0010\n",
      "Epoch [96/100], Loss: 0.0009\n",
      "Epoch [97/100], Loss: 0.0012\n",
      "Epoch [98/100], Loss: 0.0010\n",
      "Epoch [99/100], Loss: 0.0008\n",
      "Epoch [100/100], Loss: 0.0010\n"
     ]
    }
   ],
   "source": [
    "train_error_Cross_1 = train_Cross_Conv(100,10,criterion,optimizer,cross_conv,train_set)"
   ]
  },
  {
   "cell_type": "code",
   "execution_count": 311,
   "metadata": {},
   "outputs": [
    {
     "name": "stdout",
     "output_type": "stream",
     "text": [
      "Accuracy of the model : 98.30 %\n"
     ]
    }
   ],
   "source": [
    "acc = accuracy_cov(val_set , cross_conv)"
   ]
  },
  {
   "cell_type": "code",
   "execution_count": 319,
   "metadata": {},
   "outputs": [
    {
     "name": "stdout",
     "output_type": "stream",
     "text": [
      "Epoch [1/10], Loss: 0.4285\n",
      "Epoch [2/10], Loss: 0.1619\n",
      "Epoch [3/10], Loss: 0.1005\n",
      "Epoch [4/10], Loss: 0.0716\n",
      "Epoch [5/10], Loss: 0.0546\n",
      "Epoch [6/10], Loss: 0.0419\n",
      "Epoch [7/10], Loss: 0.0264\n",
      "Epoch [8/10], Loss: 0.0228\n",
      "Epoch [9/10], Loss: 0.0178\n",
      "Epoch [10/10], Loss: 0.0100\n"
     ]
    }
   ],
   "source": [
    "train_error_Cross_2 = train_Cross_Conv(10,batch_size,criterion,optimizer,cross_conv_1,train_set)"
   ]
  },
  {
   "cell_type": "code",
   "execution_count": 320,
   "metadata": {},
   "outputs": [
    {
     "name": "stdout",
     "output_type": "stream",
     "text": [
      "Accuracy of the model : 97.91 %\n"
     ]
    }
   ],
   "source": [
    "acc = accuracy_cov(val_set , cross_conv_1)"
   ]
  },
  {
   "cell_type": "markdown",
   "metadata": {},
   "source": [
    "---"
   ]
  },
  {
   "cell_type": "markdown",
   "metadata": {},
   "source": [
    "# Activation"
   ]
  },
  {
   "cell_type": "markdown",
   "metadata": {},
   "source": [
    "---"
   ]
  },
  {
   "cell_type": "markdown",
   "metadata": {},
   "source": [
    "Try different activation functions such as [sigmoid](https://pytorch.org/docs/stable/nn.functional.html#torch.nn.functional.sigmoid), [tanh](https://pytorch.org/docs/stable/nn.functional.html#torch.nn.functional.tanh), [relu](https://pytorch.org/docs/stable/nn.functional.html#torch.nn.functional.relu), etc."
   ]
  },
  {
   "cell_type": "code",
   "execution_count": 375,
   "metadata": {},
   "outputs": [],
   "source": [
    "class TriLayer_tan(nn.Module):\n",
    "    \n",
    "    def __init__(self):\n",
    "        super(TriLayer_tan, self).__init__()\n",
    "        # We allocate space for the weights\n",
    "        self.l1 = nn.Linear(16*16, 80)\n",
    "        self.l2 = nn.Linear(80, 20)\n",
    "        self.l3 = nn.Linear(20, 10)\n",
    "        # Input size is 16*16, output size should be the same with the number of classes\n",
    "        \n",
    "    def forward(self, inputs): # Called when we apply the network \n",
    "        h1 = F.tanh(self.l1(inputs)) # You can put anything, as long as its Pytorch functions\n",
    "        h2 = F.tanh(self.l2(h1))\n",
    "        outputs = F.softmax(self.l3(h2), dim=1)# Use softmax as the activation function for the last layer\n",
    "        return outputs"
   ]
  },
  {
   "cell_type": "code",
   "execution_count": 322,
   "metadata": {},
   "outputs": [],
   "source": [
    "class TriLayer_sig(nn.Module):\n",
    "    \n",
    "    def __init__(self):\n",
    "        super(TriLayer_tan, self).__init__()\n",
    "        # We allocate space for the weights\n",
    "        self.l1 = nn.Linear(16*16, 80)\n",
    "        self.l2 = nn.Linear(80, 20)\n",
    "        self.l3 = nn.Linear(20, 10)\n",
    "        # Input size is 16*16, output size should be the same with the number of classes\n",
    "        \n",
    "    def forward(self, inputs): # Called when we apply the network \n",
    "        h1 = F.sigmoid(self.l1(inputs)) # You can put anything, as long as its Pytorch functions\n",
    "        h2 = F.sigmoi(self.l2(h1))\n",
    "        outputs = F.softmax(self.l3(h2), dim=1)# Use softmax as the activation function for the last layer\n",
    "        return outputs"
   ]
  },
  {
   "cell_type": "code",
   "execution_count": 324,
   "metadata": {},
   "outputs": [],
   "source": [
    "class Convolution_cross(nn.Module):\n",
    "    \n",
    "    def __init__(self,input_channel = 1 , output_channel = 32 , kernel_size = 3 , height = 16 , Width = 16):\n",
    "        super(Convolution_cross, self).__init__()\n",
    "        self.l1 = nn.Conv2d(input_channel, output_channel, kernel_size , padding = 1)  # Assuming the kernel size is 16 and misunderstanding corrected\n",
    "        self.l2 = nn.Linear(output_channel * height * Width , 100)  # Assuming the output from convolution+flattening is 256 features\n",
    "        self.l3 = nn.Linear(100, 10)  # Correcting the second linear layer\n",
    "\n",
    "    def forward(self, inputs , height = 16 , Width = 16 ):\n",
    "        h1 = F.relu(self.l1(inputs))\n",
    "        h1_flattened = h1.view(h1.size(0), -1)  # Flatten the output for linear layer\n",
    "        h2 = F.relu(self.l2(h1_flattened))\n",
    "        outputs = self.l3(h2)\n",
    "        return outputs\n",
    "    \n",
    "    "
   ]
  },
  {
   "cell_type": "code",
   "execution_count": 368,
   "metadata": {},
   "outputs": [],
   "source": [
    "class Convolution_cross_sig(nn.Module):\n",
    "    \n",
    "    def __init__(self,input_channel = 1 , output_channel = 32 , kernel_size = 3 , height = 16 , Width = 16):\n",
    "        super(Convolution_cross_sig, self).__init__()\n",
    "        self.l1 = nn.Conv2d(input_channel, output_channel, kernel_size , padding = 1)  # Assuming the kernel size is 16 and misunderstanding corrected\n",
    "        self.l2 = nn.Linear(output_channel * height * Width , 100)  # Assuming the output from convolution+flattening is 256 features\n",
    "        self.l3 = nn.Linear(100, 10)  # Correcting the second linear layer\n",
    "\n",
    "    def forward(self, inputs , height = 16 , Width = 16 ):\n",
    "        h1 = F.sigmoid(self.l1(inputs))\n",
    "        h1_flattened = h1.view(h1.size(0), -1)  # Flatten the output for linear layer\n",
    "        h2 = F.sigmoid(self.l2(h1_flattened))\n",
    "        outputs = self.l3(h2)\n",
    "        return outputs\n",
    "    "
   ]
  },
  {
   "cell_type": "code",
   "execution_count": 369,
   "metadata": {},
   "outputs": [],
   "source": [
    "class Convolution_softmax_tanh(nn.Module):\n",
    "    \n",
    "    def __init__(self,input_channel = 1 , output_channel = 32 , kernel_size = 3 , height = 16 , Width = 16):\n",
    "        super(Convolution_softmax_tanh, self).__init__()\n",
    "        self.l1 = nn.Conv2d(input_channel, output_channel, kernel_size , padding = 1)  # Assuming the kernel size is 16 and misunderstanding corrected\n",
    "        self.l2 = nn.Linear(output_channel * height * Width , 100)  # Assuming the output from convolution+flattening is 256 features\n",
    "        self.l3 = nn.Linear(100, 10)  # Correcting the second linear layer\n",
    "\n",
    "    def forward(self, inputs , height = 16 , Width = 16):\n",
    "        h1 = F.tanh(self.l1(inputs))\n",
    "        h1_flattened = h1.view(h1.size(0), -1)  # Flatten the output for linear layer\n",
    "        h2 = F.tanh(self.l2(h1_flattened))\n",
    "        outputs = F.softmax(self.l3(h2), dim=1)\n",
    "        return outputs"
   ]
  },
  {
   "cell_type": "code",
   "execution_count": 401,
   "metadata": {},
   "outputs": [],
   "source": [
    "convolution_softmax_tanh = Convolution_softmax_tanh()"
   ]
  },
  {
   "cell_type": "code",
   "execution_count": 402,
   "metadata": {},
   "outputs": [],
   "source": [
    "convolution_cross_sig = Convolution_cross_sig()"
   ]
  },
  {
   "cell_type": "code",
   "execution_count": 399,
   "metadata": {},
   "outputs": [],
   "source": [
    "criterion_cross = nn.CrossEntropyLoss()"
   ]
  },
  {
   "cell_type": "code",
   "execution_count": 403,
   "metadata": {},
   "outputs": [],
   "source": [
    "optimizer = torch.optim.SGD(convolution_softmax_tanh.parameters(), lr=0.001)"
   ]
  },
  {
   "cell_type": "code",
   "execution_count": 386,
   "metadata": {},
   "outputs": [],
   "source": [
    "optimizer = torch.optim.SGD(convolution_softmax_tanh.parameters(), lr=0.1)"
   ]
  },
  {
   "cell_type": "code",
   "execution_count": 387,
   "metadata": {},
   "outputs": [],
   "source": [
    "def train_Cross_Conv(num_epochs, batch_size, criterion, optimizer, model, dataset):\n",
    "    train_error = []\n",
    "    train_loader = DataLoader(dataset, batch_size=batch_size, shuffle=True)\n",
    "    model.train()  # Indicates to the network we are in training mode\n",
    "    \n",
    "    for epoch in range(num_epochs):\n",
    "        epoch_average_loss = 0.0\n",
    "        for images, labels in train_loader:\n",
    "            outputs = model(images)  # Get model predictions\n",
    "            loss = criterion(outputs, labels)  # Calculate loss\n",
    "            \n",
    "            optimizer.zero_grad()  # Set gradients to 0\n",
    "            loss.backward()  # Compute gradient\n",
    "            optimizer.step()  # Update model parameters\n",
    "            \n",
    "            epoch_average_loss += loss.item() * images.size(0) / len(dataset)\n",
    "        \n",
    "        train_error.append(epoch_average_loss)\n",
    "        print(f'Epoch [{epoch+1}/{num_epochs}], Loss: {epoch_average_loss:.4f}')\n",
    "    \n",
    "    return train_error"
   ]
  },
  {
   "cell_type": "code",
   "execution_count": 404,
   "metadata": {},
   "outputs": [
    {
     "name": "stdout",
     "output_type": "stream",
     "text": [
      "Epoch [1/10], Loss: 2.2859\n",
      "Epoch [2/10], Loss: 2.2308\n",
      "Epoch [3/10], Loss: 2.1780\n",
      "Epoch [4/10], Loss: 2.1466\n",
      "Epoch [5/10], Loss: 2.1258\n",
      "Epoch [6/10], Loss: 2.1043\n",
      "Epoch [7/10], Loss: 2.0811\n",
      "Epoch [8/10], Loss: 2.0565\n",
      "Epoch [9/10], Loss: 2.0298\n",
      "Epoch [10/10], Loss: 2.0005\n"
     ]
    },
    {
     "data": {
      "text/plain": [
       "[2.285905798276267,\n",
       " 2.230838228464126,\n",
       " 2.178030983606977,\n",
       " 2.1465788970390975,\n",
       " 2.125807711879414,\n",
       " 2.1043396518627815,\n",
       " 2.0811383301019655,\n",
       " 2.056492605606716,\n",
       " 2.029774352312087,\n",
       " 2.0005156920353575]"
      ]
     },
     "execution_count": 404,
     "metadata": {},
     "output_type": "execute_result"
    }
   ],
   "source": [
    "train_Cross_Conv(10, 10 , criterion_cross , optimizer , convolution_softmax_tanh , train_set)"
   ]
  },
  {
   "cell_type": "code",
   "execution_count": 405,
   "metadata": {},
   "outputs": [
    {
     "name": "stdout",
     "output_type": "stream",
     "text": [
      "Accuracy of the model : 61.12 %\n"
     ]
    }
   ],
   "source": [
    "acc = accuracy_cov(val_set , convolution_softmax_tanh)"
   ]
  },
  {
   "cell_type": "code",
   "execution_count": 394,
   "metadata": {},
   "outputs": [],
   "source": [
    "triLayer_tan = TriLayer_tan()"
   ]
  },
  {
   "cell_type": "code",
   "execution_count": 395,
   "metadata": {},
   "outputs": [],
   "source": [
    "\n",
    "optimizer = torch.optim.SGD(triLayer_tan.parameters(), lr=0.1)\n"
   ]
  },
  {
   "cell_type": "code",
   "execution_count": 396,
   "metadata": {},
   "outputs": [],
   "source": [
    "criterion = nn.MSELoss()"
   ]
  },
  {
   "cell_type": "code",
   "execution_count": 397,
   "metadata": {},
   "outputs": [
    {
     "name": "stdout",
     "output_type": "stream",
     "text": [
      "Epoch [1/10], Loss: 0.0878\n",
      "Epoch [2/10], Loss: 0.0781\n",
      "Epoch [3/10], Loss: 0.0679\n",
      "Epoch [4/10], Loss: 0.0611\n",
      "Epoch [5/10], Loss: 0.0525\n",
      "Epoch [6/10], Loss: 0.0429\n",
      "Epoch [7/10], Loss: 0.0358\n",
      "Epoch [8/10], Loss: 0.0311\n",
      "Epoch [9/10], Loss: 0.0271\n",
      "Epoch [10/10], Loss: 0.0238\n",
      "[0.08777448233217, 0.07811578550065555, 0.06793316006039579, 0.06105818537684779, 0.05246636805745466, 0.04285655839834364, 0.035836851834319526, 0.03105270450391497, 0.027121211736230198, 0.02379346482804977]\n"
     ]
    }
   ],
   "source": [
    "train_error_tanh = train_linear(num_epochs, batch_size , criterion, optimizer, triLayer_tan, train_set)\n",
    "print(train_error_tanh)"
   ]
  },
  {
   "cell_type": "code",
   "execution_count": 408,
   "metadata": {},
   "outputs": [
    {
     "name": "stdout",
     "output_type": "stream",
     "text": [
      "Accuracy of the model : 88.46 %\n"
     ]
    }
   ],
   "source": [
    "acc = accuracy_linear(val_set , triLayer_tan)"
   ]
  },
  {
   "cell_type": "markdown",
   "metadata": {},
   "source": [
    "---"
   ]
  },
  {
   "cell_type": "markdown",
   "metadata": {},
   "source": [
    "### Exercise 2: Impact of the optimizer\n",
    "Retrain the model by using different parameters of the optimizer; you can change its parameters in the cell initializing it, after the definition of your model.\n",
    "\n",
    "* Use different batch sizes, from 10 to 1 000 for instance\n",
    "* Try different values of the learning rate (between 0.001 and 10), and see how these impact the training process. Do all network architectures react the same way to different learning rates?\n",
    "* Change the duration of the training by increasing the number of epochs\n",
    "* Try other optimizers, such as [Adam](https://pytorch.org/docs/stable/optim.html?highlight=adam#torch.optim.Adam) or [RMSprop](https://pytorch.org/docs/stable/optim.html?highlight=rmsprop#torch.optim.RMSprop)"
   ]
  },
  {
   "cell_type": "markdown",
   "metadata": {},
   "source": [
    "### Exercise 3: Impact of the loss function\n",
    "The MSE error is rarely used in this case. The cross entropy loss can be a better choice for multi-classification problems. In pytorch, the cross entropy loss is defined by [nn.CrossEntropyLoss](https://pytorch.org/docs/stable/nn.html#crossentropyloss). Replace the MSE loss by this one to observe its impact.\n",
    "\n",
    "**Note:** In order to use nn.CrossEntropyLoss correctly, don't add an activation function to the last layer of your network. And one-hot encoding is no longer needed to calculate the loss, delete the encoding procedures in function `train`.   "
   ]
  },
  {
   "cell_type": "markdown",
   "metadata": {},
   "source": [
    "### Exercise 4: Prediction on test set\n",
    "\n",
    "Once you have a model that seems satisfying on the validation dataset, you SHOULD evaluate it on a test dataset that has never been used before, to obtain a final accuracy value."
   ]
  },
  {
   "cell_type": "code",
   "execution_count": 409,
   "metadata": {},
   "outputs": [
    {
     "data": {
      "text/plain": [
       "1831726"
      ]
     },
     "execution_count": 409,
     "metadata": {},
     "output_type": "execute_result"
    }
   ],
   "source": [
    "url = 'http://www.csie.ntu.edu.tw/~cjlin/libsvmtools/datasets/multiclass/usps.t.bz2'\n",
    "r = requests.get(url, allow_redirects=True)\n",
    "open('USPS/usps.t.bz2', 'wb').write(r.content)"
   ]
  },
  {
   "cell_type": "code",
   "execution_count": 410,
   "metadata": {},
   "outputs": [],
   "source": [
    "# Loading MNIST test set from torchvision.dataset\n",
    "test_set = torchvision.datasets.USPS(root='USPS/',\n",
    "                                         train=False,\n",
    "                                         transform=transforms.ToTensor(),\n",
    "                                         download=False)"
   ]
  },
  {
   "cell_type": "code",
   "execution_count": 411,
   "metadata": {},
   "outputs": [
    {
     "name": "stdout",
     "output_type": "stream",
     "text": [
      "Accuracy of the model : 94.52 %\n"
     ]
    }
   ],
   "source": [
    "accuracy(test_set, sahbi)"
   ]
  },
  {
   "cell_type": "code",
   "execution_count": 412,
   "metadata": {},
   "outputs": [
    {
     "name": "stdout",
     "output_type": "stream",
     "text": [
      "Accuracy of the model : 82.81 %\n"
     ]
    }
   ],
   "source": [
    "accuracy_linear(test_set , triLayer_tan)"
   ]
  },
  {
   "cell_type": "code",
   "execution_count": 413,
   "metadata": {},
   "outputs": [
    {
     "name": "stdout",
     "output_type": "stream",
     "text": [
      "Accuracy of the model : 57.80 %\n"
     ]
    }
   ],
   "source": [
    "accuracy(test_set , convolution_softmax_tanh)"
   ]
  },
  {
   "cell_type": "code",
   "execution_count": 414,
   "metadata": {},
   "outputs": [
    {
     "name": "stdout",
     "output_type": "stream",
     "text": [
      "Accuracy of the model : 94.17 %\n"
     ]
    }
   ],
   "source": [
    "accuracy(test_set , cross_conv_1)"
   ]
  },
  {
   "cell_type": "code",
   "execution_count": 415,
   "metadata": {},
   "outputs": [
    {
     "name": "stdout",
     "output_type": "stream",
     "text": [
      "Accuracy of the model : 94.87 %\n"
     ]
    }
   ],
   "source": [
    "accuracy(test_set , cross_conv)"
   ]
  },
  {
   "cell_type": "code",
   "execution_count": 422,
   "metadata": {},
   "outputs": [
    {
     "name": "stdout",
     "output_type": "stream",
     "text": [
      "Accuracy of the model : 94.67 %\n"
     ]
    }
   ],
   "source": [
    "accuracy(test_set , sahbi_learning)"
   ]
  }
 ],
 "metadata": {
  "kernelspec": {
   "display_name": "Python 3 (ipykernel)",
   "language": "python",
   "name": "python3"
  },
  "language_info": {
   "codemirror_mode": {
    "name": "ipython",
    "version": 3
   },
   "file_extension": ".py",
   "mimetype": "text/x-python",
   "name": "python",
   "nbconvert_exporter": "python",
   "pygments_lexer": "ipython3",
   "version": "3.8.0rc1"
  },
  "vscode": {
   "interpreter": {
    "hash": "ba5ba4c049791c3047b698a7cd400296017c86ac9307a8bdfda620d9863f10c7"
   }
  }
 },
 "nbformat": 4,
 "nbformat_minor": 2
}
